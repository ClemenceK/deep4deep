{
 "cells": [
  {
   "cell_type": "code",
   "execution_count": 1,
   "metadata": {
    "ExecuteTime": {
     "end_time": "2020-12-11T13:28:14.198552Z",
     "start_time": "2020-12-11T13:28:14.047528Z"
    }
   },
   "outputs": [],
   "source": [
    "import requests"
   ]
  },
  {
   "cell_type": "code",
   "execution_count": 2,
   "metadata": {
    "ExecuteTime": {
     "end_time": "2020-12-11T13:28:14.658857Z",
     "start_time": "2020-12-11T13:28:14.649855Z"
    }
   },
   "outputs": [],
   "source": [
    "url = \"https://text-deeptech-2w2uaoep4a-ew.a.run.app/pred\"\n",
    "params = {\"company_descriptions\": \n",
    "          {\"Alice&Bob\": \"We build Universal, Error-free, Quantum Computers to help industries and researchers solve the hardest problems\",\n",
    "           \"Flying Whales\": \"Developing the 'Large Capacity Airship 60 tons' for low-cost, point-to-point transport of heavy or bulky loads\",\n",
    "           \"Doctolib\": \"An appointment online to a doctor or dentist\",\n",
    "           \"Le_Wagon\": \"A coding bootcamp that teaches students to develop web applications from scratch.\"}}"
   ]
  },
  {
   "cell_type": "code",
   "execution_count": 3,
   "metadata": {
    "ExecuteTime": {
     "end_time": "2020-12-11T13:34:20.437526Z",
     "start_time": "2020-12-11T13:28:15.434798Z"
    }
   },
   "outputs": [
    {
     "data": {
      "text/plain": [
       "{'Alice&Bob': 0.7481144666671753,\n",
       " 'Flying Whales': 0.5127061009407043,\n",
       " 'Doctolib': 0.07383999973535538,\n",
       " 'Le_Wagon': 0.4659561812877655}"
      ]
     },
     "execution_count": 3,
     "metadata": {},
     "output_type": "execute_result"
    }
   ],
   "source": [
    "response = requests.post(url, json=params)\n",
    "response.json()"
   ]
  },
  {
   "cell_type": "code",
   "execution_count": null,
   "metadata": {},
   "outputs": [],
   "source": []
  }
 ],
 "metadata": {
  "kernelspec": {
   "display_name": "Python 3",
   "language": "python",
   "name": "python3"
  },
  "language_info": {
   "codemirror_mode": {
    "name": "ipython",
    "version": 3
   },
   "file_extension": ".py",
   "mimetype": "text/x-python",
   "name": "python",
   "nbconvert_exporter": "python",
   "pygments_lexer": "ipython3",
   "version": "3.8.5"
  },
  "toc": {
   "base_numbering": 1,
   "nav_menu": {},
   "number_sections": true,
   "sideBar": true,
   "skip_h1_title": false,
   "title_cell": "Table of Contents",
   "title_sidebar": "Contents",
   "toc_cell": false,
   "toc_position": {},
   "toc_section_display": true,
   "toc_window_display": false
  }
 },
 "nbformat": 4,
 "nbformat_minor": 4
}
