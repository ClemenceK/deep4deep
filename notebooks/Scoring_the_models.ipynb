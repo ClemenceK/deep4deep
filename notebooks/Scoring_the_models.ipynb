{
 "cells": [
  {
   "cell_type": "code",
   "execution_count": 1,
   "metadata": {
    "ExecuteTime": {
     "end_time": "2020-12-12T08:37:43.423075Z",
     "start_time": "2020-12-12T08:37:43.383543Z"
    }
   },
   "outputs": [],
   "source": [
    "%load_ext autoreload\n",
    "%autoreload 2"
   ]
  },
  {
   "cell_type": "markdown",
   "metadata": {},
   "source": [
    "-----\n",
    "# Imports"
   ]
  },
  {
   "cell_type": "code",
   "execution_count": 18,
   "metadata": {
    "ExecuteTime": {
     "end_time": "2020-12-12T08:41:13.244848Z",
     "start_time": "2020-12-12T08:41:13.186055Z"
    }
   },
   "outputs": [],
   "source": [
    "import pandas as pd\n",
    "import numpy as np\n",
    "\n",
    "from deep4deep.utils_w2v_rnn import make_X_check2, my_metrics"
   ]
  },
  {
   "cell_type": "markdown",
   "metadata": {},
   "source": [
    "---\n",
    "# Preparing data for scoring"
   ]
  },
  {
   "cell_type": "markdown",
   "metadata": {
    "ExecuteTime": {
     "end_time": "2020-12-12T08:37:46.858035Z",
     "start_time": "2020-12-12T08:37:46.810799Z"
    }
   },
   "source": [
    "The files \"results.csv\" have been obtained by running the `preparing_results` function, \n",
    "in the \"__main__\", of trainer.py: \n",
    "\n",
    "`python -m deep4deep.trainer`\n",
    "\n",
    "with the needed local files of data"
   ]
  },
  {
   "cell_type": "code",
   "execution_count": 4,
   "metadata": {
    "ExecuteTime": {
     "end_time": "2020-12-12T08:37:49.641560Z",
     "start_time": "2020-12-12T08:37:49.582728Z"
    }
   },
   "outputs": [],
   "source": [
    "# reading the NLP results\n",
    "my_path = \"../raw_data/data_cross_val/\"\n",
    "results_1 = pd.read_csv(my_path+\"results_1.csv\")\n",
    "results_2 = pd.read_csv(my_path+\"results_2.csv\")\n",
    "results_3 = pd.read_csv(my_path+\"results_3.csv\")"
   ]
  },
  {
   "cell_type": "code",
   "execution_count": 5,
   "metadata": {
    "ExecuteTime": {
     "end_time": "2020-12-12T08:37:51.049116Z",
     "start_time": "2020-12-12T08:37:50.943010Z"
    }
   },
   "outputs": [
    {
     "data": {
      "text/html": [
       "<div>\n",
       "<style scoped>\n",
       "    .dataframe tbody tr th:only-of-type {\n",
       "        vertical-align: middle;\n",
       "    }\n",
       "\n",
       "    .dataframe tbody tr th {\n",
       "        vertical-align: top;\n",
       "    }\n",
       "\n",
       "    .dataframe thead th {\n",
       "        text-align: right;\n",
       "    }\n",
       "</style>\n",
       "<table border=\"1\" class=\"dataframe\">\n",
       "  <thead>\n",
       "    <tr style=\"text-align: right;\">\n",
       "      <th></th>\n",
       "      <th>id</th>\n",
       "      <th>name</th>\n",
       "      <th>target</th>\n",
       "      <th>y_pred_NLP</th>\n",
       "    </tr>\n",
       "  </thead>\n",
       "  <tbody>\n",
       "    <tr>\n",
       "      <th>0</th>\n",
       "      <td>890957</td>\n",
       "      <td>Swile (ex-Lunchr)</td>\n",
       "      <td>0.0</td>\n",
       "      <td>0.185844</td>\n",
       "    </tr>\n",
       "    <tr>\n",
       "      <th>1</th>\n",
       "      <td>908268</td>\n",
       "      <td>Imcheck Therapeutics</td>\n",
       "      <td>1.0</td>\n",
       "      <td>0.716118</td>\n",
       "    </tr>\n",
       "    <tr>\n",
       "      <th>2</th>\n",
       "      <td>867275</td>\n",
       "      <td>Kemwatt</td>\n",
       "      <td>1.0</td>\n",
       "      <td>0.932568</td>\n",
       "    </tr>\n",
       "  </tbody>\n",
       "</table>\n",
       "</div>"
      ],
      "text/plain": [
       "       id                  name  target  y_pred_NLP\n",
       "0  890957     Swile (ex-Lunchr)     0.0    0.185844\n",
       "1  908268  Imcheck Therapeutics     1.0    0.716118\n",
       "2  867275               Kemwatt     1.0    0.932568"
      ]
     },
     "execution_count": 5,
     "metadata": {},
     "output_type": "execute_result"
    }
   ],
   "source": [
    "results_1.head(3)"
   ]
  },
  {
   "cell_type": "code",
   "execution_count": 6,
   "metadata": {
    "ExecuteTime": {
     "end_time": "2020-12-12T08:37:56.139700Z",
     "start_time": "2020-12-12T08:37:56.071004Z"
    }
   },
   "outputs": [],
   "source": [
    "# Adding the main model predictions on the same three sets\n",
    "main_model_path = \"../raw_data/data_cross_val/y_pred_(RandomForest)/\"\n",
    "y_pred_forest_1 = pd.read_csv(main_model_path+\"y_pred1.csv\")\n",
    "y_pred_forest_2 = pd.read_csv(main_model_path+\"y_pred2.csv\")\n",
    "y_pred_forest_3 = pd.read_csv(main_model_path+\"y_pred3.csv\")"
   ]
  },
  {
   "cell_type": "code",
   "execution_count": 7,
   "metadata": {
    "ExecuteTime": {
     "end_time": "2020-12-12T08:37:57.209955Z",
     "start_time": "2020-12-12T08:37:57.158804Z"
    }
   },
   "outputs": [],
   "source": [
    "# '1' is just the name of the column with probability of is_deeptech being 1, i.e. True\n",
    "results_1['y_pred_forest'] = y_pred_forest_1['1']\n",
    "results_2['y_pred_forest'] = y_pred_forest_2['1']\n",
    "results_3['y_pred_forest'] = y_pred_forest_3['1']"
   ]
  },
  {
   "cell_type": "markdown",
   "metadata": {},
   "source": [
    "---\n",
    "# Computing the NLP only scores"
   ]
  },
  {
   "cell_type": "code",
   "execution_count": 8,
   "metadata": {
    "ExecuteTime": {
     "end_time": "2020-12-12T08:38:02.289728Z",
     "start_time": "2020-12-12T08:38:01.343093Z"
    },
    "scrolled": true
   },
   "outputs": [
    {
     "name": "stdout",
     "output_type": "stream",
     "text": [
      "accuracy: 79.55 %\n",
      "precision: 83.61 %\n",
      "recall: 71.83 %\n",
      "f1: 77.27 %\n",
      "Confusion matrix\n"
     ]
    },
    {
     "data": {
      "image/png": "[encoded data removed]",
      "text/plain": [
       "<Figure size 432x288 with 2 Axes>"
      ]
     },
     "metadata": {
      "needs_background": "light"
     },
     "output_type": "display_data"
    },
    {
     "name": "stdout",
     "output_type": "stream",
     "text": [
      "80.0\t84.0\t72.0\t77.0\n",
      "accuracy: 74.77 %\n",
      "precision: 75.50 %\n",
      "recall: 70.89 %\n",
      "f1: 73.12 %\n",
      "Confusion matrix\n"
     ]
    },
    {
     "data": {
      "image/png": "[encoded data removed]",
      "text/plain": [
       "<Figure size 432x288 with 2 Axes>"
      ]
     },
     "metadata": {
      "needs_background": "light"
     },
     "output_type": "display_data"
    },
    {
     "name": "stdout",
     "output_type": "stream",
     "text": [
      "75.0\t76.0\t71.0\t73.0\n",
      "accuracy: 77.73 %\n",
      "precision: 79.79 %\n",
      "recall: 72.30 %\n",
      "f1: 75.86 %\n",
      "Confusion matrix\n"
     ]
    },
    {
     "data": {
      "image/png": "[encoded data removed]",
      "text/plain": [
       "<Figure size 432x288 with 2 Axes>"
      ]
     },
     "metadata": {
      "needs_background": "light"
     },
     "output_type": "display_data"
    },
    {
     "name": "stdout",
     "output_type": "stream",
     "text": [
      "78.0\t80.0\t72.0\t76.0\n"
     ]
    }
   ],
   "source": [
    "# using make_X_check2 function to compute metrics and convert a float to binary\n",
    "# here y_pred_binary refers to the NLP prediction\n",
    "NLP_d1 = my_metrics(make_X_check2(results_1, name_for_y_pred='y_pred_NLP'))\n",
    "NLP_d2 = my_metrics(make_X_check2(results_2, name_for_y_pred='y_pred_NLP'))\n",
    "NLP_d3 = my_metrics(make_X_check2(results_3, name_for_y_pred='y_pred_NLP'))\n",
    "\n",
    "# the make_X_check2 function displays the metrics and the confusion matrix for each of its run, on top of returning \n",
    "# a dictionnary of metrics. Hiding ouput for subsequent runs"
   ]
  },
  {
   "cell_type": "code",
   "execution_count": 9,
   "metadata": {
    "ExecuteTime": {
     "end_time": "2020-12-12T08:38:04.156716Z",
     "start_time": "2020-12-12T08:38:04.088563Z"
    }
   },
   "outputs": [
    {
     "data": {
      "text/html": [
       "<div>\n",
       "<style scoped>\n",
       "    .dataframe tbody tr th:only-of-type {\n",
       "        vertical-align: middle;\n",
       "    }\n",
       "\n",
       "    .dataframe tbody tr th {\n",
       "        vertical-align: top;\n",
       "    }\n",
       "\n",
       "    .dataframe thead th {\n",
       "        text-align: right;\n",
       "    }\n",
       "</style>\n",
       "<table border=\"1\" class=\"dataframe\">\n",
       "  <thead>\n",
       "    <tr style=\"text-align: right;\">\n",
       "      <th></th>\n",
       "      <th>id</th>\n",
       "      <th>name</th>\n",
       "      <th>target</th>\n",
       "      <th>y_pred_NLP</th>\n",
       "      <th>y_pred_forest</th>\n",
       "      <th>y_pred_binary</th>\n",
       "      <th>TP</th>\n",
       "      <th>TN</th>\n",
       "      <th>FP</th>\n",
       "      <th>FN</th>\n",
       "    </tr>\n",
       "  </thead>\n",
       "  <tbody>\n",
       "    <tr>\n",
       "      <th>0</th>\n",
       "      <td>890957</td>\n",
       "      <td>Swile (ex-Lunchr)</td>\n",
       "      <td>0.0</td>\n",
       "      <td>0.185844</td>\n",
       "      <td>0.22</td>\n",
       "      <td>0</td>\n",
       "      <td>False</td>\n",
       "      <td>True</td>\n",
       "      <td>False</td>\n",
       "      <td>False</td>\n",
       "    </tr>\n",
       "    <tr>\n",
       "      <th>1</th>\n",
       "      <td>908268</td>\n",
       "      <td>Imcheck Therapeutics</td>\n",
       "      <td>1.0</td>\n",
       "      <td>0.716118</td>\n",
       "      <td>0.99</td>\n",
       "      <td>1</td>\n",
       "      <td>True</td>\n",
       "      <td>False</td>\n",
       "      <td>False</td>\n",
       "      <td>False</td>\n",
       "    </tr>\n",
       "    <tr>\n",
       "      <th>2</th>\n",
       "      <td>867275</td>\n",
       "      <td>Kemwatt</td>\n",
       "      <td>1.0</td>\n",
       "      <td>0.932568</td>\n",
       "      <td>0.69</td>\n",
       "      <td>1</td>\n",
       "      <td>True</td>\n",
       "      <td>False</td>\n",
       "      <td>False</td>\n",
       "      <td>False</td>\n",
       "    </tr>\n",
       "  </tbody>\n",
       "</table>\n",
       "</div>"
      ],
      "text/plain": [
       "       id                  name  target  y_pred_NLP  y_pred_forest  \\\n",
       "0  890957     Swile (ex-Lunchr)     0.0    0.185844           0.22   \n",
       "1  908268  Imcheck Therapeutics     1.0    0.716118           0.99   \n",
       "2  867275               Kemwatt     1.0    0.932568           0.69   \n",
       "\n",
       "   y_pred_binary     TP     TN     FP     FN  \n",
       "0              0  False   True  False  False  \n",
       "1              1   True  False  False  False  \n",
       "2              1   True  False  False  False  "
      ]
     },
     "execution_count": 9,
     "metadata": {},
     "output_type": "execute_result"
    }
   ],
   "source": [
    "results_1.head(3)"
   ]
  },
  {
   "cell_type": "markdown",
   "metadata": {},
   "source": [
    "#### Average precision over 3 NLP runs:"
   ]
  },
  {
   "cell_type": "code",
   "execution_count": 10,
   "metadata": {
    "ExecuteTime": {
     "end_time": "2020-12-12T08:38:32.164863Z",
     "start_time": "2020-12-12T08:38:32.096310Z"
    }
   },
   "outputs": [
    {
     "data": {
      "text/plain": [
       "0.7963310116367962"
      ]
     },
     "execution_count": 10,
     "metadata": {},
     "output_type": "execute_result"
    }
   ],
   "source": [
    "sum([NLP_d1['precision'],NLP_d2['precision'],NLP_d3['precision']])/3\n",
    "# this figure was 83% using the NLP model training on the last day of the project, but went slightly lower after \n",
    "# a retraining (which is normal as it depends on the random split used)\n",
    "# ultimately a retraining on the full dataset should maintain or increase the performance"
   ]
  },
  {
   "cell_type": "markdown",
   "metadata": {},
   "source": [
    "#### Average recall over 3 NLP runs:"
   ]
  },
  {
   "cell_type": "code",
   "execution_count": 11,
   "metadata": {
    "ExecuteTime": {
     "end_time": "2020-12-12T08:38:34.898843Z",
     "start_time": "2020-12-12T08:38:34.837816Z"
    }
   },
   "outputs": [
    {
     "data": {
      "text/plain": [
       "0.7167449139280127"
      ]
     },
     "execution_count": 11,
     "metadata": {},
     "output_type": "execute_result"
    }
   ],
   "source": [
    "# Recall\n",
    "sum([NLP_d1['recall'],NLP_d2['recall'],NLP_d3['recall']])/3"
   ]
  },
  {
   "cell_type": "code",
   "execution_count": 12,
   "metadata": {
    "ExecuteTime": {
     "end_time": "2020-12-12T08:38:43.027075Z",
     "start_time": "2020-12-12T08:38:42.669850Z"
    }
   },
   "outputs": [],
   "source": [
    "# Saving NLP processed results to disk\n",
    "results_1.to_csv(my_path+\"NLP_results_1.csv\", index=False)\n",
    "results_2.to_csv(my_path+\"NLP_results_2.csv\", index=False)\n",
    "results_3.to_csv(my_path+\"NLP_results_3.csv\", index=False)"
   ]
  },
  {
   "cell_type": "code",
   "execution_count": 13,
   "metadata": {
    "ExecuteTime": {
     "end_time": "2020-12-12T08:38:43.896348Z",
     "start_time": "2020-12-12T08:38:43.829541Z"
    }
   },
   "outputs": [],
   "source": [
    "# Dropping the columns that were created and used for NLP scoring\n",
    "results_1.drop(columns=['TP','TN','FP','FN', 'y_pred_binary'], inplace=True)\n",
    "results_2.drop(columns=['TP','TN','FP','FN', 'y_pred_binary'], inplace=True)\n",
    "results_3.drop(columns=['TP','TN','FP','FN', 'y_pred_binary'], inplace=True)"
   ]
  },
  {
   "cell_type": "markdown",
   "metadata": {},
   "source": [
    "---\n",
    "# Making the two models \"vote\" and computing general scores "
   ]
  },
  {
   "cell_type": "code",
   "execution_count": 15,
   "metadata": {
    "ExecuteTime": {
     "end_time": "2020-12-12T08:39:03.368771Z",
     "start_time": "2020-12-12T08:39:03.278932Z"
    }
   },
   "outputs": [
    {
     "data": {
      "text/html": [
       "<div>\n",
       "<style scoped>\n",
       "    .dataframe tbody tr th:only-of-type {\n",
       "        vertical-align: middle;\n",
       "    }\n",
       "\n",
       "    .dataframe tbody tr th {\n",
       "        vertical-align: top;\n",
       "    }\n",
       "\n",
       "    .dataframe thead th {\n",
       "        text-align: right;\n",
       "    }\n",
       "</style>\n",
       "<table border=\"1\" class=\"dataframe\">\n",
       "  <thead>\n",
       "    <tr style=\"text-align: right;\">\n",
       "      <th></th>\n",
       "      <th>id</th>\n",
       "      <th>name</th>\n",
       "      <th>target</th>\n",
       "      <th>y_pred_NLP</th>\n",
       "      <th>y_pred_forest</th>\n",
       "    </tr>\n",
       "  </thead>\n",
       "  <tbody>\n",
       "    <tr>\n",
       "      <th>0</th>\n",
       "      <td>890957</td>\n",
       "      <td>Swile (ex-Lunchr)</td>\n",
       "      <td>0.0</td>\n",
       "      <td>0.185844</td>\n",
       "      <td>0.22</td>\n",
       "    </tr>\n",
       "    <tr>\n",
       "      <th>1</th>\n",
       "      <td>908268</td>\n",
       "      <td>Imcheck Therapeutics</td>\n",
       "      <td>1.0</td>\n",
       "      <td>0.716118</td>\n",
       "      <td>0.99</td>\n",
       "    </tr>\n",
       "    <tr>\n",
       "      <th>2</th>\n",
       "      <td>867275</td>\n",
       "      <td>Kemwatt</td>\n",
       "      <td>1.0</td>\n",
       "      <td>0.932568</td>\n",
       "      <td>0.69</td>\n",
       "    </tr>\n",
       "  </tbody>\n",
       "</table>\n",
       "</div>"
      ],
      "text/plain": [
       "       id                  name  target  y_pred_NLP  y_pred_forest\n",
       "0  890957     Swile (ex-Lunchr)     0.0    0.185844           0.22\n",
       "1  908268  Imcheck Therapeutics     1.0    0.716118           0.99\n",
       "2  867275               Kemwatt     1.0    0.932568           0.69"
      ]
     },
     "execution_count": 15,
     "metadata": {},
     "output_type": "execute_result"
    }
   ],
   "source": [
    "results_1.head(3)"
   ]
  },
  {
   "cell_type": "code",
   "execution_count": 16,
   "metadata": {
    "ExecuteTime": {
     "end_time": "2020-12-12T08:40:49.993162Z",
     "start_time": "2020-12-12T08:40:49.909649Z"
    }
   },
   "outputs": [],
   "source": [
    "# the take_measure function uses the given function as 'voting strategy'\n",
    "# and only takes the main model's prediction if there is no text for NLP to vote \n",
    "#(=NLP dataset has \"NaN\" for the company)\n",
    "\n",
    "def take_measure(row, function):\n",
    "    if row['y_pred_NLP'] == np.nan: \n",
    "        return row['y_pred_forest']\n",
    "    if function == 'mean':\n",
    "        return row[['y_pred_forest','y_pred_NLP']].mean()\n",
    "    if function == 'min':\n",
    "        return row[['y_pred_forest','y_pred_NLP']].min()\n",
    "    if function == 'max':\n",
    "        return row[['y_pred_forest','y_pred_NLP']].max()\n",
    "    else:\n",
    "        print(\"not a known function\")\n",
    "    return None"
   ]
  },
  {
   "cell_type": "code",
   "execution_count": 22,
   "metadata": {
    "ExecuteTime": {
     "end_time": "2020-12-12T08:42:32.326918Z",
     "start_time": "2020-12-12T08:42:30.365288Z"
    },
    "collapsed": true
   },
   "outputs": [
    {
     "name": "stdout",
     "output_type": "stream",
     "text": [
      "accuracy: 80.68 %\n",
      "precision: 85.16 %\n",
      "recall: 72.77 %\n",
      "f1: 78.48 %\n",
      "Confusion matrix\n"
     ]
    },
    {
     "data": {
      "image/png": "[encoded data removed]",
      "text/plain": [
       "<Figure size 432x288 with 2 Axes>"
      ]
     },
     "metadata": {
      "needs_background": "light"
     },
     "output_type": "display_data"
    },
    {
     "name": "stdout",
     "output_type": "stream",
     "text": [
      "81.0\t85.0\t73.0\t78.0\n",
      "accuracy: 77.95 %\n",
      "precision: 73.77 %\n",
      "recall: 84.51 %\n",
      "f1: 78.77 %\n",
      "Confusion matrix\n"
     ]
    },
    {
     "data": {
      "image/png": "[encoded data removed]",
      "text/plain": [
       "<Figure size 432x288 with 2 Axes>"
      ]
     },
     "metadata": {
      "needs_background": "light"
     },
     "output_type": "display_data"
    },
    {
     "name": "stdout",
     "output_type": "stream",
     "text": [
      "78.0\t74.0\t85.0\t79.0\n",
      "accuracy: 75.91 %\n",
      "precision: 90.23 %\n",
      "recall: 56.34 %\n",
      "f1: 69.36 %\n",
      "Confusion matrix\n"
     ]
    },
    {
     "data": {
      "image/png": "[encoded data removed]",
      "text/plain": [
       "<Figure size 432x288 with 2 Axes>"
      ]
     },
     "metadata": {
      "needs_background": "light"
     },
     "output_type": "display_data"
    },
    {
     "name": "stdout",
     "output_type": "stream",
     "text": [
      "76.0\t90.0\t56.0\t69.0\n"
     ]
    }
   ],
   "source": [
    "threshold = 0.5\n",
    "\n",
    "# using the function for the \"voting\"\n",
    "# then using the threhsold to convert to a \"is_deeptech\" yes or no prediction\n",
    "results_1['y_pred_common_mean'] = results_1.apply(lambda x: take_measure(x, 'mean'), axis=1)\n",
    "results_1['y_pred_common_mean_binary'] = [1 if item >threshold else 0 for item in results_1.y_pred_common_mean]\n",
    "\n",
    "results_1['y_pred_common_max'] = results_1.apply(lambda x: take_measure(x, 'max'), axis=1)\n",
    "results_1['y_pred_common_max_binary'] = [1 if item >threshold else 0 for item in results_1.y_pred_common_max]\n",
    "\n",
    "results_1['y_pred_common_min'] = results_1.apply(lambda x: take_measure(x, 'min'), axis=1)\n",
    "results_1['y_pred_common_min_binary'] = [1 if item >threshold else 0 for item in results_1.y_pred_common_min]\n",
    "\n",
    "common_mean_d1 = my_metrics(make_X_check2(results_1, name_for_y_pred='y_pred_common_mean_binary'))\n",
    "common_max_d1 = my_metrics(make_X_check2(results_1, name_for_y_pred='y_pred_common_max_binary'))\n",
    "common_min_d1 = my_metrics(make_X_check2(results_1, name_for_y_pred='y_pred_common_min_binary'))\n",
    "\n",
    "results_1.drop(columns=['y_pred_binary'], inplace=True)"
   ]
  },
  {
   "cell_type": "code",
   "execution_count": 23,
   "metadata": {
    "ExecuteTime": {
     "end_time": "2020-12-12T08:42:35.213113Z",
     "start_time": "2020-12-12T08:42:35.144277Z"
    }
   },
   "outputs": [
    {
     "data": {
      "text/html": [
       "<div>\n",
       "<style scoped>\n",
       "    .dataframe tbody tr th:only-of-type {\n",
       "        vertical-align: middle;\n",
       "    }\n",
       "\n",
       "    .dataframe tbody tr th {\n",
       "        vertical-align: top;\n",
       "    }\n",
       "\n",
       "    .dataframe thead th {\n",
       "        text-align: right;\n",
       "    }\n",
       "</style>\n",
       "<table border=\"1\" class=\"dataframe\">\n",
       "  <thead>\n",
       "    <tr style=\"text-align: right;\">\n",
       "      <th></th>\n",
       "      <th>0</th>\n",
       "      <th>1</th>\n",
       "      <th>2</th>\n",
       "    </tr>\n",
       "  </thead>\n",
       "  <tbody>\n",
       "    <tr>\n",
       "      <th>id</th>\n",
       "      <td>890957</td>\n",
       "      <td>908268</td>\n",
       "      <td>867275</td>\n",
       "    </tr>\n",
       "    <tr>\n",
       "      <th>name</th>\n",
       "      <td>Swile (ex-Lunchr)</td>\n",
       "      <td>Imcheck Therapeutics</td>\n",
       "      <td>Kemwatt</td>\n",
       "    </tr>\n",
       "    <tr>\n",
       "      <th>target</th>\n",
       "      <td>0</td>\n",
       "      <td>1</td>\n",
       "      <td>1</td>\n",
       "    </tr>\n",
       "    <tr>\n",
       "      <th>y_pred_NLP</th>\n",
       "      <td>0.185844</td>\n",
       "      <td>0.716118</td>\n",
       "      <td>0.932568</td>\n",
       "    </tr>\n",
       "    <tr>\n",
       "      <th>y_pred_forest</th>\n",
       "      <td>0.22</td>\n",
       "      <td>0.99</td>\n",
       "      <td>0.69</td>\n",
       "    </tr>\n",
       "    <tr>\n",
       "      <th>y_pred_common_mean</th>\n",
       "      <td>0.202922</td>\n",
       "      <td>0.853059</td>\n",
       "      <td>0.811284</td>\n",
       "    </tr>\n",
       "    <tr>\n",
       "      <th>y_pred_common_mean_binary</th>\n",
       "      <td>0</td>\n",
       "      <td>1</td>\n",
       "      <td>1</td>\n",
       "    </tr>\n",
       "    <tr>\n",
       "      <th>y_pred_common_max</th>\n",
       "      <td>0.22</td>\n",
       "      <td>0.99</td>\n",
       "      <td>0.932568</td>\n",
       "    </tr>\n",
       "    <tr>\n",
       "      <th>y_pred_common_max_binary</th>\n",
       "      <td>0</td>\n",
       "      <td>1</td>\n",
       "      <td>1</td>\n",
       "    </tr>\n",
       "    <tr>\n",
       "      <th>y_pred_common_min</th>\n",
       "      <td>0.185844</td>\n",
       "      <td>0.716118</td>\n",
       "      <td>0.69</td>\n",
       "    </tr>\n",
       "    <tr>\n",
       "      <th>y_pred_common_min_binary</th>\n",
       "      <td>0</td>\n",
       "      <td>1</td>\n",
       "      <td>1</td>\n",
       "    </tr>\n",
       "    <tr>\n",
       "      <th>TP</th>\n",
       "      <td>False</td>\n",
       "      <td>True</td>\n",
       "      <td>True</td>\n",
       "    </tr>\n",
       "    <tr>\n",
       "      <th>TN</th>\n",
       "      <td>True</td>\n",
       "      <td>False</td>\n",
       "      <td>False</td>\n",
       "    </tr>\n",
       "    <tr>\n",
       "      <th>FP</th>\n",
       "      <td>False</td>\n",
       "      <td>False</td>\n",
       "      <td>False</td>\n",
       "    </tr>\n",
       "    <tr>\n",
       "      <th>FN</th>\n",
       "      <td>False</td>\n",
       "      <td>False</td>\n",
       "      <td>False</td>\n",
       "    </tr>\n",
       "  </tbody>\n",
       "</table>\n",
       "</div>"
      ],
      "text/plain": [
       "                                           0                     1         2\n",
       "id                                    890957                908268    867275\n",
       "name                       Swile (ex-Lunchr)  Imcheck Therapeutics   Kemwatt\n",
       "target                                     0                     1         1\n",
       "y_pred_NLP                          0.185844              0.716118  0.932568\n",
       "y_pred_forest                           0.22                  0.99      0.69\n",
       "y_pred_common_mean                  0.202922              0.853059  0.811284\n",
       "y_pred_common_mean_binary                  0                     1         1\n",
       "y_pred_common_max                       0.22                  0.99  0.932568\n",
       "y_pred_common_max_binary                   0                     1         1\n",
       "y_pred_common_min                   0.185844              0.716118      0.69\n",
       "y_pred_common_min_binary                   0                     1         1\n",
       "TP                                     False                  True      True\n",
       "TN                                      True                 False     False\n",
       "FP                                     False                 False     False\n",
       "FN                                     False                 False     False"
      ]
     },
     "execution_count": 23,
     "metadata": {},
     "output_type": "execute_result"
    }
   ],
   "source": [
    "# What \"results\" look like by now (transposed for legibility)\n",
    "results_1.head(3).T\n",
    "#"
   ]
  },
  {
   "cell_type": "code",
   "execution_count": 28,
   "metadata": {
    "ExecuteTime": {
     "end_time": "2020-12-12T08:44:44.048190Z",
     "start_time": "2020-12-12T08:44:43.940248Z"
    }
   },
   "outputs": [
    {
     "name": "stdout",
     "output_type": "stream",
     "text": [
      "Classification success metrics for run 1, using each of the 3 voting strategies, mean, max and min:\n"
     ]
    },
    {
     "data": {
      "text/plain": [
       "({'accuracy': 0.8068181818181818,\n",
       "  'precision': 0.8516483516483516,\n",
       "  'recall': 0.7276995305164319,\n",
       "  'f1': 0.7848101265822784},\n",
       " {'accuracy': 0.7795454545454545,\n",
       "  'precision': 0.7377049180327869,\n",
       "  'recall': 0.8450704225352113,\n",
       "  'f1': 0.787746170678337},\n",
       " {'accuracy': 0.759090909090909,\n",
       "  'precision': 0.9022556390977443,\n",
       "  'recall': 0.5633802816901409,\n",
       "  'f1': 0.6936416184971097})"
      ]
     },
     "execution_count": 28,
     "metadata": {},
     "output_type": "execute_result"
    }
   ],
   "source": [
    "print(\"Classification success metrics for run 1, using each of the 3 voting strategies, mean, max and min:\")\n",
    "common_mean_d1, common_max_d1, common_min_d1"
   ]
  },
  {
   "cell_type": "code",
   "execution_count": 34,
   "metadata": {
    "ExecuteTime": {
     "end_time": "2020-12-12T09:20:56.095095Z",
     "start_time": "2020-12-12T09:20:54.094792Z"
    },
    "collapsed": true
   },
   "outputs": [
    {
     "name": "stdout",
     "output_type": "stream",
     "text": [
      "accuracy: 80.68 %\n",
      "precision: 85.16 %\n",
      "recall: 72.77 %\n",
      "f1: 78.48 %\n",
      "Confusion matrix\n"
     ]
    },
    {
     "data": {
      "image/png": "[encoded data removed]",
      "text/plain": [
       "<Figure size 432x288 with 2 Axes>"
      ]
     },
     "metadata": {
      "needs_background": "light"
     },
     "output_type": "display_data"
    },
    {
     "name": "stdout",
     "output_type": "stream",
     "text": [
      "81.0\t85.0\t73.0\t78.0\n",
      "accuracy: 77.95 %\n",
      "precision: 73.77 %\n",
      "recall: 84.51 %\n",
      "f1: 78.77 %\n",
      "Confusion matrix\n"
     ]
    },
    {
     "data": {
      "image/png": "[encoded data removed]",
      "text/plain": [
       "<Figure size 432x288 with 2 Axes>"
      ]
     },
     "metadata": {
      "needs_background": "light"
     },
     "output_type": "display_data"
    },
    {
     "name": "stdout",
     "output_type": "stream",
     "text": [
      "78.0\t74.0\t85.0\t79.0\n",
      "accuracy: 75.91 %\n",
      "precision: 90.23 %\n",
      "recall: 56.34 %\n",
      "f1: 69.36 %\n",
      "Confusion matrix\n"
     ]
    },
    {
     "data": {
      "image/png": "[encoded data removed]",
      "text/plain": [
       "<Figure size 432x288 with 2 Axes>"
      ]
     },
     "metadata": {
      "needs_background": "light"
     },
     "output_type": "display_data"
    },
    {
     "name": "stdout",
     "output_type": "stream",
     "text": [
      "76.0\t90.0\t56.0\t69.0\n"
     ]
    },
    {
     "ename": "KeyError",
     "evalue": "\"['y_pred_binary'] not found in axis\"",
     "output_type": "error",
     "traceback": [
      "\u001b[0;31m---------------------------------------------------------------------------\u001b[0m",
      "\u001b[0;31mKeyError\u001b[0m                                  Traceback (most recent call last)",
      "\u001b[0;32m<ipython-input-34-5bc905c0d61f>\u001b[0m in \u001b[0;36m<module>\u001b[0;34m\u001b[0m\n\u001b[1;32m     13\u001b[0m \u001b[0mcommon_min_d2\u001b[0m \u001b[0;34m=\u001b[0m \u001b[0mmy_metrics\u001b[0m\u001b[0;34m(\u001b[0m\u001b[0mmake_X_check2\u001b[0m\u001b[0;34m(\u001b[0m\u001b[0mresults_1\u001b[0m\u001b[0;34m,\u001b[0m \u001b[0mname_for_y_pred\u001b[0m\u001b[0;34m=\u001b[0m\u001b[0;34m'y_pred_common_min_binary'\u001b[0m\u001b[0;34m)\u001b[0m\u001b[0;34m)\u001b[0m\u001b[0;34m\u001b[0m\u001b[0;34m\u001b[0m\u001b[0m\n\u001b[1;32m     14\u001b[0m \u001b[0;34m\u001b[0m\u001b[0m\n\u001b[0;32m---> 15\u001b[0;31m \u001b[0mresults_2\u001b[0m\u001b[0;34m.\u001b[0m\u001b[0mdrop\u001b[0m\u001b[0;34m(\u001b[0m\u001b[0mcolumns\u001b[0m\u001b[0;34m=\u001b[0m\u001b[0;34m[\u001b[0m\u001b[0;34m'y_pred_binary'\u001b[0m\u001b[0;34m]\u001b[0m\u001b[0;34m,\u001b[0m \u001b[0minplace\u001b[0m\u001b[0;34m=\u001b[0m\u001b[0;32mTrue\u001b[0m\u001b[0;34m)\u001b[0m\u001b[0;34m\u001b[0m\u001b[0;34m\u001b[0m\u001b[0m\n\u001b[0m",
      "\u001b[0;32m~/.pyenv/versions/data/envs/NLP/lib/python3.8/site-packages/pandas/core/frame.py\u001b[0m in \u001b[0;36mdrop\u001b[0;34m(self, labels, axis, index, columns, level, inplace, errors)\u001b[0m\n\u001b[1;32m   4165\u001b[0m                 \u001b[0mweight\u001b[0m  \u001b[0;36m1.0\u001b[0m     \u001b[0;36m0.8\u001b[0m\u001b[0;34m\u001b[0m\u001b[0;34m\u001b[0m\u001b[0m\n\u001b[1;32m   4166\u001b[0m         \"\"\"\n\u001b[0;32m-> 4167\u001b[0;31m         return super().drop(\n\u001b[0m\u001b[1;32m   4168\u001b[0m             \u001b[0mlabels\u001b[0m\u001b[0;34m=\u001b[0m\u001b[0mlabels\u001b[0m\u001b[0;34m,\u001b[0m\u001b[0;34m\u001b[0m\u001b[0;34m\u001b[0m\u001b[0m\n\u001b[1;32m   4169\u001b[0m             \u001b[0maxis\u001b[0m\u001b[0;34m=\u001b[0m\u001b[0maxis\u001b[0m\u001b[0;34m,\u001b[0m\u001b[0;34m\u001b[0m\u001b[0;34m\u001b[0m\u001b[0m\n",
      "\u001b[0;32m~/.pyenv/versions/data/envs/NLP/lib/python3.8/site-packages/pandas/core/generic.py\u001b[0m in \u001b[0;36mdrop\u001b[0;34m(self, labels, axis, index, columns, level, inplace, errors)\u001b[0m\n\u001b[1;32m   3885\u001b[0m         \u001b[0;32mfor\u001b[0m \u001b[0maxis\u001b[0m\u001b[0;34m,\u001b[0m \u001b[0mlabels\u001b[0m \u001b[0;32min\u001b[0m \u001b[0maxes\u001b[0m\u001b[0;34m.\u001b[0m\u001b[0mitems\u001b[0m\u001b[0;34m(\u001b[0m\u001b[0;34m)\u001b[0m\u001b[0;34m:\u001b[0m\u001b[0;34m\u001b[0m\u001b[0;34m\u001b[0m\u001b[0m\n\u001b[1;32m   3886\u001b[0m             \u001b[0;32mif\u001b[0m \u001b[0mlabels\u001b[0m \u001b[0;32mis\u001b[0m \u001b[0;32mnot\u001b[0m \u001b[0;32mNone\u001b[0m\u001b[0;34m:\u001b[0m\u001b[0;34m\u001b[0m\u001b[0;34m\u001b[0m\u001b[0m\n\u001b[0;32m-> 3887\u001b[0;31m                 \u001b[0mobj\u001b[0m \u001b[0;34m=\u001b[0m \u001b[0mobj\u001b[0m\u001b[0;34m.\u001b[0m\u001b[0m_drop_axis\u001b[0m\u001b[0;34m(\u001b[0m\u001b[0mlabels\u001b[0m\u001b[0;34m,\u001b[0m \u001b[0maxis\u001b[0m\u001b[0;34m,\u001b[0m \u001b[0mlevel\u001b[0m\u001b[0;34m=\u001b[0m\u001b[0mlevel\u001b[0m\u001b[0;34m,\u001b[0m \u001b[0merrors\u001b[0m\u001b[0;34m=\u001b[0m\u001b[0merrors\u001b[0m\u001b[0;34m)\u001b[0m\u001b[0;34m\u001b[0m\u001b[0;34m\u001b[0m\u001b[0m\n\u001b[0m\u001b[1;32m   3888\u001b[0m \u001b[0;34m\u001b[0m\u001b[0m\n\u001b[1;32m   3889\u001b[0m         \u001b[0;32mif\u001b[0m \u001b[0minplace\u001b[0m\u001b[0;34m:\u001b[0m\u001b[0;34m\u001b[0m\u001b[0;34m\u001b[0m\u001b[0m\n",
      "\u001b[0;32m~/.pyenv/versions/data/envs/NLP/lib/python3.8/site-packages/pandas/core/generic.py\u001b[0m in \u001b[0;36m_drop_axis\u001b[0;34m(self, labels, axis, level, errors)\u001b[0m\n\u001b[1;32m   3919\u001b[0m                 \u001b[0mnew_axis\u001b[0m \u001b[0;34m=\u001b[0m \u001b[0maxis\u001b[0m\u001b[0;34m.\u001b[0m\u001b[0mdrop\u001b[0m\u001b[0;34m(\u001b[0m\u001b[0mlabels\u001b[0m\u001b[0;34m,\u001b[0m \u001b[0mlevel\u001b[0m\u001b[0;34m=\u001b[0m\u001b[0mlevel\u001b[0m\u001b[0;34m,\u001b[0m \u001b[0merrors\u001b[0m\u001b[0;34m=\u001b[0m\u001b[0merrors\u001b[0m\u001b[0;34m)\u001b[0m\u001b[0;34m\u001b[0m\u001b[0;34m\u001b[0m\u001b[0m\n\u001b[1;32m   3920\u001b[0m             \u001b[0;32melse\u001b[0m\u001b[0;34m:\u001b[0m\u001b[0;34m\u001b[0m\u001b[0;34m\u001b[0m\u001b[0m\n\u001b[0;32m-> 3921\u001b[0;31m                 \u001b[0mnew_axis\u001b[0m \u001b[0;34m=\u001b[0m \u001b[0maxis\u001b[0m\u001b[0;34m.\u001b[0m\u001b[0mdrop\u001b[0m\u001b[0;34m(\u001b[0m\u001b[0mlabels\u001b[0m\u001b[0;34m,\u001b[0m \u001b[0merrors\u001b[0m\u001b[0;34m=\u001b[0m\u001b[0merrors\u001b[0m\u001b[0;34m)\u001b[0m\u001b[0;34m\u001b[0m\u001b[0;34m\u001b[0m\u001b[0m\n\u001b[0m\u001b[1;32m   3922\u001b[0m             \u001b[0mresult\u001b[0m \u001b[0;34m=\u001b[0m \u001b[0mself\u001b[0m\u001b[0;34m.\u001b[0m\u001b[0mreindex\u001b[0m\u001b[0;34m(\u001b[0m\u001b[0;34m**\u001b[0m\u001b[0;34m{\u001b[0m\u001b[0maxis_name\u001b[0m\u001b[0;34m:\u001b[0m \u001b[0mnew_axis\u001b[0m\u001b[0;34m}\u001b[0m\u001b[0;34m)\u001b[0m\u001b[0;34m\u001b[0m\u001b[0;34m\u001b[0m\u001b[0m\n\u001b[1;32m   3923\u001b[0m \u001b[0;34m\u001b[0m\u001b[0m\n",
      "\u001b[0;32m~/.pyenv/versions/data/envs/NLP/lib/python3.8/site-packages/pandas/core/indexes/base.py\u001b[0m in \u001b[0;36mdrop\u001b[0;34m(self, labels, errors)\u001b[0m\n\u001b[1;32m   5282\u001b[0m         \u001b[0;32mif\u001b[0m \u001b[0mmask\u001b[0m\u001b[0;34m.\u001b[0m\u001b[0many\u001b[0m\u001b[0;34m(\u001b[0m\u001b[0;34m)\u001b[0m\u001b[0;34m:\u001b[0m\u001b[0;34m\u001b[0m\u001b[0;34m\u001b[0m\u001b[0m\n\u001b[1;32m   5283\u001b[0m             \u001b[0;32mif\u001b[0m \u001b[0merrors\u001b[0m \u001b[0;34m!=\u001b[0m \u001b[0;34m\"ignore\"\u001b[0m\u001b[0;34m:\u001b[0m\u001b[0;34m\u001b[0m\u001b[0;34m\u001b[0m\u001b[0m\n\u001b[0;32m-> 5284\u001b[0;31m                 \u001b[0;32mraise\u001b[0m \u001b[0mKeyError\u001b[0m\u001b[0;34m(\u001b[0m\u001b[0;34mf\"{labels[mask]} not found in axis\"\u001b[0m\u001b[0;34m)\u001b[0m\u001b[0;34m\u001b[0m\u001b[0;34m\u001b[0m\u001b[0m\n\u001b[0m\u001b[1;32m   5285\u001b[0m             \u001b[0mindexer\u001b[0m \u001b[0;34m=\u001b[0m \u001b[0mindexer\u001b[0m\u001b[0;34m[\u001b[0m\u001b[0;34m~\u001b[0m\u001b[0mmask\u001b[0m\u001b[0;34m]\u001b[0m\u001b[0;34m\u001b[0m\u001b[0;34m\u001b[0m\u001b[0m\n\u001b[1;32m   5286\u001b[0m         \u001b[0;32mreturn\u001b[0m \u001b[0mself\u001b[0m\u001b[0;34m.\u001b[0m\u001b[0mdelete\u001b[0m\u001b[0;34m(\u001b[0m\u001b[0mindexer\u001b[0m\u001b[0;34m)\u001b[0m\u001b[0;34m\u001b[0m\u001b[0;34m\u001b[0m\u001b[0m\n",
      "\u001b[0;31mKeyError\u001b[0m: \"['y_pred_binary'] not found in axis\""
     ]
    }
   ],
   "source": [
    "threshold = 0.5\n",
    "results_2['y_pred_common_mean'] = results_1.apply(lambda x: take_measure(x, 'mean'), axis=1)\n",
    "results_2['y_pred_common_mean_binary'] = [1 if item >threshold else 0 for item in results_1.y_pred_common_mean]\n",
    "\n",
    "results_2['y_pred_common_max'] = results_1.apply(lambda x: take_measure(x, 'max'), axis=1)\n",
    "results_2['y_pred_common_max_binary'] = [1 if item >threshold else 0 for item in results_1.y_pred_common_max]\n",
    "\n",
    "results_2['y_pred_common_min'] = results_1.apply(lambda x: take_measure(x, 'min'), axis=1)\n",
    "results_2['y_pred_common_min_binary'] = [1 if item >threshold else 0 for item in results_1.y_pred_common_min]\n",
    "\n",
    "common_mean_d2 = my_metrics(make_X_check2(results_1, name_for_y_pred='y_pred_common_mean_binary'))\n",
    "common_max_d2 = my_metrics(make_X_check2(results_1, name_for_y_pred='y_pred_common_max_binary'))\n",
    "common_min_d2 = my_metrics(make_X_check2(results_1, name_for_y_pred='y_pred_common_min_binary'))\n",
    "\n",
    "results_2.drop(columns=['y_pred_binary'], inplace=True)"
   ]
  },
  {
   "cell_type": "code",
   "execution_count": 35,
   "metadata": {
    "ExecuteTime": {
     "end_time": "2020-12-12T09:20:57.815820Z",
     "start_time": "2020-12-12T09:20:57.743282Z"
    }
   },
   "outputs": [
    {
     "name": "stdout",
     "output_type": "stream",
     "text": [
      "Classification success metrics for run 2:\n"
     ]
    },
    {
     "data": {
      "text/plain": [
       "({'accuracy': 0.8068181818181818,\n",
       "  'precision': 0.8516483516483516,\n",
       "  'recall': 0.7276995305164319,\n",
       "  'f1': 0.7848101265822784},\n",
       " {'accuracy': 0.7795454545454545,\n",
       "  'precision': 0.7377049180327869,\n",
       "  'recall': 0.8450704225352113,\n",
       "  'f1': 0.787746170678337},\n",
       " {'accuracy': 0.759090909090909,\n",
       "  'precision': 0.9022556390977443,\n",
       "  'recall': 0.5633802816901409,\n",
       "  'f1': 0.6936416184971097})"
      ]
     },
     "execution_count": 35,
     "metadata": {},
     "output_type": "execute_result"
    }
   ],
   "source": [
    "print(\"Classification success metrics for run 2:\")\n",
    "common_mean_d2, common_max_d2, common_min_d2"
   ]
  },
  {
   "cell_type": "code",
   "execution_count": 36,
   "metadata": {
    "ExecuteTime": {
     "end_time": "2020-12-12T09:21:06.236530Z",
     "start_time": "2020-12-12T09:21:04.062968Z"
    },
    "collapsed": true
   },
   "outputs": [
    {
     "name": "stdout",
     "output_type": "stream",
     "text": [
      "accuracy: 80.45 %\n",
      "precision: 81.59 %\n",
      "recall: 77.00 %\n",
      "f1: 79.23 %\n",
      "Confusion matrix\n"
     ]
    },
    {
     "data": {
      "image/png": "[encoded data removed]",
      "text/plain": [
       "<Figure size 432x288 with 2 Axes>"
      ]
     },
     "metadata": {
      "needs_background": "light"
     },
     "output_type": "display_data"
    },
    {
     "name": "stdout",
     "output_type": "stream",
     "text": [
      "80.0\t82.0\t77.0\t79.0\n",
      "accuracy: 74.32 %\n",
      "precision: 68.12 %\n",
      "recall: 88.26 %\n",
      "f1: 76.89 %\n",
      "Confusion matrix\n"
     ]
    },
    {
     "data": {
      "image/png": "[encoded data removed]",
      "text/plain": [
       "<Figure size 432x288 with 2 Axes>"
      ]
     },
     "metadata": {
      "needs_background": "light"
     },
     "output_type": "display_data"
    },
    {
     "name": "stdout",
     "output_type": "stream",
     "text": [
      "74.0\t68.0\t88.0\t77.0\n",
      "accuracy: 77.27 %\n",
      "precision: 91.85 %\n",
      "recall: 58.22 %\n",
      "f1: 71.26 %\n",
      "Confusion matrix\n"
     ]
    },
    {
     "data": {
      "image/png": "[encoded data removed]",
      "text/plain": [
       "<Figure size 432x288 with 2 Axes>"
      ]
     },
     "metadata": {
      "needs_background": "light"
     },
     "output_type": "display_data"
    },
    {
     "name": "stdout",
     "output_type": "stream",
     "text": [
      "77.0\t92.0\t58.0\t71.0\n"
     ]
    }
   ],
   "source": [
    "threshold = 0.5\n",
    "results_3['y_pred_common_mean'] = results_3.apply(lambda x: take_measure(x, 'mean'), axis=1)\n",
    "results_3['y_pred_common_mean_binary'] = [1 if item >threshold else 0 for item in results_3.y_pred_common_mean]\n",
    "\n",
    "results_3['y_pred_common_max'] = results_3.apply(lambda x: take_measure(x, 'max'), axis=1)\n",
    "results_3['y_pred_common_max_binary'] = [1 if item >threshold else 0 for item in results_3.y_pred_common_max]\n",
    "\n",
    "results_3['y_pred_common_min'] = results_3.apply(lambda x: take_measure(x, 'min'), axis=1)\n",
    "results_3['y_pred_common_min_binary'] = [1 if item >threshold else 0 for item in results_3.y_pred_common_min]\n",
    "\n",
    "common_mean_d3 = my_metrics(make_X_check2(results_3, name_for_y_pred='y_pred_common_mean_binary'))\n",
    "common_max_d3 = my_metrics(make_X_check2(results_3, name_for_y_pred='y_pred_common_max_binary'))\n",
    "common_min_d3 = my_metrics(make_X_check2(results_3, name_for_y_pred='y_pred_common_min_binary'))\n",
    "\n",
    "results_3.drop(columns=['y_pred_binary'], inplace=True)"
   ]
  },
  {
   "cell_type": "code",
   "execution_count": 37,
   "metadata": {
    "ExecuteTime": {
     "end_time": "2020-12-12T09:21:10.029234Z",
     "start_time": "2020-12-12T09:21:09.959865Z"
    }
   },
   "outputs": [
    {
     "name": "stdout",
     "output_type": "stream",
     "text": [
      "Classification success metrics for run 3:\n"
     ]
    },
    {
     "data": {
      "text/plain": [
       "({'accuracy': 0.8045454545454546,\n",
       "  'precision': 0.8159203980099502,\n",
       "  'recall': 0.7699530516431925,\n",
       "  'f1': 0.7922705314009663},\n",
       " {'accuracy': 0.7431818181818182,\n",
       "  'precision': 0.6811594202898551,\n",
       "  'recall': 0.8826291079812206,\n",
       "  'f1': 0.768916155419223},\n",
       " {'accuracy': 0.7727272727272727,\n",
       "  'precision': 0.9185185185185185,\n",
       "  'recall': 0.5821596244131455,\n",
       "  'f1': 0.7126436781609196})"
      ]
     },
     "execution_count": 37,
     "metadata": {},
     "output_type": "execute_result"
    }
   ],
   "source": [
    "print(\"Classification success metrics for run 3:\")\n",
    "common_mean_d3, common_max_d3, common_min_d3"
   ]
  },
  {
   "cell_type": "markdown",
   "metadata": {},
   "source": [
    "### On the three runs, 'min' is the best 'voting approach' for maximizing precision.\n",
    "#### Scores with 'min' used as 'voting approach' between the tow models (main model and NLP): "
   ]
  },
  {
   "cell_type": "code",
   "execution_count": 38,
   "metadata": {
    "ExecuteTime": {
     "end_time": "2020-12-12T09:21:13.647139Z",
     "start_time": "2020-12-12T09:21:13.567875Z"
    }
   },
   "outputs": [
    {
     "data": {
      "text/plain": [
       "0.907676598904669"
      ]
     },
     "execution_count": 38,
     "metadata": {},
     "output_type": "execute_result"
    }
   ],
   "source": [
    "global_precision_min = (common_min_d1['precision']+common_min_d2['precision']+common_min_d3['precision'])/3\n",
    "global_precision_min\n",
    "# again, the value was 91% when we did the calculation on the last day of the project, \n",
    "# it can vary slightly with repetition"
   ]
  },
  {
   "cell_type": "code",
   "execution_count": 39,
   "metadata": {
    "ExecuteTime": {
     "end_time": "2020-12-12T09:21:55.207329Z",
     "start_time": "2020-12-12T09:21:55.147790Z"
    }
   },
   "outputs": [
    {
     "data": {
      "text/plain": [
       "0.5696400625978091"
      ]
     },
     "execution_count": 39,
     "metadata": {},
     "output_type": "execute_result"
    }
   ],
   "source": [
    "global_recall_min = (common_min_d1['recall']+common_min_d2['recall']+common_min_d3['recall'])/3\n",
    "global_recall_min"
   ]
  },
  {
   "cell_type": "markdown",
   "metadata": {},
   "source": [
    "#### Scores with max\n",
    "Max allows to maximize recall instead of precision, while mean strikes a balance"
   ]
  },
  {
   "cell_type": "code",
   "execution_count": 40,
   "metadata": {
    "ExecuteTime": {
     "end_time": "2020-12-12T09:21:59.181191Z",
     "start_time": "2020-12-12T09:21:59.124984Z"
    }
   },
   "outputs": [
    {
     "data": {
      "text/plain": [
       "0.7188564187851431"
      ]
     },
     "execution_count": 40,
     "metadata": {},
     "output_type": "execute_result"
    }
   ],
   "source": [
    "global_precision_max = (common_max_d1['precision']+common_max_d2['precision']+common_max_d3['precision'])/3\n",
    "global_precision_max"
   ]
  },
  {
   "cell_type": "code",
   "execution_count": 41,
   "metadata": {
    "ExecuteTime": {
     "end_time": "2020-12-12T09:22:00.641932Z",
     "start_time": "2020-12-12T09:22:00.572239Z"
    }
   },
   "outputs": [
    {
     "data": {
      "text/plain": [
       "0.8575899843505477"
      ]
     },
     "execution_count": 41,
     "metadata": {},
     "output_type": "execute_result"
    }
   ],
   "source": [
    "global_recall_max = (common_max_d1['recall']+common_max_d2['recall']+common_max_d3['recall'])/3\n",
    "global_recall_max"
   ]
  },
  {
   "cell_type": "markdown",
   "metadata": {
    "ExecuteTime": {
     "end_time": "2020-12-10T08:39:32.014246Z",
     "start_time": "2020-12-10T08:39:31.890278Z"
    }
   },
   "source": [
    "---\n"
   ]
  },
  {
   "cell_type": "code",
   "execution_count": 42,
   "metadata": {
    "ExecuteTime": {
     "end_time": "2020-12-12T09:22:40.807923Z",
     "start_time": "2020-12-12T09:22:40.725161Z"
    }
   },
   "outputs": [],
   "source": [
    "# Saving processed results to disk\n",
    "results_1.to_csv(my_path+\"voting_results_1.csv\", index=False)\n",
    "results_2.to_csv(my_path+\"voting_results_2.csv\", index=False)\n",
    "results_3.to_csv(my_path+\"voting_results_3.csv\", index=False)"
   ]
  }
 ],
 "metadata": {
  "kernelspec": {
   "display_name": "Python 3",
   "language": "python",
   "name": "python3"
  },
  "language_info": {
   "codemirror_mode": {
    "name": "ipython",
    "version": 3
   },
   "file_extension": ".py",
   "mimetype": "text/x-python",
   "name": "python",
   "nbconvert_exporter": "python",
   "pygments_lexer": "ipython3",
   "version": "3.8.5"
  },
  "toc": {
   "base_numbering": 1,
   "nav_menu": {},
   "number_sections": false,
   "sideBar": true,
   "skip_h1_title": false,
   "title_cell": "Table of Contents",
   "title_sidebar": "Contents",
   "toc_cell": false,
   "toc_position": {},
   "toc_section_display": true,
   "toc_window_display": true
  }
 },
 "nbformat": 4,
 "nbformat_minor": 4
}
