{
 "cells": [
  {
   "cell_type": "code",
   "execution_count": 10,
   "metadata": {
    "ExecuteTime": {
     "end_time": "2020-12-07T15:30:23.599311Z",
     "start_time": "2020-12-07T15:30:23.478858Z"
    }
   },
   "outputs": [
    {
     "name": "stdout",
     "output_type": "stream",
     "text": [
      "The autoreload extension is already loaded. To reload it, use:\n",
      "  %reload_ext autoreload\n"
     ]
    }
   ],
   "source": [
    "%load_ext autoreload\n",
    "%autoreload 2"
   ]
  },
  {
   "cell_type": "code",
   "execution_count": 27,
   "metadata": {
    "ExecuteTime": {
     "end_time": "2020-12-07T15:40:43.096437Z",
     "start_time": "2020-12-07T15:40:42.966673Z"
    }
   },
   "outputs": [],
   "source": [
    "import pandas as pd\n",
    "from sklearn.model_selection import train_test_split\n",
    "from os import path\n",
    "\n",
    "\n",
    "from deep4deep.text_retrieval import prepare_my_df, get_meta_description_columns,get_meta_description,get_dealroom_meta_description\n",
    "from deep4deep.text_processing import text_preprocessing, remove_special_chars, remove_punctuation\n",
    "from deep4deep.w2v_embedding_and_rnn_model import change_to_categorical, Preprocessor, Embedder, LstmModel\n",
    "from deep4deep import utils_w2v_rnn\n",
    "from deep4deep.utils import simple_time_tracker\n",
    "\n",
    "from deep4deep.trainer import LSTM_Meta_Trainer\n",
    "\n"
   ]
  },
  {
   "cell_type": "markdown",
   "metadata": {
    "ExecuteTime": {
     "end_time": "2020-12-07T13:56:49.879976Z",
     "start_time": "2020-12-07T10:52:26.598465Z"
    }
   },
   "source": [
    "from deep4deep import trainer\n",
    "#comment éviter de recharger le glove à chaque fois? \n",
    "trainer.demo()"
   ]
  },
  {
   "cell_type": "code",
   "execution_count": 28,
   "metadata": {
    "ExecuteTime": {
     "end_time": "2020-12-07T15:44:26.844829Z",
     "start_time": "2020-12-07T15:40:46.025894Z"
    }
   },
   "outputs": [
    {
     "name": "stdout",
     "output_type": "stream",
     "text": [
      "initializing Trainer\n",
      "data_prep 0.02\n",
      "initializing Preprocessor\n",
      "downloading transfer learning embedder – this may take time, coffee break maybe?\n",
      "initializing Embedder\n",
      "initializing LstmModel\n",
      "init_and_compile_model 0.03\n"
     ]
    }
   ],
   "source": [
    "trainer = LSTM_Meta_Trainer()"
   ]
  },
  {
   "cell_type": "code",
   "execution_count": 18,
   "metadata": {
    "ExecuteTime": {
     "end_time": "2020-12-07T15:32:03.007633Z",
     "start_time": "2020-12-07T15:32:02.597483Z"
    }
   },
   "outputs": [
    {
     "data": {
      "text/plain": [
       "((1134, 94), (379, 94))"
      ]
     },
     "execution_count": 18,
     "metadata": {},
     "output_type": "execute_result"
    }
   ],
   "source": [
    "my_path = \"../raw_data/data2020-12-03.csv\"\n",
    "recu_train, recu_test = train_test_split(pd.read_csv(my_path), test_size = .25)\n",
    "recu_train.shape, recu_test.shape"
   ]
  },
  {
   "cell_type": "code",
   "execution_count": 22,
   "metadata": {
    "ExecuteTime": {
     "end_time": "2020-12-07T15:38:38.811961Z",
     "start_time": "2020-12-07T15:38:38.662074Z"
    }
   },
   "outputs": [
    {
     "data": {
      "text/plain": [
       "((850, 93), (284, 93))"
      ]
     },
     "execution_count": 22,
     "metadata": {},
     "output_type": "execute_result"
    }
   ],
   "source": [
    "train, val = train_test_split(recu_train, test_size = .25)\n",
    "X_train_main_module = train.drop(columns=['target'])\n",
    "y_train=train['target']\n",
    "X_val_main_module = val.drop(columns=['target'])\n",
    "y_val=val['target']\n",
    "\n",
    "X_train_main_module.shape, X_val_main_module.shape"
   ]
  },
  {
   "cell_type": "code",
   "execution_count": 30,
   "metadata": {
    "ExecuteTime": {
     "end_time": "2020-12-07T15:54:44.671848Z",
     "start_time": "2020-12-07T15:54:44.465506Z"
    }
   },
   "outputs": [],
   "source": [
    "# now I want it to return…\n",
    "\n",
    "def merge_df (df_from_main_module, my_df_meta_categorical):\n",
    "    # both have id as col (not index)\n",
    "    df_from_main_module = df_from_main_module[['id']] # keep no other col\n",
    "    # inner -> keep only the rows that are in both (i.e. selected in df_from_main_module,\n",
    "    # and with data in )\n",
    "    \n",
    "    df = df_from_main_module.merge(my_df_meta_categorical, on='id', how='left', )\n",
    "    df_with_meta = \n",
    "    \n",
    "    return df"
   ]
  },
  {
   "cell_type": "code",
   "execution_count": 35,
   "metadata": {
    "ExecuteTime": {
     "end_time": "2020-12-07T15:55:25.859202Z",
     "start_time": "2020-12-07T15:55:25.728631Z"
    }
   },
   "outputs": [],
   "source": [
    "#lstm_training: define my X\n",
    "#train = \n",
    "tmp = merge_df(X_train_main_module, trainer.df_meta_categorical)\n",
    "#val = merge_df(X_val_main_module, self.df_meta_categorical)"
   ]
  },
  {
   "cell_type": "code",
   "execution_count": 36,
   "metadata": {
    "ExecuteTime": {
     "end_time": "2020-12-07T15:55:28.197623Z",
     "start_time": "2020-12-07T15:55:28.073230Z"
    }
   },
   "outputs": [
    {
     "data": {
      "text/plain": [
       "(850, 9)"
      ]
     },
     "execution_count": 36,
     "metadata": {},
     "output_type": "execute_result"
    }
   ],
   "source": [
    "tmp.shape"
   ]
  },
  {
   "cell_type": "code",
   "execution_count": 51,
   "metadata": {
    "ExecuteTime": {
     "end_time": "2020-12-07T16:08:48.940920Z",
     "start_time": "2020-12-07T16:08:48.756177Z"
    }
   },
   "outputs": [
    {
     "data": {
      "text/plain": [
       "(739,)"
      ]
     },
     "execution_count": 51,
     "metadata": {},
     "output_type": "execute_result"
    }
   ],
   "source": [
    "tmp.full_text.dropna(axis=0, how='any').shape"
   ]
  },
  {
   "cell_type": "code",
   "execution_count": 52,
   "metadata": {
    "ExecuteTime": {
     "end_time": "2020-12-07T18:35:45.982461Z",
     "start_time": "2020-12-07T18:35:45.828135Z"
    }
   },
   "outputs": [
    {
     "data": {
      "text/html": [
       "<div>\n",
       "<style scoped>\n",
       "    .dataframe tbody tr th:only-of-type {\n",
       "        vertical-align: middle;\n",
       "    }\n",
       "\n",
       "    .dataframe tbody tr th {\n",
       "        vertical-align: top;\n",
       "    }\n",
       "\n",
       "    .dataframe thead th {\n",
       "        text-align: right;\n",
       "    }\n",
       "</style>\n",
       "<table border=\"1\" class=\"dataframe\">\n",
       "  <thead>\n",
       "    <tr style=\"text-align: right;\">\n",
       "      <th></th>\n",
       "      <th>id</th>\n",
       "      <th>name</th>\n",
       "      <th>tagline</th>\n",
       "      <th>url</th>\n",
       "      <th>website_url</th>\n",
       "      <th>target</th>\n",
       "      <th>dealroom_meta_description</th>\n",
       "      <th>meta_description</th>\n",
       "      <th>full_text</th>\n",
       "    </tr>\n",
       "  </thead>\n",
       "  <tbody>\n",
       "    <tr>\n",
       "      <th>0</th>\n",
       "      <td>919637</td>\n",
       "      <td>NaN</td>\n",
       "      <td>NaN</td>\n",
       "      <td>NaN</td>\n",
       "      <td>NaN</td>\n",
       "      <td>NaN</td>\n",
       "      <td>NaN</td>\n",
       "      <td>NaN</td>\n",
       "      <td>NaN</td>\n",
       "    </tr>\n",
       "    <tr>\n",
       "      <th>8</th>\n",
       "      <td>1749120</td>\n",
       "      <td>NaN</td>\n",
       "      <td>NaN</td>\n",
       "      <td>NaN</td>\n",
       "      <td>NaN</td>\n",
       "      <td>NaN</td>\n",
       "      <td>NaN</td>\n",
       "      <td>NaN</td>\n",
       "      <td>NaN</td>\n",
       "    </tr>\n",
       "    <tr>\n",
       "      <th>34</th>\n",
       "      <td>1833275</td>\n",
       "      <td>NaN</td>\n",
       "      <td>NaN</td>\n",
       "      <td>NaN</td>\n",
       "      <td>NaN</td>\n",
       "      <td>NaN</td>\n",
       "      <td>NaN</td>\n",
       "      <td>NaN</td>\n",
       "      <td>NaN</td>\n",
       "    </tr>\n",
       "    <tr>\n",
       "      <th>48</th>\n",
       "      <td>1832860</td>\n",
       "      <td>NaN</td>\n",
       "      <td>NaN</td>\n",
       "      <td>NaN</td>\n",
       "      <td>NaN</td>\n",
       "      <td>NaN</td>\n",
       "      <td>NaN</td>\n",
       "      <td>NaN</td>\n",
       "      <td>NaN</td>\n",
       "    </tr>\n",
       "    <tr>\n",
       "      <th>50</th>\n",
       "      <td>1817219</td>\n",
       "      <td>NaN</td>\n",
       "      <td>NaN</td>\n",
       "      <td>NaN</td>\n",
       "      <td>NaN</td>\n",
       "      <td>NaN</td>\n",
       "      <td>NaN</td>\n",
       "      <td>NaN</td>\n",
       "      <td>NaN</td>\n",
       "    </tr>\n",
       "    <tr>\n",
       "      <th>...</th>\n",
       "      <td>...</td>\n",
       "      <td>...</td>\n",
       "      <td>...</td>\n",
       "      <td>...</td>\n",
       "      <td>...</td>\n",
       "      <td>...</td>\n",
       "      <td>...</td>\n",
       "      <td>...</td>\n",
       "      <td>...</td>\n",
       "    </tr>\n",
       "    <tr>\n",
       "      <th>831</th>\n",
       "      <td>1891276</td>\n",
       "      <td>NaN</td>\n",
       "      <td>NaN</td>\n",
       "      <td>NaN</td>\n",
       "      <td>NaN</td>\n",
       "      <td>NaN</td>\n",
       "      <td>NaN</td>\n",
       "      <td>NaN</td>\n",
       "      <td>NaN</td>\n",
       "    </tr>\n",
       "    <tr>\n",
       "      <th>838</th>\n",
       "      <td>1464546</td>\n",
       "      <td>NaN</td>\n",
       "      <td>NaN</td>\n",
       "      <td>NaN</td>\n",
       "      <td>NaN</td>\n",
       "      <td>NaN</td>\n",
       "      <td>NaN</td>\n",
       "      <td>NaN</td>\n",
       "      <td>NaN</td>\n",
       "    </tr>\n",
       "    <tr>\n",
       "      <th>839</th>\n",
       "      <td>188523</td>\n",
       "      <td>NaN</td>\n",
       "      <td>NaN</td>\n",
       "      <td>NaN</td>\n",
       "      <td>NaN</td>\n",
       "      <td>NaN</td>\n",
       "      <td>NaN</td>\n",
       "      <td>NaN</td>\n",
       "      <td>NaN</td>\n",
       "    </tr>\n",
       "    <tr>\n",
       "      <th>845</th>\n",
       "      <td>1447945</td>\n",
       "      <td>NaN</td>\n",
       "      <td>NaN</td>\n",
       "      <td>NaN</td>\n",
       "      <td>NaN</td>\n",
       "      <td>NaN</td>\n",
       "      <td>NaN</td>\n",
       "      <td>NaN</td>\n",
       "      <td>NaN</td>\n",
       "    </tr>\n",
       "    <tr>\n",
       "      <th>848</th>\n",
       "      <td>1660309</td>\n",
       "      <td>NaN</td>\n",
       "      <td>NaN</td>\n",
       "      <td>NaN</td>\n",
       "      <td>NaN</td>\n",
       "      <td>NaN</td>\n",
       "      <td>NaN</td>\n",
       "      <td>NaN</td>\n",
       "      <td>NaN</td>\n",
       "    </tr>\n",
       "  </tbody>\n",
       "</table>\n",
       "<p>111 rows × 9 columns</p>\n",
       "</div>"
      ],
      "text/plain": [
       "          id name tagline  url website_url  target dealroom_meta_description  \\\n",
       "0     919637  NaN     NaN  NaN         NaN     NaN                       NaN   \n",
       "8    1749120  NaN     NaN  NaN         NaN     NaN                       NaN   \n",
       "34   1833275  NaN     NaN  NaN         NaN     NaN                       NaN   \n",
       "48   1832860  NaN     NaN  NaN         NaN     NaN                       NaN   \n",
       "50   1817219  NaN     NaN  NaN         NaN     NaN                       NaN   \n",
       "..       ...  ...     ...  ...         ...     ...                       ...   \n",
       "831  1891276  NaN     NaN  NaN         NaN     NaN                       NaN   \n",
       "838  1464546  NaN     NaN  NaN         NaN     NaN                       NaN   \n",
       "839   188523  NaN     NaN  NaN         NaN     NaN                       NaN   \n",
       "845  1447945  NaN     NaN  NaN         NaN     NaN                       NaN   \n",
       "848  1660309  NaN     NaN  NaN         NaN     NaN                       NaN   \n",
       "\n",
       "    meta_description full_text  \n",
       "0                NaN       NaN  \n",
       "8                NaN       NaN  \n",
       "34               NaN       NaN  \n",
       "48               NaN       NaN  \n",
       "50               NaN       NaN  \n",
       "..               ...       ...  \n",
       "831              NaN       NaN  \n",
       "838              NaN       NaN  \n",
       "839              NaN       NaN  \n",
       "845              NaN       NaN  \n",
       "848              NaN       NaN  \n",
       "\n",
       "[111 rows x 9 columns]"
      ]
     },
     "execution_count": 52,
     "metadata": {},
     "output_type": "execute_result"
    }
   ],
   "source": [
    "tmp[tmp.full_text.isna()]"
   ]
  },
  {
   "cell_type": "code",
   "execution_count": 49,
   "metadata": {
    "ExecuteTime": {
     "end_time": "2020-12-07T16:08:15.358995Z",
     "start_time": "2020-12-07T16:08:15.146997Z"
    }
   },
   "outputs": [
    {
     "data": {
      "text/plain": [
       "id                             0\n",
       "name                         107\n",
       "tagline                      120\n",
       "url                          107\n",
       "website_url                  107\n",
       "target                       107\n",
       "dealroom_meta_description    107\n",
       "meta_description             111\n",
       "full_text                    111\n",
       "dtype: int64"
      ]
     },
     "execution_count": 49,
     "metadata": {},
     "output_type": "execute_result"
    }
   ],
   "source": [
    "tmp.isna().sum(axis=0)"
   ]
  },
  {
   "cell_type": "code",
   "execution_count": null,
   "metadata": {},
   "outputs": [],
   "source": []
  },
  {
   "cell_type": "code",
   "execution_count": null,
   "metadata": {},
   "outputs": [],
   "source": []
  },
  {
   "cell_type": "code",
   "execution_count": null,
   "metadata": {},
   "outputs": [],
   "source": [
    "#lstm_training: define my X\n",
    "#train = \n",
    "merge_df(X_train_main_module, self.df_meta_categorical)\n",
    "#val = merge_df(X_val_main_module, self.df_meta_categorical)\n"
   ]
  },
  {
   "cell_type": "code",
   "execution_count": null,
   "metadata": {},
   "outputs": [],
   "source": []
  },
  {
   "cell_type": "code",
   "execution_count": null,
   "metadata": {},
   "outputs": [],
   "source": []
  }
 ],
 "metadata": {
  "kernelspec": {
   "display_name": "Python 3",
   "language": "python",
   "name": "python3"
  },
  "language_info": {
   "codemirror_mode": {
    "name": "ipython",
    "version": 3
   },
   "file_extension": ".py",
   "mimetype": "text/x-python",
   "name": "python",
   "nbconvert_exporter": "python",
   "pygments_lexer": "ipython3",
   "version": "3.8.5"
  },
  "toc": {
   "base_numbering": 1,
   "nav_menu": {},
   "number_sections": true,
   "sideBar": true,
   "skip_h1_title": false,
   "title_cell": "Table of Contents",
   "title_sidebar": "Contents",
   "toc_cell": false,
   "toc_position": {},
   "toc_section_display": true,
   "toc_window_display": false
  }
 },
 "nbformat": 4,
 "nbformat_minor": 4
}
