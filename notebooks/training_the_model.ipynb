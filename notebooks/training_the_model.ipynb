{
 "cells": [
  {
   "cell_type": "code",
   "execution_count": 24,
   "metadata": {
    "ExecuteTime": {
     "end_time": "2020-12-20T20:13:52.622068Z",
     "start_time": "2020-12-20T20:13:52.488245Z"
    }
   },
   "outputs": [],
   "source": [
    "%load_ext autoreload\n",
    "%autoreload 2"
   ]
  },
  {
   "cell_type": "markdown",
   "metadata": {},
   "source": [
    "-----\n",
    "# Imports, scraping and initial dataframe "
   ]
  },
  {
   "cell_type": "code",
   "execution_count": 25,
   "metadata": {
    "ExecuteTime": {
     "end_time": "2020-12-20T20:13:53.339773Z",
     "start_time": "2020-12-20T20:13:53.222975Z"
    }
   },
   "outputs": [],
   "source": [
    "import pandas as pd\n",
    "from sklearn.model_selection import train_test_split\n",
    "\n",
    "\n",
    "from deep4deep.text_retrieval import prepare_my_df, get_meta_description_columns\n",
    "#from deep4deep.text_processing import text_preprocessing, remove_special_chars, remove_punctuation\n",
    "from deep4deep.description_dataframe_preparation import change_to_categorical\n",
    "from deep4deep.w2v_embedding_and_rnn_model import Preprocessor, Embedder\n",
    "from deep4deep.trainer import LSTM_Meta_Trainer"
   ]
  },
  {
   "cell_type": "code",
   "execution_count": 26,
   "metadata": {
    "ExecuteTime": {
     "end_time": "2020-12-20T20:13:55.140483Z",
     "start_time": "2020-12-20T20:13:54.838387Z"
    }
   },
   "outputs": [],
   "source": [
    "# This the scraping part that will take an hour or two\n",
    "# Comment it after use to avoid launching twice\n",
    "# Or, if no or limited new data, skip to next cell\n",
    "\n",
    "df = pd.read_csv('../raw_data/data2020-12-03.csv')\n",
    "# if needed, copy this file in deep4deep/raw_data from the Google Drive\n",
    "# https://drive.google.com/drive/folders/1u-97dBCvEb9ESCcHbU3LjlkCFfOX6-JW\n",
    "\n",
    "my_df = prepare_my_df(df)"
   ]
  },
  {
   "cell_type": "code",
   "execution_count": 27,
   "metadata": {
    "ExecuteTime": {
     "end_time": "2020-12-20T21:32:16.488059Z",
     "start_time": "2020-12-20T20:13:58.063147Z"
    }
   },
   "outputs": [
    {
     "name": "stdout",
     "output_type": "stream",
     "text": [
      "http://www.acubens-biotech.com threw an error, trying again without SSL security certificate\n",
      "website http://www.acubens-biotech.com request threw an error\n",
      "\n",
      "https://www.air-serenity.com/fr/ threw an error, trying again without SSL security certificate\n",
      "website https://www.air-serenity.com/fr/ request threw an error\n",
      "\n",
      "https://www.anatoscope.com/ threw an error, trying again without SSL security certificate\n",
      "https://www.angus.ai/ threw an error, trying again without SSL security certificate\n",
      "http://corwave.fr threw an error, trying again without SSL security certificate\n",
      "http://www.crosslux.eu/ threw an error, trying again without SSL security certificate\n",
      "website http://www.crosslux.eu/ request threw an error\n",
      "\n",
      "http://www.diamlite.com threw an error, trying again without SSL security certificate\n",
      "website http://www.diamlite.com request threw an error\n",
      "\n",
      "https://www.enancio.com/ threw an error, trying again without SSL security certificate\n",
      "website https://www.enancio.com/ request threw an error\n",
      "\n",
      "http://feroscan.com threw an error, trying again without SSL security certificate\n",
      "website http://feroscan.com request threw an error\n",
      "\n",
      "http://fi2med.com threw an error, trying again without SSL security certificate\n",
      "website http://fi2med.com request threw an error\n",
      "\n",
      "https://www.forcity.com/en/ threw an error, trying again without SSL security certificate\n",
      "website https://www.forcity.com/en/ request threw an error\n",
      "\n",
      "http://freemens.fr threw an error, trying again without SSL security certificate\n",
      "http://orphan-europe.com threw an error, trying again without SSL security certificate\n",
      "website http://orphan-europe.com request threw an error\n",
      "\n",
      "http://hydrocean.eu threw an error, trying again without SSL security certificate\n",
      "https://www.isabo.ai/fr/accueil/ threw an error, trying again without SSL security certificate\n",
      "https://lucine.fr/ threw an error, trying again without SSL security certificate\n",
      "website https://lucine.fr/ request threw an error\n",
      "\n",
      "http://www.medday-pharma.com/ threw an error, trying again without SSL security certificate\n",
      "website http://www.medday-pharma.com/ request threw an error\n",
      "\n"
     ]
    },
    {
     "name": "stderr",
     "output_type": "stream",
     "text": [
      "Some characters could not be decoded, and were replaced with REPLACEMENT CHARACTER.\n"
     ]
    },
    {
     "name": "stdout",
     "output_type": "stream",
     "text": [
      "http://www.nanogenpharma.com/ threw an error, trying again without SSL security certificate\n",
      "https://netri.fr/ threw an error, trying again without SSL security certificate\n",
      "http://nexxai.com/ threw an error, trying again without SSL security certificate\n",
      "website http://nexxai.com/ request threw an error\n",
      "\n",
      "http://www.nixys-medical.com/ threw an error, trying again without SSL security certificate\n",
      "website http://www.nixys-medical.com/ request threw an error\n",
      "\n",
      "https://www.nutriearth.fr/ threw an error, trying again without SSL security certificate\n",
      "website https://www.nutriearth.fr/ request threw an error\n",
      "\n"
     ]
    },
    {
     "name": "stderr",
     "output_type": "stream",
     "text": [
      "Some characters could not be decoded, and were replaced with REPLACEMENT CHARACTER.\n"
     ]
    },
    {
     "name": "stdout",
     "output_type": "stream",
     "text": [
      "http://www.pixmap3d.com/ threw an error, trying again without SSL security certificate\n",
      "website http://www.pixmap3d.com/ request threw an error\n",
      "\n",
      "http://precogs.com threw an error, trying again without SSL security certificate\n",
      "http://www.progelife.com/ threw an error, trying again without SSL security certificate\n",
      "https://regaind.io threw an error, trying again without SSL security certificate\n",
      "website https://regaind.io request threw an error\n",
      "\n",
      "http://sim-and-cure.com threw an error, trying again without SSL security certificate\n",
      "http://www.ultimetas.com/ threw an error, trying again without SSL security certificate\n",
      "website http://www.ultimetas.com/ request threw an error\n",
      "\n",
      "http://yealth.io threw an error, trying again without SSL security certificate\n",
      "website http://yealth.io request threw an error\n",
      "\n",
      "http://www.corwave.com threw an error, trying again without SSL security certificate\n",
      "https://whitelabgenomics.com/ threw an error, trying again without SSL security certificate\n",
      "http://www.vfbioscience.com/ threw an error, trying again without SSL security certificate\n",
      "website http://www.vfbioscience.com/ request threw an error\n",
      "\n",
      "https://holistick-medical.com threw an error, trying again without SSL security certificate\n",
      "website https://holistick-medical.com request threw an error\n",
      "\n",
      "https://www.neolysdiagnostics.com/fr/ threw an error, trying again without SSL security certificate\n",
      "website https://www.neolysdiagnostics.com/fr/ request threw an error\n",
      "\n",
      "http://firstlight.fr threw an error, trying again without SSL security certificate\n",
      "website http://firstlight.fr request threw an error\n",
      "\n",
      "http://lalilo.fr threw an error, trying again without SSL security certificate\n",
      "website http://lalilo.fr request threw an error\n",
      "\n",
      "https://tridekone.com/ threw an error, trying again without SSL security certificate\n",
      "website https://tridekone.com/ request threw an error\n",
      "\n",
      "https://www.blacklinefrance.com/ threw an error, trying again without SSL security certificate\n",
      "website https://www.blacklinefrance.com/ request threw an error\n",
      "\n",
      "http://doc.fr threw an error, trying again without SSL security certificate\n",
      "website http://doc.fr request threw an error\n",
      "\n",
      "https://www.facetts.com threw an error, trying again without SSL security certificate\n",
      "https://folhomee.fr/#home threw an error, trying again without SSL security certificate\n",
      "website https://folhomee.fr/#home request threw an error\n",
      "\n",
      "https://www.influans.com threw an error, trying again without SSL security certificate\n",
      "http://jobypepper.com threw an error, trying again without SSL security certificate\n",
      "website http://jobypepper.com request threw an error\n",
      "\n",
      "http://getknot.com threw an error, trying again without SSL security certificate\n",
      "website http://getknot.com request threw an error\n",
      "\n",
      "http://mytutorabroad.com/ threw an error, trying again without SSL security certificate\n",
      "website http://mytutorabroad.com/ request threw an error\n",
      "\n",
      "https://www.playeur.co threw an error, trying again without SSL security certificate\n",
      "website https://www.playeur.co request threw an error\n",
      "\n",
      "http://safe-cyberdefense.com threw an error, trying again without SSL security certificate\n",
      "website http://safe-cyberdefense.com request threw an error\n",
      "\n",
      "https://www.swabbl.com/ threw an error, trying again without SSL security certificate\n",
      "website https://www.swabbl.com/ request threw an error\n",
      "\n",
      "https://www.vijump.com threw an error, trying again without SSL security certificate\n",
      "https://www.biosynex.com/en threw an error, trying again without SSL security certificate\n",
      "http://www.novolyze.com/ threw an error, trying again without SSL security certificate\n",
      "http://innixim.com threw an error, trying again without SSL security certificate\n",
      "website http://innixim.com request threw an error\n",
      "\n",
      "http://shop.argosvrsystems.co threw an error, trying again without SSL security certificate\n",
      "website http://shop.argosvrsystems.co request threw an error\n",
      "\n",
      "http://fizix.io threw an error, trying again without SSL security certificate\n",
      "website http://fizix.io request threw an error\n",
      "\n",
      "http://merieuxnutrisciences.com threw an error, trying again without SSL security certificate\n",
      "website http://merieuxnutrisciences.com request threw an error\n",
      "\n",
      "http://www.cellnovo.com threw an error, trying again without SSL security certificate\n",
      "website http://www.cellnovo.com request threw an error\n",
      "\n",
      "http://www.cci-paris-idf.fr/ threw an error, trying again without SSL security certificate\n",
      "website http://www.cci-paris-idf.fr/ request threw an error\n",
      "\n",
      "https://cometapp.io/ threw an error, trying again without SSL security certificate\n",
      "http://wosom.tech threw an error, trying again without SSL security certificate\n",
      "website http://wosom.tech request threw an error\n",
      "\n",
      "http://en.dnagensee.com threw an error, trying again without SSL security certificate\n",
      "http://efficiencia.com/index_en.html threw an error, trying again without SSL security certificate\n",
      "website http://efficiencia.com/index_en.html request threw an error\n",
      "\n",
      "http://eminence.fr threw an error, trying again without SSL security certificate\n",
      "http://cvginc.net threw an error, trying again without SSL security certificate\n",
      "website http://cvginc.net request threw an error\n",
      "\n",
      "http://be.eznov.com/ threw an error, trying again without SSL security certificate\n",
      "website http://be.eznov.com/ request threw an error\n",
      "\n",
      "http://fealinx.com threw an error, trying again without SSL security certificate\n",
      "website http://fealinx.com request threw an error\n",
      "\n",
      "http://impactcard.net threw an error, trying again without SSL security certificate\n",
      "website http://impactcard.net request threw an error\n",
      "\n",
      "http://lifeaz.fr threw an error, trying again without SSL security certificate\n",
      "http://lineberty.com threw an error, trying again without SSL security certificate\n",
      "website http://lineberty.com request threw an error\n",
      "\n",
      "https://www.livemon.com/en-US/ threw an error, trying again without SSL security certificate\n",
      "http://nexidia.com threw an error, trying again without SSL security certificate\n",
      "http://octech-gp.com threw an error, trying again without SSL security certificate\n",
      "website http://octech-gp.com request threw an error\n",
      "\n",
      "http://www.esillage.fr/ threw an error, trying again without SSL security certificate\n",
      "website http://www.esillage.fr/ request threw an error\n",
      "\n",
      "https://www.sysmo.io/ threw an error, trying again without SSL security certificate\n",
      "https://mining.tresorio.com/ threw an error, trying again without SSL security certificate\n",
      "website https://mining.tresorio.com/ request threw an error\n",
      "\n"
     ]
    }
   ],
   "source": [
    "# dropping the \"almost_deep_tech\" before scraping to save time\n",
    "my_df = change_to_categorical(my_df)\n",
    "\n",
    "my_df_with_metatags = get_meta_description_columns(my_df)\n",
    "my_df_with_metatags.to_csv(\"my_df_with_metatags.csv\", index=False)"
   ]
  },
  {
   "cell_type": "code",
   "execution_count": null,
   "metadata": {
    "ExecuteTime": {
     "start_time": "2020-12-20T09:01:29.060Z"
    }
   },
   "outputs": [],
   "source": [
    "# Alternatively, you can read the existing dataframe (copy it in deep4deep/raw_data from the Google Drive\n",
    "# https://drive.google.com/drive/folders/1u-97dBCvEb9ESCcHbU3LjlkCFfOX6-JW)\n",
    "# Or tweak the code to only add new data\n",
    "my_df_with_metatags = pd.read_csv(\"my_df_with_metatags.csv\")"
   ]
  },
  {
   "cell_type": "markdown",
   "metadata": {},
   "source": [
    "---\n",
    "# Initializing and training the LSTM Recurrent Neural Netwok model"
   ]
  },
  {
   "cell_type": "code",
   "execution_count": 29,
   "metadata": {
    "ExecuteTime": {
     "end_time": "2020-12-21T06:43:37.716096Z",
     "start_time": "2020-12-21T06:43:37.555281Z"
    }
   },
   "outputs": [],
   "source": [
    "# adding the 'full_text' column\n",
    "my_df_with_metatags['full_text'] = my_df_with_metatags.dealroom_meta_description + \" \" + my_df_with_metatags.meta_description"
   ]
  },
  {
   "cell_type": "code",
   "execution_count": 35,
   "metadata": {
    "ExecuteTime": {
     "end_time": "2020-12-21T06:52:07.291130Z",
     "start_time": "2020-12-21T06:52:07.166725Z"
    }
   },
   "outputs": [],
   "source": [
    "# Again, this takes a long time, so launch it only once, then comment\n",
    "#embedder = Embedder()"
   ]
  },
  {
   "cell_type": "code",
   "execution_count": 32,
   "metadata": {
    "ExecuteTime": {
     "end_time": "2020-12-21T06:46:37.651626Z",
     "start_time": "2020-12-21T06:46:37.256996Z"
    }
   },
   "outputs": [
    {
     "name": "stdout",
     "output_type": "stream",
     "text": [
      "initializing Preprocessor\n",
      "initializing Trainer\n",
      "initializing LstmModel\n"
     ]
    }
   ],
   "source": [
    "preprocessor = Preprocessor()\n",
    "trainer = LSTM_Meta_Trainer(preprocessor, embedder)"
   ]
  },
  {
   "cell_type": "code",
   "execution_count": 46,
   "metadata": {
    "ExecuteTime": {
     "end_time": "2020-12-21T06:57:12.783605Z",
     "start_time": "2020-12-21T06:57:12.661874Z"
    }
   },
   "outputs": [],
   "source": [
    "# Preparing train_set and val_set\n",
    "\n",
    "train_set, val_set =  train_test_split(my_df_with_metatags, test_size=.1)\n",
    "# setting a fraction aside for performance measurement. \n",
    "# If you want an unbiased measurement of performance, set aside another chunk for final testing\n",
    "# We did not because labelled data was in limited supply\n",
    "# If it is the final training abefore deployment and you just want a fraction for EarlyStopping, set test_size to 0.1 "
   ]
  },
  {
   "cell_type": "code",
   "execution_count": 47,
   "metadata": {
    "ExecuteTime": {
     "end_time": "2020-12-21T06:57:57.426524Z",
     "start_time": "2020-12-21T06:57:13.435668Z"
    }
   },
   "outputs": [
    {
     "name": "stdout",
     "output_type": "stream",
     "text": [
      "fitting the model. this may take a few minutes.\n",
      "Epoch 1/500\n",
      "19/19 [==============================] - 2s 118ms/step - loss: 0.1338 - mae: 0.2900 - mse: 0.1338 - accuracy: 0.8221 - val_loss: 0.1511 - val_mae: 0.3081 - val_mse: 0.1511 - val_accuracy: 0.7615\n",
      "Epoch 2/500\n",
      "19/19 [==============================] - 2s 121ms/step - loss: 0.1352 - mae: 0.2877 - mse: 0.1352 - accuracy: 0.8111 - val_loss: 0.1201 - val_mae: 0.2626 - val_mse: 0.1201 - val_accuracy: 0.8462\n",
      "Epoch 3/500\n",
      "19/19 [==============================] - 2s 119ms/step - loss: 0.1237 - mae: 0.2698 - mse: 0.1237 - accuracy: 0.8357 - val_loss: 0.1221 - val_mae: 0.2622 - val_mse: 0.1221 - val_accuracy: 0.8462\n",
      "Epoch 4/500\n",
      "19/19 [==============================] - 2s 127ms/step - loss: 0.1170 - mae: 0.2643 - mse: 0.1170 - accuracy: 0.8434 - val_loss: 0.1216 - val_mae: 0.2692 - val_mse: 0.1216 - val_accuracy: 0.8308\n",
      "Epoch 5/500\n",
      "19/19 [==============================] - 2s 121ms/step - loss: 0.1125 - mae: 0.2521 - mse: 0.1125 - accuracy: 0.8502 - val_loss: 0.1223 - val_mae: 0.2660 - val_mse: 0.1223 - val_accuracy: 0.8308\n",
      "Epoch 6/500\n",
      "19/19 [==============================] - 2s 120ms/step - loss: 0.1008 - mae: 0.2381 - mse: 0.1008 - accuracy: 0.8732 - val_loss: 0.1214 - val_mae: 0.2683 - val_mse: 0.1214 - val_accuracy: 0.8231\n",
      "Epoch 7/500\n",
      "19/19 [==============================] - 2s 118ms/step - loss: 0.1014 - mae: 0.2358 - mse: 0.1014 - accuracy: 0.8749 - val_loss: 0.1529 - val_mae: 0.2989 - val_mse: 0.1529 - val_accuracy: 0.7462\n",
      "Epoch 8/500\n",
      "19/19 [==============================] - 2s 117ms/step - loss: 0.0911 - mae: 0.2218 - mse: 0.0911 - accuracy: 0.8877 - val_loss: 0.1231 - val_mae: 0.2604 - val_mse: 0.1231 - val_accuracy: 0.8000\n",
      "Epoch 9/500\n",
      "19/19 [==============================] - 2s 121ms/step - loss: 0.0887 - mae: 0.2183 - mse: 0.0887 - accuracy: 0.8987 - val_loss: 0.1307 - val_mae: 0.2694 - val_mse: 0.1307 - val_accuracy: 0.8000\n",
      "Epoch 10/500\n",
      "19/19 [==============================] - 2s 121ms/step - loss: 0.0844 - mae: 0.2093 - mse: 0.0844 - accuracy: 0.8987 - val_loss: 0.1635 - val_mae: 0.2970 - val_mse: 0.1635 - val_accuracy: 0.7615\n",
      "Epoch 11/500\n",
      "19/19 [==============================] - 2s 118ms/step - loss: 0.0766 - mae: 0.1971 - mse: 0.0766 - accuracy: 0.9149 - val_loss: 0.1433 - val_mae: 0.2746 - val_mse: 0.1433 - val_accuracy: 0.7692\n",
      "Epoch 12/500\n",
      "19/19 [==============================] - 2s 119ms/step - loss: 0.0715 - mae: 0.1908 - mse: 0.0715 - accuracy: 0.9251 - val_loss: 0.1666 - val_mae: 0.3017 - val_mse: 0.1666 - val_accuracy: 0.7462\n",
      "Epoch 13/500\n",
      "19/19 [==============================] - 2s 124ms/step - loss: 0.0684 - mae: 0.1842 - mse: 0.0684 - accuracy: 0.9285 - val_loss: 0.1413 - val_mae: 0.2640 - val_mse: 0.1413 - val_accuracy: 0.8077\n",
      "Epoch 14/500\n",
      "19/19 [==============================] - 2s 122ms/step - loss: 0.0625 - mae: 0.1753 - mse: 0.0625 - accuracy: 0.9396 - val_loss: 0.1644 - val_mae: 0.2863 - val_mse: 0.1644 - val_accuracy: 0.7538\n",
      "Epoch 15/500\n",
      "19/19 [==============================] - 2s 120ms/step - loss: 0.0613 - mae: 0.1691 - mse: 0.0613 - accuracy: 0.9345 - val_loss: 0.1504 - val_mae: 0.2674 - val_mse: 0.1504 - val_accuracy: 0.7923\n",
      "Epoch 16/500\n",
      "19/19 [==============================] - 2s 130ms/step - loss: 0.0569 - mae: 0.1654 - mse: 0.0569 - accuracy: 0.9430 - val_loss: 0.1389 - val_mae: 0.2535 - val_mse: 0.1389 - val_accuracy: 0.8000\n",
      "Epoch 17/500\n",
      "19/19 [==============================] - 2s 130ms/step - loss: 0.0551 - mae: 0.1586 - mse: 0.0551 - accuracy: 0.9421 - val_loss: 0.1460 - val_mae: 0.2607 - val_mse: 0.1460 - val_accuracy: 0.8000\n",
      "accuracy: 84.62 %\n",
      "precision: 86.76 %\n",
      "recall: 84.29 %\n",
      "f1: 85.51 %\n",
      "Confusion matrix\n"
     ]
    },
    {
     "data": {
      "image/png": "[encoded data removed]",
      "text/plain": [
       "<Figure size 432x288 with 2 Axes>"
      ]
     },
     "metadata": {
      "needs_background": "light"
     },
     "output_type": "display_data"
    },
    {
     "name": "stdout",
     "output_type": "stream",
     "text": [
      "85.0\t87.0\t84.0\t86.0\n"
     ]
    },
    {
     "data": {
      "image/png": "[encoded data removed]",
      "text/plain": [
       "<Figure size 432x288 with 1 Axes>"
      ]
     },
     "metadata": {
      "needs_background": "light"
     },
     "output_type": "display_data"
    },
    {
     "data": {
      "image/png": "[encoded data removed]",
      "text/plain": [
       "<Figure size 432x288 with 1 Axes>"
      ]
     },
     "metadata": {
      "needs_background": "light"
     },
     "output_type": "display_data"
    },
    {
     "name": "stdout",
     "output_type": "stream",
     "text": [
      "lstm_training 43.87\n"
     ]
    },
    {
     "data": {
      "text/plain": [
       "LstmModel()"
      ]
     },
     "execution_count": 47,
     "metadata": {},
     "output_type": "execute_result"
    }
   ],
   "source": [
    "trainer.lstm_training(train_set, val_set)"
   ]
  },
  {
   "cell_type": "code",
   "execution_count": 48,
   "metadata": {
    "ExecuteTime": {
     "end_time": "2020-12-21T06:59:39.714577Z",
     "start_time": "2020-12-21T06:59:24.810161Z"
    }
   },
   "outputs": [
    {
     "name": "stdout",
     "output_type": "stream",
     "text": [
      "WARNING:tensorflow:From /Users/admin/.pyenv/versions/data/envs/NLP/lib/python3.8/site-packages/tensorflow/python/training/tracking/tracking.py:111: Model.state_updates (from tensorflow.python.keras.engine.training) is deprecated and will be removed in a future version.\n",
      "Instructions for updating:\n",
      "This property should not be used in TensorFlow 2.0, as updates are applied automatically.\n",
      "WARNING:tensorflow:From /Users/admin/.pyenv/versions/data/envs/NLP/lib/python3.8/site-packages/tensorflow/python/training/tracking/tracking.py:111: Layer.updates (from tensorflow.python.keras.engine.base_layer) is deprecated and will be removed in a future version.\n",
      "Instructions for updating:\n",
      "This property should not be used in TensorFlow 2.0, as updates are applied automatically.\n",
      "INFO:tensorflow:Assets written to: deeptech_NLP_model/assets\n"
     ]
    }
   ],
   "source": [
    "trainer.save_model()"
   ]
  },
  {
   "cell_type": "markdown",
   "metadata": {},
   "source": [
    "---\n"
   ]
  },
  {
   "cell_type": "code",
   "execution_count": 770,
   "metadata": {
    "ExecuteTime": {
     "end_time": "2020-12-08T08:23:42.731835Z",
     "start_time": "2020-12-08T08:23:42.090881Z"
    }
   },
   "outputs": [
    {
     "name": "stderr",
     "output_type": "stream",
     "text": [
      "[autoreload of deep4deep.text_processing failed: Traceback (most recent call last):\n",
      "  File \"/Users/admin/.pyenv/versions/data/envs/NLP/lib/python3.8/site-packages/IPython/extensions/autoreload.py\", line 245, in check\n",
      "    superreload(m, reload, self.old_objects)\n",
      "  File \"/Users/admin/.pyenv/versions/data/envs/NLP/lib/python3.8/site-packages/IPython/extensions/autoreload.py\", line 410, in superreload\n",
      "    update_generic(old_obj, new_obj)\n",
      "  File \"/Users/admin/.pyenv/versions/data/envs/NLP/lib/python3.8/site-packages/IPython/extensions/autoreload.py\", line 347, in update_generic\n",
      "    update(a, b)\n",
      "  File \"/Users/admin/.pyenv/versions/data/envs/NLP/lib/python3.8/site-packages/IPython/extensions/autoreload.py\", line 266, in update_function\n",
      "    setattr(old, name, getattr(new, name))\n",
      "ValueError: text_preprocessing() requires a code object with 0 free vars, not 1\n",
      "]\n",
      "[autoreload of deep4deep.text_retrieval failed: Traceback (most recent call last):\n",
      "  File \"/Users/admin/.pyenv/versions/data/envs/NLP/lib/python3.8/site-packages/IPython/extensions/autoreload.py\", line 245, in check\n",
      "    superreload(m, reload, self.old_objects)\n",
      "  File \"/Users/admin/.pyenv/versions/data/envs/NLP/lib/python3.8/site-packages/IPython/extensions/autoreload.py\", line 410, in superreload\n",
      "    update_generic(old_obj, new_obj)\n",
      "  File \"/Users/admin/.pyenv/versions/data/envs/NLP/lib/python3.8/site-packages/IPython/extensions/autoreload.py\", line 347, in update_generic\n",
      "    update(a, b)\n",
      "  File \"/Users/admin/.pyenv/versions/data/envs/NLP/lib/python3.8/site-packages/IPython/extensions/autoreload.py\", line 266, in update_function\n",
      "    setattr(old, name, getattr(new, name))\n",
      "ValueError: prepare_my_df() requires a code object with 0 free vars, not 1\n",
      "]\n",
      "[autoreload of deep4deep.trainer failed: Traceback (most recent call last):\n",
      "  File \"/Users/admin/.pyenv/versions/data/envs/NLP/lib/python3.8/site-packages/IPython/extensions/autoreload.py\", line 245, in check\n",
      "    superreload(m, reload, self.old_objects)\n",
      "  File \"/Users/admin/.pyenv/versions/data/envs/NLP/lib/python3.8/site-packages/IPython/extensions/autoreload.py\", line 410, in superreload\n",
      "    update_generic(old_obj, new_obj)\n",
      "  File \"/Users/admin/.pyenv/versions/data/envs/NLP/lib/python3.8/site-packages/IPython/extensions/autoreload.py\", line 347, in update_generic\n",
      "    update(a, b)\n",
      "  File \"/Users/admin/.pyenv/versions/data/envs/NLP/lib/python3.8/site-packages/IPython/extensions/autoreload.py\", line 302, in update_class\n",
      "    if update_generic(old_obj, new_obj): continue\n",
      "  File \"/Users/admin/.pyenv/versions/data/envs/NLP/lib/python3.8/site-packages/IPython/extensions/autoreload.py\", line 347, in update_generic\n",
      "    update(a, b)\n",
      "  File \"/Users/admin/.pyenv/versions/data/envs/NLP/lib/python3.8/site-packages/IPython/extensions/autoreload.py\", line 266, in update_function\n",
      "    setattr(old, name, getattr(new, name))\n",
      "ValueError: lstm_training() requires a code object with 0 free vars, not 1\n",
      "]\n"
     ]
    }
   ],
   "source": [
    "#TODO: le garder qq part\n",
    "# use trainer.\n",
    "# calculating dummy baseline by hand\n",
    "X_val_check2 = pd.DataFrame(X_val_check)\n",
    "X_val_check2['y_pred'] = y_train.mean()\n",
    "X_val_check2['y_true'] = y_val\n",
    "X_val_check2['y_pred_binary'] = [1 if item >threshold else 0 for item in X_val_check2.y_pred]\n",
    "\n",
    "condition_target_1 = (X_val_check2.y_true==1.0)\n",
    "condition_pred_1 = (X_val_check2.y_pred_binary==1)\n",
    "X_val_check2['TP'] = condition_target_1 & condition_pred_1\n",
    "X_val_check2['TN'] = ~condition_target_1 & ~condition_pred_1\n",
    "X_val_check2['FP'] = ~condition_target_1 & condition_pred_1\n",
    "X_val_check2['FN'] = condition_target_1 & ~condition_pred_1"
   ]
  },
  {
   "cell_type": "code",
   "execution_count": null,
   "metadata": {},
   "outputs": [],
   "source": []
  }
 ],
 "metadata": {
  "kernelspec": {
   "display_name": "Python 3",
   "language": "python",
   "name": "python3"
  },
  "language_info": {
   "codemirror_mode": {
    "name": "ipython",
    "version": 3
   },
   "file_extension": ".py",
   "mimetype": "text/x-python",
   "name": "python",
   "nbconvert_exporter": "python",
   "pygments_lexer": "ipython3",
   "version": "3.8.5"
  },
  "toc": {
   "base_numbering": 1,
   "nav_menu": {},
   "number_sections": false,
   "sideBar": true,
   "skip_h1_title": false,
   "title_cell": "Table of Contents",
   "title_sidebar": "Contents",
   "toc_cell": false,
   "toc_position": {},
   "toc_section_display": true,
   "toc_window_display": true
  }
 },
 "nbformat": 4,
 "nbformat_minor": 4
}
