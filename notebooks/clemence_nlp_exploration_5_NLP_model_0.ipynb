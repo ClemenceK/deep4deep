{
 "cells": [
  {
   "cell_type": "code",
   "execution_count": 1,
   "metadata": {
    "ExecuteTime": {
     "end_time": "2020-12-04T08:36:34.296102Z",
     "start_time": "2020-12-04T08:36:34.237590Z"
    }
   },
   "outputs": [],
   "source": [
    "%load_ext autoreload\n",
    "%autoreload 2"
   ]
  },
  {
   "cell_type": "markdown",
   "metadata": {},
   "source": [
    "-----\n",
    "# Imports and initial df "
   ]
  },
  {
   "cell_type": "code",
   "execution_count": 2,
   "metadata": {
    "ExecuteTime": {
     "end_time": "2020-12-04T08:36:51.221368Z",
     "start_time": "2020-12-04T08:36:45.386347Z"
    }
   },
   "outputs": [],
   "source": [
    "import pandas as pd\n",
    "\n",
    "from deep4deep.text_retrieval import prepare_my_df, get_meta_description_columns\n",
    "from deep4deep.text_processing import text_preprocessing\n",
    "from deep4deep.w2v_embedding_and_rnn_model import "
   ]
  },
  {
   "cell_type": "code",
   "execution_count": 434,
   "metadata": {
    "ExecuteTime": {
     "end_time": "2020-12-05T11:02:03.803024Z",
     "start_time": "2020-12-05T11:02:03.427119Z"
    }
   },
   "outputs": [],
   "source": [
    "df = pd.read_csv('../raw_data/data2020-12-03.csv')"
   ]
  },
  {
   "cell_type": "code",
   "execution_count": 138,
   "metadata": {
    "ExecuteTime": {
     "end_time": "2020-12-04T11:07:16.913515Z",
     "start_time": "2020-12-04T11:07:16.779946Z"
    }
   },
   "outputs": [],
   "source": [
    "my_df = prepare_my_df(df)"
   ]
  },
  {
   "cell_type": "markdown",
   "metadata": {},
   "source": [
    "---\n",
    "# Importing meta-descriptions from websites and preprocessing"
   ]
  },
  {
   "cell_type": "markdown",
   "metadata": {
    "ExecuteTime": {
     "end_time": "2020-12-04T12:43:47.296458Z",
     "start_time": "2020-12-04T11:09:31.159977Z"
    }
   },
   "source": [
    "my_df = get_meta_description_columns(my_df)"
   ]
  },
  {
   "cell_type": "code",
   "execution_count": 437,
   "metadata": {
    "ExecuteTime": {
     "end_time": "2020-12-05T11:10:16.300569Z",
     "start_time": "2020-12-05T11:10:16.142007Z"
    }
   },
   "outputs": [],
   "source": [
    "#save_df = my_df.drop(columns = ['concat_text', 'preprocessed_concat_txt'])\n",
    "save_df.to_csv(\"meta_descriptions\")"
   ]
  },
  {
   "cell_type": "markdown",
   "metadata": {},
   "source": [
    "---\n",
    "# Embedding"
   ]
  },
  {
   "cell_type": "code",
   "execution_count": 442,
   "metadata": {
    "ExecuteTime": {
     "end_time": "2020-12-05T20:15:41.755662Z",
     "start_time": "2020-12-05T20:15:41.436544Z"
    }
   },
   "outputs": [
    {
     "name": "stderr",
     "output_type": "stream",
     "text": [
      "[autoreload of deep4deep.text_retrieval failed: Traceback (most recent call last):\n",
      "  File \"/Users/admin/.pyenv/versions/data/envs/NLP/lib/python3.8/site-packages/IPython/extensions/autoreload.py\", line 245, in check\n",
      "    superreload(m, reload, self.old_objects)\n",
      "  File \"/Users/admin/.pyenv/versions/data/envs/NLP/lib/python3.8/site-packages/IPython/extensions/autoreload.py\", line 394, in superreload\n",
      "    module = reload(module)\n",
      "  File \"/Users/admin/.pyenv/versions/3.8.5/lib/python3.8/imp.py\", line 314, in reload\n",
      "    return importlib.reload(module)\n",
      "  File \"/Users/admin/.pyenv/versions/3.8.5/lib/python3.8/importlib/__init__.py\", line 169, in reload\n",
      "    _bootstrap._exec(spec, module)\n",
      "  File \"<frozen importlib._bootstrap>\", line 604, in _exec\n",
      "  File \"<frozen importlib._bootstrap_external>\", line 783, in exec_module\n",
      "  File \"<frozen importlib._bootstrap>\", line 219, in _call_with_frames_removed\n",
      "  File \"/Users/admin/code/ClemenceK/deep4deep/deep4deep/text_retrieval.py\", line 9, in <module>\n",
      "    from deep4deep.text_processing import text_preprocessing, dealroom_phrase_removal\n",
      "ImportError: cannot import name 'dealroom_phrase_removal' from 'deep4deep.text_processing' (/Users/admin/code/ClemenceK/deep4deep/deep4deep/text_processing.py)\n",
      "]\n",
      "<ipython-input-442-6a07433e418d>:1: DeprecationWarning: Call to deprecated `wv` (Attribute will be removed in 4.0.0, use self instead).\n",
      "  word2vec_wiki.wv.similar_by_vector(word2vec_wiki.wv[\"work\"])\n"
     ]
    },
    {
     "data": {
      "text/plain": [
       "[('work', 1.0),\n",
       " ('working', 0.9163012504577637),\n",
       " ('done', 0.8910593390464783),\n",
       " ('well', 0.8780410885810852),\n",
       " ('works', 0.8739686012268066),\n",
       " ('own', 0.8690434694290161),\n",
       " ('worked', 0.8538495898246765),\n",
       " ('besides', 0.845556914806366),\n",
       " ('making', 0.8316954970359802),\n",
       " ('doing', 0.8313522338867188)]"
      ]
     },
     "execution_count": 442,
     "metadata": {},
     "output_type": "execute_result"
    }
   ],
   "source": [
    "word2vec_wiki.wv.similar_by_vector(word2vec_wiki.wv[\"work\"])"
   ]
  },
  {
   "cell_type": "markdown",
   "metadata": {
    "ExecuteTime": {
     "end_time": "2020-12-04T10:32:51.031764Z",
     "start_time": "2020-12-04T10:32:50.724195Z"
    }
   },
   "source": [
    "import ast\n",
    "my_df['meta_description_preprocessed'] = my_df.meta_description_preprocessed.apply(lambda s: list(ast.literal_eval(s)))"
   ]
  },
  {
   "cell_type": "code",
   "execution_count": 144,
   "metadata": {
    "ExecuteTime": {
     "end_time": "2020-12-04T13:02:21.331508Z",
     "start_time": "2020-12-04T13:01:41.153442Z"
    }
   },
   "outputs": [
    {
     "name": "stdout",
     "output_type": "stream",
     "text": [
      "['fasttext-wiki-news-subwords-300', 'conceptnet-numberbatch-17-06-300', 'word2vec-ruscorpora-300', 'word2vec-google-news-300', 'glove-wiki-gigaword-50', 'glove-wiki-gigaword-100', 'glove-wiki-gigaword-200', 'glove-wiki-gigaword-300', 'glove-twitter-25', 'glove-twitter-50', 'glove-twitter-100', 'glove-twitter-200', '__testing_word2vec-matrix-synopsis']\n"
     ]
    }
   ],
   "source": [
    "# exo 3 jour 5\n",
    "import gensim.downloader as api\n",
    "print(list(api.info()['models'].keys()))\n",
    "word2vec_wiki = api.load(\"glove-wiki-gigaword-50\")"
   ]
  },
  {
   "cell_type": "code",
   "execution_count": 303,
   "metadata": {
    "ExecuteTime": {
     "end_time": "2020-12-04T15:23:49.189400Z",
     "start_time": "2020-12-04T15:23:49.051586Z"
    }
   },
   "outputs": [],
   "source": [
    "from gensim.models import Word2Vec\n",
    "import csv \n",
    "\n",
    "#my_embedding = Word2Vec(sentences=my_df['meta_description_preprocessed'], min_count=3, window=5, size=30, sample=1e-5)\n",
    "\n",
    "\n",
    "# building TSV for use in Embedding Projector\n",
    "\n",
    "# for padding\n",
    "\n",
    "def embed_text(preprocessed_text):\n",
    "    result = []\n",
    "    for word in preprocessed_text:\n",
    "        if word in word2vec_wiki.wv:\n",
    "            vector = word2vec_wiki.wv.get_vector(word) \n",
    "            result.append(vector)\n",
    "    if len(result) == 0:\n",
    "        result = [np.ones(word2vec_wiki.vector_size)*MASK_VALUE]\n",
    "    return result"
   ]
  },
  {
   "cell_type": "code",
   "execution_count": 155,
   "metadata": {
    "ExecuteTime": {
     "end_time": "2020-12-04T13:19:09.867855Z",
     "start_time": "2020-12-04T13:19:09.715227Z"
    }
   },
   "outputs": [],
   "source": [
    "my_df.drop(columns=['meta_description_preprocessed', 'meta_description_dealroom_preprocessed', 'embedded_meta_desc'], inplace=True)"
   ]
  },
  {
   "cell_type": "code",
   "execution_count": 336,
   "metadata": {
    "ExecuteTime": {
     "end_time": "2020-12-04T15:48:34.072089Z",
     "start_time": "2020-12-04T15:48:32.356417Z"
    }
   },
   "outputs": [
    {
     "data": {
      "text/html": [
       "<div>\n",
       "<style scoped>\n",
       "    .dataframe tbody tr th:only-of-type {\n",
       "        vertical-align: middle;\n",
       "    }\n",
       "\n",
       "    .dataframe tbody tr th {\n",
       "        vertical-align: top;\n",
       "    }\n",
       "\n",
       "    .dataframe thead th {\n",
       "        text-align: right;\n",
       "    }\n",
       "</style>\n",
       "<table border=\"1\" class=\"dataframe\">\n",
       "  <thead>\n",
       "    <tr style=\"text-align: right;\">\n",
       "      <th></th>\n",
       "      <th>id</th>\n",
       "      <th>name</th>\n",
       "      <th>industries</th>\n",
       "      <th>url</th>\n",
       "      <th>website_url</th>\n",
       "      <th>target</th>\n",
       "      <th>meta_description</th>\n",
       "      <th>meta_description_dealroom</th>\n",
       "      <th>concat_text</th>\n",
       "      <th>preprocessed_concat_txt</th>\n",
       "    </tr>\n",
       "  </thead>\n",
       "  <tbody>\n",
       "    <tr>\n",
       "      <th>0</th>\n",
       "      <td>1742681</td>\n",
       "      <td>Healthcardionexion.com</td>\n",
       "      <td>[health]</td>\n",
       "      <td>https://app.dealroom.co/companies/healthcardio...</td>\n",
       "      <td>http://healthcardionexion.com</td>\n",
       "      <td>1.0</td>\n",
       "      <td>@-Health : l’apparition de la médecine prédict...</td>\n",
       "      <td>Healthcardionexion.com, the cardionexion medic...</td>\n",
       "      <td>@-Health : l’apparition de la médecine prédict...</td>\n",
       "      <td>[health, l, apparition, de, la, médecine, préd...</td>\n",
       "    </tr>\n",
       "    <tr>\n",
       "      <th>1</th>\n",
       "      <td>1743314</td>\n",
       "      <td>4P Pharma</td>\n",
       "      <td>[health, fintech]</td>\n",
       "      <td>https://app.dealroom.co/companies/4p_pharma</td>\n",
       "      <td>http://4p-pharma.com</td>\n",
       "      <td>1.0</td>\n",
       "      <td>4P Pharma is an R&amp;D partner of academic and pr...</td>\n",
       "      <td>4P Pharma, 4p-pharma | translating science to ...</td>\n",
       "      <td>4P Pharma is an R&amp;D partner of academic and pr...</td>\n",
       "      <td>[p, pharma, rd, partner, academic, private, in...</td>\n",
       "    </tr>\n",
       "    <tr>\n",
       "      <th>2</th>\n",
       "      <td>1598607</td>\n",
       "      <td>AFYREN</td>\n",
       "      <td>[energy]</td>\n",
       "      <td>https://app.dealroom.co/companies/afyren</td>\n",
       "      <td>http://afyren.com/</td>\n",
       "      <td>1.0</td>\n",
       "      <td>AFYREN offre aux industriels des molécules bio...</td>\n",
       "      <td>AFYREN, a company specialized in microbiology ...</td>\n",
       "      <td>AFYREN offre aux industriels des molécules bio...</td>\n",
       "      <td>[afyren, offre, aux, industriels, de, molécule...</td>\n",
       "    </tr>\n",
       "  </tbody>\n",
       "</table>\n",
       "</div>"
      ],
      "text/plain": [
       "        id                    name         industries  \\\n",
       "0  1742681  Healthcardionexion.com           [health]   \n",
       "1  1743314               4P Pharma  [health, fintech]   \n",
       "2  1598607                  AFYREN           [energy]   \n",
       "\n",
       "                                                 url  \\\n",
       "0  https://app.dealroom.co/companies/healthcardio...   \n",
       "1        https://app.dealroom.co/companies/4p_pharma   \n",
       "2           https://app.dealroom.co/companies/afyren   \n",
       "\n",
       "                     website_url  target  \\\n",
       "0  http://healthcardionexion.com     1.0   \n",
       "1           http://4p-pharma.com     1.0   \n",
       "2             http://afyren.com/     1.0   \n",
       "\n",
       "                                    meta_description  \\\n",
       "0  @-Health : l’apparition de la médecine prédict...   \n",
       "1  4P Pharma is an R&D partner of academic and pr...   \n",
       "2  AFYREN offre aux industriels des molécules bio...   \n",
       "\n",
       "                           meta_description_dealroom  \\\n",
       "0  Healthcardionexion.com, the cardionexion medic...   \n",
       "1  4P Pharma, 4p-pharma | translating science to ...   \n",
       "2  AFYREN, a company specialized in microbiology ...   \n",
       "\n",
       "                                         concat_text  \\\n",
       "0  @-Health : l’apparition de la médecine prédict...   \n",
       "1  4P Pharma is an R&D partner of academic and pr...   \n",
       "2  AFYREN offre aux industriels des molécules bio...   \n",
       "\n",
       "                             preprocessed_concat_txt  \n",
       "0  [health, l, apparition, de, la, médecine, préd...  \n",
       "1  [p, pharma, rd, partner, academic, private, in...  \n",
       "2  [afyren, offre, aux, industriels, de, molécule...  "
      ]
     },
     "execution_count": 336,
     "metadata": {},
     "output_type": "execute_result"
    }
   ],
   "source": [
    "my_df['concat_text'] = my_df.meta_description + my_df.meta_description_dealroom\n",
    "my_df['preprocessed_concat_txt'] = my_df.concat_text.map(text_preprocessing)\n",
    "my_df.head(3)"
   ]
  },
  {
   "cell_type": "markdown",
   "metadata": {},
   "source": [
    "---\n",
    "# RNN"
   ]
  },
  {
   "cell_type": "code",
   "execution_count": 383,
   "metadata": {
    "ExecuteTime": {
     "end_time": "2020-12-04T20:47:32.069662Z",
     "start_time": "2020-12-04T20:47:31.943172Z"
    }
   },
   "outputs": [],
   "source": [
    "my_df_categorical = my_df[my_df['target']!=0.5].copy()\n",
    "#my_df_categorical.loc[my_df_categorical.target == 0.5,'target'] = 2 # dropping the 'almost_deep_tech' \n",
    "#almost=0.5\n",
    "#my_df_almost_higher = my_df.copy()\n",
    "#my_df_almost_higher.loc[my_df_almost_higher.target == 0.5,'target'] = almost\n",
    "\n",
    "# vraies deeptech: labellisées\n",
    "\n",
    "# vraies non-deeptech: fichier cosmétique (qu'on n'a pas)\n",
    "# label non-deep tech? oui mais à revoir\n",
    "\n",
    "# passer en 3 catégories\n"
   ]
  },
  {
   "cell_type": "code",
   "execution_count": 385,
   "metadata": {
    "ExecuteTime": {
     "end_time": "2020-12-04T20:47:43.870591Z",
     "start_time": "2020-12-04T20:47:43.744581Z"
    }
   },
   "outputs": [
    {
     "data": {
      "text/plain": [
       "(1334, 10)"
      ]
     },
     "execution_count": 385,
     "metadata": {},
     "output_type": "execute_result"
    }
   ],
   "source": [
    "my_df_categorical['target'].unique() # verif\n",
    "my_df_categorical.shape"
   ]
  },
  {
   "cell_type": "code",
   "execution_count": 426,
   "metadata": {
    "ExecuteTime": {
     "end_time": "2020-12-05T10:57:18.886330Z",
     "start_time": "2020-12-05T10:57:18.259149Z"
    }
   },
   "outputs": [
    {
     "name": "stderr",
     "output_type": "stream",
     "text": [
      "<ipython-input-303-b3992ca8050c>:16: DeprecationWarning: Call to deprecated `wv` (Attribute will be removed in 4.0.0, use self instead).\n",
      "  if word in word2vec_wiki.wv:\n",
      "<ipython-input-303-b3992ca8050c>:17: DeprecationWarning: Call to deprecated `wv` (Attribute will be removed in 4.0.0, use self instead).\n",
      "  vector = word2vec_wiki.wv.get_vector(word)\n"
     ]
    }
   ],
   "source": [
    "# make X and y\n",
    "X_embedded = my_df.preprocessed_concat_txt.map(embed_text)\n",
    "y = my_df.target"
   ]
  },
  {
   "cell_type": "code",
   "execution_count": 398,
   "metadata": {
    "ExecuteTime": {
     "end_time": "2020-12-05T08:37:15.259126Z",
     "start_time": "2020-12-05T08:37:14.477111Z"
    }
   },
   "outputs": [
    {
     "name": "stdout",
     "output_type": "stream",
     "text": [
      "dummy prediction: 48.28%\n",
      "dummy_rmse: 0.50\n",
      "dummy_mae: 0.50\n"
     ]
    }
   ],
   "source": [
    "# dummy baseline (with 0.7 as almost)\n",
    "dummy_prediction = my_df_categorical.target.mean()\n",
    "print(f\"dummy prediction: {dummy_prediction*100:.2f}%\")\n",
    "\n",
    "dummy_rmse = ((y - prediction)**2).mean()**0.5\n",
    "print(f\"dummy_rmse: {dummy_rmse:.2f}\")\n",
    "dummy_mae = (abs(y - prediction)).mean()\n",
    "print(f\"dummy_mae: {dummy_mae:.2f}\")\n",
    "\n"
   ]
  },
  {
   "cell_type": "code",
   "execution_count": 427,
   "metadata": {
    "ExecuteTime": {
     "end_time": "2020-12-05T10:57:24.922814Z",
     "start_time": "2020-12-05T10:57:24.619009Z"
    }
   },
   "outputs": [
    {
     "data": {
      "text/plain": [
       "((1513, 112, 50), (112, 50))"
      ]
     },
     "execution_count": 427,
     "metadata": {},
     "output_type": "execute_result"
    }
   ],
   "source": [
    "#padding\n",
    "\n",
    "from tensorflow.keras.preprocessing.sequence import pad_sequences\n",
    "\n",
    "X_pad = pad_sequences(X_embedded, \n",
    "              dtype='float32', \n",
    "              padding='post', \n",
    "              value=MASK_VALUE)\n",
    "X_pad.shape, X_pad[0].shape"
   ]
  },
  {
   "cell_type": "code",
   "execution_count": 428,
   "metadata": {
    "ExecuteTime": {
     "end_time": "2020-12-05T10:57:31.324754Z",
     "start_time": "2020-12-05T10:57:31.161686Z"
    }
   },
   "outputs": [],
   "source": [
    "from sklearn.model_selection import train_test_split\n",
    "\n",
    "X_train, X_test, y_train, y_test = train_test_split(X_pad, y, test_size=.2)\n",
    "\n",
    "X_train, X_val, y_train, y_val = train_test_split(X_train, y_train, test_size=.25)"
   ]
  },
  {
   "cell_type": "code",
   "execution_count": 390,
   "metadata": {
    "ExecuteTime": {
     "end_time": "2020-12-04T20:48:06.362243Z",
     "start_time": "2020-12-04T20:48:06.241040Z"
    }
   },
   "outputs": [
    {
     "name": "stderr",
     "output_type": "stream",
     "text": [
      "<ipython-input-390-31c8ea520676>:2: DeprecationWarning: Call to deprecated `wv` (Attribute will be removed in 4.0.0, use self instead).\n",
      "  vocab_size = len(word2vec_wiki.wv.vocab)\n"
     ]
    }
   ],
   "source": [
    "# what's the size of vocabulary?\n",
    "vocab_size = len(word2vec_wiki.wv.vocab)\n",
    "# embedded with vectors of 30\n",
    "size_embedding = word2vec_wiki.vector_size"
   ]
  },
  {
   "cell_type": "code",
   "execution_count": 391,
   "metadata": {
    "ExecuteTime": {
     "end_time": "2020-12-04T20:48:09.087587Z",
     "start_time": "2020-12-04T20:48:08.961952Z"
    }
   },
   "outputs": [],
   "source": [
    "# define early stopping\n",
    "\n",
    "from tensorflow.keras.callbacks import EarlyStopping\n",
    "\n",
    "es = EarlyStopping(patience=30, restore_best_weights=True)\n"
   ]
  },
  {
   "cell_type": "code",
   "execution_count": 429,
   "metadata": {
    "ExecuteTime": {
     "end_time": "2020-12-05T11:00:08.694580Z",
     "start_time": "2020-12-05T10:57:34.089739Z"
    }
   },
   "outputs": [
    {
     "name": "stdout",
     "output_type": "stream",
     "text": [
      "Epoch 1/500\n",
      "29/29 [==============================] - 7s 252ms/step - loss: 0.2582 - mae: 0.4473 - mse: 0.2582 - accuracy: 0.4752 - val_loss: 0.1885 - val_mae: 0.3982 - val_mse: 0.1885 - val_accuracy: 0.5314\n",
      "Epoch 2/500\n",
      "29/29 [==============================] - 4s 144ms/step - loss: 0.2212 - mae: 0.4122 - mse: 0.2212 - accuracy: 0.5369 - val_loss: 0.1662 - val_mae: 0.3696 - val_mse: 0.1662 - val_accuracy: 0.6370\n",
      "Epoch 3/500\n",
      "29/29 [==============================] - 5s 156ms/step - loss: 0.1990 - mae: 0.3884 - mse: 0.1990 - accuracy: 0.5755 - val_loss: 0.1616 - val_mae: 0.3469 - val_mse: 0.1616 - val_accuracy: 0.6337\n",
      "Epoch 4/500\n",
      "29/29 [==============================] - 4s 148ms/step - loss: 0.1919 - mae: 0.3740 - mse: 0.1919 - accuracy: 0.6108 - val_loss: 0.1603 - val_mae: 0.3506 - val_mse: 0.1603 - val_accuracy: 0.6436\n",
      "Epoch 5/500\n",
      "29/29 [==============================] - 4s 148ms/step - loss: 0.1905 - mae: 0.3741 - mse: 0.1905 - accuracy: 0.6009 - val_loss: 0.1609 - val_mae: 0.3484 - val_mse: 0.1609 - val_accuracy: 0.6403\n",
      "Epoch 6/500\n",
      "29/29 [==============================] - 4s 146ms/step - loss: 0.1792 - mae: 0.3638 - mse: 0.1792 - accuracy: 0.6262 - val_loss: 0.1585 - val_mae: 0.3464 - val_mse: 0.1585 - val_accuracy: 0.6535\n",
      "Epoch 7/500\n",
      "29/29 [==============================] - 4s 148ms/step - loss: 0.1880 - mae: 0.3692 - mse: 0.1880 - accuracy: 0.6042 - val_loss: 0.1573 - val_mae: 0.3428 - val_mse: 0.1573 - val_accuracy: 0.6436\n",
      "Epoch 8/500\n",
      "29/29 [==============================] - 4s 152ms/step - loss: 0.1734 - mae: 0.3559 - mse: 0.1734 - accuracy: 0.6505 - val_loss: 0.1652 - val_mae: 0.3521 - val_mse: 0.1652 - val_accuracy: 0.6106\n",
      "Epoch 9/500\n",
      "29/29 [==============================] - 4s 151ms/step - loss: 0.1785 - mae: 0.3591 - mse: 0.1785 - accuracy: 0.6318 - val_loss: 0.1580 - val_mae: 0.3471 - val_mse: 0.1580 - val_accuracy: 0.6403\n",
      "Epoch 10/500\n",
      "29/29 [==============================] - 4s 146ms/step - loss: 0.1751 - mae: 0.3565 - mse: 0.1751 - accuracy: 0.6318 - val_loss: 0.1547 - val_mae: 0.3465 - val_mse: 0.1547 - val_accuracy: 0.6436\n",
      "Epoch 11/500\n",
      "29/29 [==============================] - 4s 141ms/step - loss: 0.1757 - mae: 0.3599 - mse: 0.1757 - accuracy: 0.6273 - val_loss: 0.1653 - val_mae: 0.3436 - val_mse: 0.1653 - val_accuracy: 0.6205\n",
      "Epoch 12/500\n",
      "29/29 [==============================] - 4s 144ms/step - loss: 0.1674 - mae: 0.3480 - mse: 0.1674 - accuracy: 0.6439 - val_loss: 0.1638 - val_mae: 0.3382 - val_mse: 0.1638 - val_accuracy: 0.6271\n",
      "Epoch 13/500\n",
      "29/29 [==============================] - 4s 152ms/step - loss: 0.1649 - mae: 0.3451 - mse: 0.1649 - accuracy: 0.6516 - val_loss: 0.1618 - val_mae: 0.3406 - val_mse: 0.1618 - val_accuracy: 0.6436\n",
      "Epoch 14/500\n",
      "29/29 [==============================] - 4s 147ms/step - loss: 0.1647 - mae: 0.3425 - mse: 0.1647 - accuracy: 0.6505 - val_loss: 0.1574 - val_mae: 0.3345 - val_mse: 0.1574 - val_accuracy: 0.6172\n",
      "Epoch 15/500\n",
      "29/29 [==============================] - 4s 147ms/step - loss: 0.1644 - mae: 0.3431 - mse: 0.1644 - accuracy: 0.6505 - val_loss: 0.1624 - val_mae: 0.3462 - val_mse: 0.1624 - val_accuracy: 0.6139\n",
      "Epoch 16/500\n",
      "29/29 [==============================] - 4s 146ms/step - loss: 0.1612 - mae: 0.3379 - mse: 0.1612 - accuracy: 0.6560 - val_loss: 0.1565 - val_mae: 0.3255 - val_mse: 0.1565 - val_accuracy: 0.6568\n",
      "Epoch 17/500\n",
      "29/29 [==============================] - 4s 147ms/step - loss: 0.1561 - mae: 0.3313 - mse: 0.1561 - accuracy: 0.6703 - val_loss: 0.1529 - val_mae: 0.3212 - val_mse: 0.1529 - val_accuracy: 0.6271\n",
      "Epoch 18/500\n",
      "29/29 [==============================] - 4s 152ms/step - loss: 0.1584 - mae: 0.3321 - mse: 0.1584 - accuracy: 0.6681 - val_loss: 0.1548 - val_mae: 0.3350 - val_mse: 0.1548 - val_accuracy: 0.6568\n",
      "Epoch 19/500\n",
      "29/29 [==============================] - 4s 143ms/step - loss: 0.1560 - mae: 0.3323 - mse: 0.1560 - accuracy: 0.6648 - val_loss: 0.1558 - val_mae: 0.3220 - val_mse: 0.1558 - val_accuracy: 0.6601\n",
      "Epoch 20/500\n",
      "29/29 [==============================] - 4s 148ms/step - loss: 0.1525 - mae: 0.3251 - mse: 0.1525 - accuracy: 0.6792 - val_loss: 0.1542 - val_mae: 0.3246 - val_mse: 0.1542 - val_accuracy: 0.6205\n",
      "Epoch 21/500\n",
      "29/29 [==============================] - 4s 142ms/step - loss: 0.1510 - mae: 0.3257 - mse: 0.1510 - accuracy: 0.6803 - val_loss: 0.1543 - val_mae: 0.3189 - val_mse: 0.1543 - val_accuracy: 0.6271\n",
      "Epoch 22/500\n",
      "29/29 [==============================] - 4s 148ms/step - loss: 0.1412 - mae: 0.3126 - mse: 0.1412 - accuracy: 0.6913 - val_loss: 0.1550 - val_mae: 0.3288 - val_mse: 0.1550 - val_accuracy: 0.6238\n",
      "Epoch 23/500\n",
      "29/29 [==============================] - 4s 145ms/step - loss: 0.1462 - mae: 0.3182 - mse: 0.1462 - accuracy: 0.6924 - val_loss: 0.1573 - val_mae: 0.3335 - val_mse: 0.1573 - val_accuracy: 0.6337\n",
      "Epoch 24/500\n",
      "29/29 [==============================] - 4s 145ms/step - loss: 0.1383 - mae: 0.3088 - mse: 0.1383 - accuracy: 0.7155 - val_loss: 0.1719 - val_mae: 0.3425 - val_mse: 0.1719 - val_accuracy: 0.5941\n",
      "Epoch 25/500\n",
      "29/29 [==============================] - 4s 146ms/step - loss: 0.1442 - mae: 0.3183 - mse: 0.1442 - accuracy: 0.6891 - val_loss: 0.1650 - val_mae: 0.3313 - val_mse: 0.1650 - val_accuracy: 0.6172\n",
      "Epoch 26/500\n",
      "29/29 [==============================] - 4s 143ms/step - loss: 0.1385 - mae: 0.3095 - mse: 0.1385 - accuracy: 0.7045 - val_loss: 0.1637 - val_mae: 0.3186 - val_mse: 0.1637 - val_accuracy: 0.6238\n",
      "Epoch 27/500\n",
      "29/29 [==============================] - 4s 143ms/step - loss: 0.1365 - mae: 0.3073 - mse: 0.1365 - accuracy: 0.7166 - val_loss: 0.1633 - val_mae: 0.3203 - val_mse: 0.1633 - val_accuracy: 0.6271\n",
      "Epoch 28/500\n",
      "29/29 [==============================] - 4s 141ms/step - loss: 0.1321 - mae: 0.3010 - mse: 0.1321 - accuracy: 0.7266 - val_loss: 0.1602 - val_mae: 0.3286 - val_mse: 0.1602 - val_accuracy: 0.6238\n",
      "Epoch 29/500\n",
      "29/29 [==============================] - 4s 150ms/step - loss: 0.1341 - mae: 0.3018 - mse: 0.1341 - accuracy: 0.7332 - val_loss: 0.1644 - val_mae: 0.3264 - val_mse: 0.1644 - val_accuracy: 0.6172\n",
      "Epoch 30/500\n",
      "29/29 [==============================] - 4s 151ms/step - loss: 0.1276 - mae: 0.2940 - mse: 0.1276 - accuracy: 0.7409 - val_loss: 0.1641 - val_mae: 0.3315 - val_mse: 0.1641 - val_accuracy: 0.6106\n",
      "Epoch 31/500\n",
      "29/29 [==============================] - 4s 151ms/step - loss: 0.1255 - mae: 0.2911 - mse: 0.1255 - accuracy: 0.7420 - val_loss: 0.1729 - val_mae: 0.3367 - val_mse: 0.1729 - val_accuracy: 0.6139\n",
      "Epoch 32/500\n",
      "29/29 [==============================] - 4s 151ms/step - loss: 0.1240 - mae: 0.2861 - mse: 0.1240 - accuracy: 0.7398 - val_loss: 0.1749 - val_mae: 0.3348 - val_mse: 0.1749 - val_accuracy: 0.6271\n"
     ]
    }
   ],
   "source": [
    "# model\n",
    "\n",
    "from tensorflow.keras import models, layers\n",
    "from tensorflow.keras import regularizers\n",
    "\n",
    "model = models.Sequential()\n",
    "\n",
    "model.add(layers.Masking(mask_value=MASK_VALUE)) \n",
    "\n",
    "model.add(layers.LSTM(units=12, activation='tanh', return_sequences=True)) # NEED True if and only if you add another LSTM after\n",
    "model.add(layers.Dropout(rate=0.2))\n",
    "model.add(layers.LSTM(units=20, activation='tanh', return_sequences=False)) # need FALSE for last LSTM layer\n",
    "model.add(layers.Dropout(rate=0.2))\n",
    "model.add(layers.Dense(10, activation='relu'))\n",
    "model.add(layers.Dropout(rate=0.2))\n",
    "model.add(layers.Dense(1, activation='sigmoid'))\n",
    "\n",
    "# –– Compilation\n",
    "model.compile(loss='mse', optimizer='rmsprop', metrics=['mae', 'mse', 'accuracy'])\n",
    "\n",
    "\n",
    "# –– Fit\n",
    "history = model.fit(X_train, y_train, epochs= 500, batch_size=32, callbacks=[es], validation_data=(X_val, y_val))\n"
   ]
  },
  {
   "cell_type": "code",
   "execution_count": 430,
   "metadata": {
    "ExecuteTime": {
     "end_time": "2020-12-05T11:00:27.489455Z",
     "start_time": "2020-12-05T11:00:24.812493Z"
    }
   },
   "outputs": [
    {
     "name": "stdout",
     "output_type": "stream",
     "text": [
      "prediction: [0.23923987], real: 0.0\n",
      "prediction: [1.0085276], real: 0.5\n",
      "prediction: [0.52062714], real: 0.0\n"
     ]
    }
   ],
   "source": [
    "for i in range(3):\n",
    "    print(f\"prediction: {model.predict(X_val[[i]])[0]}, real: {y_val.iloc[i]}\")"
   ]
  },
  {
   "cell_type": "code",
   "execution_count": 431,
   "metadata": {
    "ExecuteTime": {
     "end_time": "2020-12-05T11:00:28.033208Z",
     "start_time": "2020-12-05T11:00:27.499754Z"
    }
   },
   "outputs": [
    {
     "name": "stdout",
     "output_type": "stream",
     "text": [
      "model_rmse: 0.39, vs original_rmse: 0.43() and dummy_rmse:0.50 \n"
     ]
    }
   ],
   "source": [
    "y_pred = model.predict(X_val)\n",
    "model_rmse = ((y_val - y_pred[:,0])**2).mean()**0.5\n",
    "print(f\"model_rmse: {model_rmse:.2f}, vs original_rmse: {.4325:.2f}() and dummy_rmse:{dummy_rmse:.2f} \")"
   ]
  },
  {
   "cell_type": "code",
   "execution_count": 433,
   "metadata": {
    "ExecuteTime": {
     "end_time": "2020-12-05T11:01:00.027694Z",
     "start_time": "2020-12-05T11:00:59.332456Z"
    }
   },
   "outputs": [
    {
     "data": {
      "image/png": "[encoded data removed]",
      "text/plain": [
       "<Figure size 432x288 with 1 Axes>"
      ]
     },
     "metadata": {
      "needs_background": "light"
     },
     "output_type": "display_data"
    },
    {
     "data": {
      "image/png": "[encoded data removed]",
      "text/plain": [
       "<Figure size 432x288 with 1 Axes>"
      ]
     },
     "metadata": {
      "needs_background": "light"
     },
     "output_type": "display_data"
    }
   ],
   "source": [
    "import matplotlib.pyplot as plt\n",
    "\n",
    "def plot_loss_mae(history):\n",
    "    plt.plot(history.history['loss'])\n",
    "    plt.plot(history.history['val_loss'])\n",
    "    plt.title('Model loss')\n",
    "    plt.ylabel('Loss')\n",
    "    plt.xlabel('Epoch')\n",
    "    plt.legend(['Train', 'Test'], loc='best')\n",
    "    plt.show()\n",
    "    \n",
    "    plt.plot(history.history['accuracy'])\n",
    "    plt.plot(history.history['val_accuracy'])\n",
    "    plt.title('Model accuracy')\n",
    "    plt.ylabel('accuracy')\n",
    "    plt.xlabel('Epoch')\n",
    "    plt.legend(['Train', 'Test'], loc='best')\n",
    "    plt.show()\n",
    "    \n",
    "    \n",
    "plot_loss_mae(history)\n"
   ]
  },
  {
   "cell_type": "code",
   "execution_count": 332,
   "metadata": {
    "ExecuteTime": {
     "end_time": "2020-12-04T15:46:14.490711Z",
     "start_time": "2020-12-04T15:46:14.345184Z"
    }
   },
   "outputs": [
    {
     "name": "stdout",
     "output_type": "stream",
     "text": [
      "Model: \"sequential_24\"\n",
      "_________________________________________________________________\n",
      "Layer (type)                 Output Shape              Param #   \n",
      "=================================================================\n",
      "masking_22 (Masking)         (None, 95, 50)            0         \n",
      "_________________________________________________________________\n",
      "lstm_43 (LSTM)               (None, 10)                2440      \n",
      "_________________________________________________________________\n",
      "dense_49 (Dense)             (None, 10)                110       \n",
      "_________________________________________________________________\n",
      "dropout_3 (Dropout)          (None, 10)                0         \n",
      "_________________________________________________________________\n",
      "dense_50 (Dense)             (None, 10)                110       \n",
      "_________________________________________________________________\n",
      "dense_51 (Dense)             (None, 1)                 11        \n",
      "=================================================================\n",
      "Total params: 2,671\n",
      "Trainable params: 2,671\n",
      "Non-trainable params: 0\n",
      "_________________________________________________________________\n"
     ]
    }
   ],
   "source": [
    "model.summary()"
   ]
  },
  {
   "cell_type": "code",
   "execution_count": 443,
   "metadata": {
    "ExecuteTime": {
     "end_time": "2020-12-06T14:08:41.563210Z",
     "start_time": "2020-12-06T14:08:38.369937Z"
    }
   },
   "outputs": [
    {
     "name": "stdout",
     "output_type": "stream",
     "text": [
      "Variable                       Type                    Data/Info\n",
      "----------------------------------------------------------------\n",
      "EarlyStopping                  type                    <class 'tensorflow.python<...>callbacks.EarlyStopping'>\n",
      "MASK_VALUE                     int                     -100\n",
      "Word2Vec                       type                    <class 'gensim.models.word2vec.Word2Vec'>\n",
      "X                              Series                  0       [healthcardionexi<...>ngth: 1513, dtype: object\n",
      "X_embedded                     Series                  0       [[0.31161, 0.3390<...>ngth: 1513, dtype: object\n",
      "X_embedded_cropped             Series                  0       [[-0.0045175664, <...>ngth: 1513, dtype: object\n",
      "X_pad                          ndarray                 1513x112x50: 8472800 elems, type `float32`, 33891200 bytes (32.3211669921875 Mb)\n",
      "X_test                         ndarray                 303x112x50: 1696800 elems, type `float32`, 6787200 bytes (6.4727783203125 Mb)\n",
      "X_train                        ndarray                 907x112x50: 5079200 elems, type `float32`, 20316800 bytes (19.3756103515625 Mb)\n",
      "X_val                          ndarray                 303x112x50: 1696800 elems, type `float32`, 6787200 bytes (6.4727783203125 Mb)\n",
      "X_valid                        ndarray                 379x112x50: 2122400 elems, type `float32`, 8489600 bytes (8.0963134765625 Mb)\n",
      "almost                         float                   0.5\n",
      "api                            module                  <module 'gensim.downloade<...>es/gensim/downloader.py'>\n",
      "ast                            module                  <module 'ast' from '/User<...>.5/lib/python3.8/ast.py'>\n",
      "csv                            module                  <module 'csv' from '/User<...>.5/lib/python3.8/csv.py'>\n",
      "df                             DataFrame                          id            <...>n[1513 rows x 94 columns]\n",
      "dummy_mae                      float64                 0.5002917245937507\n",
      "dummy_prediction               float64                 0.4827586206896552\n",
      "dummy_rmse                     float64                 0.5003631645289374\n",
      "embed_text                     function                <function embed_text at 0x1710e7b80>\n",
      "es                             EarlyStopping           <tensorflow.python.keras.<...>ng object at 0x178e0d730>\n",
      "get_meta_description_columns   function                <function get_meta_descri<...>n_columns at 0x1247b8b80>\n",
      "history                        History                 <tensorflow.python.keras.<...>ry object at 0x1780ed5b0>\n",
      "i                              int                     2\n",
      "layers                         module                  <module 'tensorflow.keras<...>eras/layers/__init__.py'>\n",
      "learning_curve                 function                <function learning_curve at 0x124234940>\n",
      "lemmatize                      function                <function lemmatize at 0x170c7bee0>\n",
      "model                          Sequential              <tensorflow.python.keras.<...>al object at 0x17b6bcbb0>\n",
      "model_rmse                     float64                 0.39105350227262653\n",
      "models                         module                  <module 'tensorflow.keras<...>eras/models/__init__.py'>\n",
      "my_df                          DataFrame                          id            <...>n[1513 rows x 10 columns]\n",
      "my_df_almost_higher            DataFrame                          id            <...>n[1513 rows x 10 columns]\n",
      "my_df_categorical              DataFrame                          id            <...>n[1334 rows x 10 columns]\n",
      "my_df_zerosept                 DataFrame                          id            <...>n[1513 rows x 10 columns]\n",
      "my_embedding                   Word2Vec                Word2Vec(vocab=5108, size=30, alpha=0.025)\n",
      "np                             module                  <module 'numpy' from '/Us<...>kages/numpy/__init__.py'>\n",
      "pad_sequences                  function                <function pad_sequences at 0x14da321f0>\n",
      "pd                             module                  <module 'pandas' from '/U<...>ages/pandas/__init__.py'>\n",
      "plot_loss_mae                  function                <function plot_loss_mae at 0x17bc00280>\n",
      "plt                            module                  <module 'matplotlib.pyplo<...>es/matplotlib/pyplot.py'>\n",
      "prediction                     float64                 0.5084600132187707\n",
      "prepare_my_df                  function                <function prepare_my_df at 0x1247b8af0>\n",
      "reg_l1_l2                      L1L2                    <tensorflow.python.keras.<...>L2 object at 0x17b780d90>\n",
      "regularizers                   module                  <module 'tensorflow.keras<...>egularizers/__init__.py'>\n",
      "save_df                        DataFrame                          id            <...>\\n[1513 rows x 8 columns]\n",
      "size_embedding                 int                     50\n",
      "stem                           function                <function stem at 0x1710e7040>\n",
      "text_preprocessing             function                <function text_preprocessing at 0x1247b89d0>\n",
      "tmp                            Series                  0       [healthcardionexi<...>ngth: 1513, dtype: object\n",
      "train_test_split               function                <function train_test_split at 0x124162670>\n",
      "vocab_size                     int                     400000\n",
      "word2vec_wiki                  Word2VecKeyedVectors    <gensim.models.keyedvecto<...>rs object at 0x15dc44700>\n",
      "y                              Series                  0       1.0\\n1       1.0\\<...>gth: 1513, dtype: float64\n",
      "y_pred                         ndarray                 303x1: 303 elems, type `float32`, 1212 bytes\n",
      "y_test                         Series                  209     1.0\\n1235    0.0\\<...>ngth: 303, dtype: float64\n",
      "y_train                        Series                  1323    0.0\\n1290    0.0\\<...>ngth: 907, dtype: float64\n",
      "y_val                          Series                  1088    0.0\\n1432    0.5\\<...>ngth: 303, dtype: float64\n",
      "y_valid                        Series                  13      1.0\\n660     0.0\\<...>ngth: 379, dtype: float64\n"
     ]
    }
   ],
   "source": [
    "%whos"
   ]
  },
  {
   "cell_type": "code",
   "execution_count": 444,
   "metadata": {
    "ExecuteTime": {
     "end_time": "2020-12-06T14:08:46.378793Z",
     "start_time": "2020-12-06T14:08:46.162668Z"
    }
   },
   "outputs": [
    {
     "data": {
      "text/html": [
       "<div>\n",
       "<style scoped>\n",
       "    .dataframe tbody tr th:only-of-type {\n",
       "        vertical-align: middle;\n",
       "    }\n",
       "\n",
       "    .dataframe tbody tr th {\n",
       "        vertical-align: top;\n",
       "    }\n",
       "\n",
       "    .dataframe thead th {\n",
       "        text-align: right;\n",
       "    }\n",
       "</style>\n",
       "<table border=\"1\" class=\"dataframe\">\n",
       "  <thead>\n",
       "    <tr style=\"text-align: right;\">\n",
       "      <th></th>\n",
       "      <th>id</th>\n",
       "      <th>name</th>\n",
       "      <th>industries</th>\n",
       "      <th>url</th>\n",
       "      <th>website_url</th>\n",
       "      <th>target</th>\n",
       "      <th>meta_description</th>\n",
       "      <th>meta_description_dealroom</th>\n",
       "      <th>concat_text</th>\n",
       "      <th>preprocessed_concat_txt</th>\n",
       "    </tr>\n",
       "  </thead>\n",
       "  <tbody>\n",
       "    <tr>\n",
       "      <th>0</th>\n",
       "      <td>1742681</td>\n",
       "      <td>Healthcardionexion.com</td>\n",
       "      <td>[health]</td>\n",
       "      <td>https://app.dealroom.co/companies/healthcardio...</td>\n",
       "      <td>http://healthcardionexion.com</td>\n",
       "      <td>1.0</td>\n",
       "      <td>@-Health : l’apparition de la médecine prédict...</td>\n",
       "      <td>Healthcardionexion.com, the cardionexion medic...</td>\n",
       "      <td>@-Health : l’apparition de la médecine prédict...</td>\n",
       "      <td>[health, l, apparition, de, la, médecine, préd...</td>\n",
       "    </tr>\n",
       "    <tr>\n",
       "      <th>1</th>\n",
       "      <td>1743314</td>\n",
       "      <td>4P Pharma</td>\n",
       "      <td>[health, fintech]</td>\n",
       "      <td>https://app.dealroom.co/companies/4p_pharma</td>\n",
       "      <td>http://4p-pharma.com</td>\n",
       "      <td>1.0</td>\n",
       "      <td>4P Pharma is an R&amp;D partner of academic and pr...</td>\n",
       "      <td>4P Pharma, 4p-pharma | translating science to ...</td>\n",
       "      <td>4P Pharma is an R&amp;D partner of academic and pr...</td>\n",
       "      <td>[p, pharma, rd, partner, academic, private, in...</td>\n",
       "    </tr>\n",
       "    <tr>\n",
       "      <th>2</th>\n",
       "      <td>1598607</td>\n",
       "      <td>AFYREN</td>\n",
       "      <td>[energy]</td>\n",
       "      <td>https://app.dealroom.co/companies/afyren</td>\n",
       "      <td>http://afyren.com/</td>\n",
       "      <td>1.0</td>\n",
       "      <td>AFYREN offre aux industriels des molécules bio...</td>\n",
       "      <td>AFYREN, a company specialized in microbiology ...</td>\n",
       "      <td>AFYREN offre aux industriels des molécules bio...</td>\n",
       "      <td>[afyren, offre, aux, industriels, de, molécule...</td>\n",
       "    </tr>\n",
       "    <tr>\n",
       "      <th>3</th>\n",
       "      <td>894817</td>\n",
       "      <td>Abbelight</td>\n",
       "      <td>[health]</td>\n",
       "      <td>https://app.dealroom.co/companies/abbelight</td>\n",
       "      <td>http://www.abbelight.com</td>\n",
       "      <td>1.0</td>\n",
       "      <td>Abbelight provides hardware solutions, softwar...</td>\n",
       "      <td>Abbelight, innovative solutions in the field o...</td>\n",
       "      <td>Abbelight provides hardware solutions, softwar...</td>\n",
       "      <td>[abbelight, provides, hardware, solution, soft...</td>\n",
       "    </tr>\n",
       "    <tr>\n",
       "      <th>4</th>\n",
       "      <td>1683057</td>\n",
       "      <td>AblaCare</td>\n",
       "      <td>[health]</td>\n",
       "      <td>https://app.dealroom.co/companies/ablacare</td>\n",
       "      <td>https://ablacare.com</td>\n",
       "      <td>1.0</td>\n",
       "      <td>Ablacare</td>\n",
       "      <td>AblaCare, ablacare is a medical device company...</td>\n",
       "      <td>AblacareAblaCare, ablacare is a medical device...</td>\n",
       "      <td>[ablacareablacare, ablacare, medical, device, ...</td>\n",
       "    </tr>\n",
       "    <tr>\n",
       "      <th>...</th>\n",
       "      <td>...</td>\n",
       "      <td>...</td>\n",
       "      <td>...</td>\n",
       "      <td>...</td>\n",
       "      <td>...</td>\n",
       "      <td>...</td>\n",
       "      <td>...</td>\n",
       "      <td>...</td>\n",
       "      <td>...</td>\n",
       "      <td>...</td>\n",
       "    </tr>\n",
       "    <tr>\n",
       "      <th>1508</th>\n",
       "      <td>1660577</td>\n",
       "      <td>Opta LP</td>\n",
       "      <td>[home living]</td>\n",
       "      <td>https://app.dealroom.co/companies/opta_lp</td>\n",
       "      <td>http://opta-lp.com</td>\n",
       "      <td>0.5</td>\n",
       "      <td>Opta LP, opta lp | optimization softwares to i...</td>\n",
       "      <td>Opta LP, opta lp | optimization softwares to i...</td>\n",
       "      <td>Opta LP, opta lp | optimization softwares to i...</td>\n",
       "      <td>[opta, lp, opta, lp, optimization, software, i...</td>\n",
       "    </tr>\n",
       "    <tr>\n",
       "      <th>1509</th>\n",
       "      <td>132854</td>\n",
       "      <td>Ownpage Technology</td>\n",
       "      <td>[enterprise software]</td>\n",
       "      <td>https://app.dealroom.co/companies/ownpage_tech...</td>\n",
       "      <td>http://www.ownpage.fr/</td>\n",
       "      <td>0.5</td>\n",
       "      <td>Augmentez vos revenus éditoriaux avec les solu...</td>\n",
       "      <td>Ownpage Technology, helps publishers to person...</td>\n",
       "      <td>Augmentez vos revenus éditoriaux avec les solu...</td>\n",
       "      <td>[augmentez, vos, revenus, éditoriaux, avec, le...</td>\n",
       "    </tr>\n",
       "    <tr>\n",
       "      <th>1510</th>\n",
       "      <td>80695</td>\n",
       "      <td>Per Angusta</td>\n",
       "      <td>[enterprise software]</td>\n",
       "      <td>https://app.dealroom.co/companies/per_angusta</td>\n",
       "      <td>https://per-angusta.com</td>\n",
       "      <td>0.5</td>\n",
       "      <td>Per Angusta is a SaaS Procurement Performance ...</td>\n",
       "      <td>Per Angusta, helps cpos manage their sourcing ...</td>\n",
       "      <td>Per Angusta is a SaaS Procurement Performance ...</td>\n",
       "      <td>[per, angusta, saas, procurement, performance,...</td>\n",
       "    </tr>\n",
       "    <tr>\n",
       "      <th>1511</th>\n",
       "      <td>1836415</td>\n",
       "      <td>PowerUp</td>\n",
       "      <td>[energy]</td>\n",
       "      <td>https://app.dealroom.co/companies/powerup_1</td>\n",
       "      <td>http://powerup.xyz</td>\n",
       "      <td>0.5</td>\n",
       "      <td>PowerUp, . Here you'll find information about ...</td>\n",
       "      <td>PowerUp, . Here you'll find information about ...</td>\n",
       "      <td>PowerUp, . Here you'll find information about ...</td>\n",
       "      <td>[powerup, youll, find, information, funding, i...</td>\n",
       "    </tr>\n",
       "    <tr>\n",
       "      <th>1512</th>\n",
       "      <td>1654107</td>\n",
       "      <td>Transaction Connect</td>\n",
       "      <td>[fintech, marketing]</td>\n",
       "      <td>https://app.dealroom.co/companies/transaction_...</td>\n",
       "      <td>https://www.transactionconnect.com/</td>\n",
       "      <td>0.5</td>\n",
       "      <td>Natively omnichannel, payment data is the most...</td>\n",
       "      <td>Transaction Connect, provides the mall industr...</td>\n",
       "      <td>Natively omnichannel, payment data is the most...</td>\n",
       "      <td>[natively, omnichannel, payment, data, relevan...</td>\n",
       "    </tr>\n",
       "  </tbody>\n",
       "</table>\n",
       "<p>1513 rows × 10 columns</p>\n",
       "</div>"
      ],
      "text/plain": [
       "           id                    name             industries  \\\n",
       "0     1742681  Healthcardionexion.com               [health]   \n",
       "1     1743314               4P Pharma      [health, fintech]   \n",
       "2     1598607                  AFYREN               [energy]   \n",
       "3      894817               Abbelight               [health]   \n",
       "4     1683057                AblaCare               [health]   \n",
       "...       ...                     ...                    ...   \n",
       "1508  1660577                 Opta LP          [home living]   \n",
       "1509   132854      Ownpage Technology  [enterprise software]   \n",
       "1510    80695             Per Angusta  [enterprise software]   \n",
       "1511  1836415                 PowerUp               [energy]   \n",
       "1512  1654107     Transaction Connect   [fintech, marketing]   \n",
       "\n",
       "                                                    url  \\\n",
       "0     https://app.dealroom.co/companies/healthcardio...   \n",
       "1           https://app.dealroom.co/companies/4p_pharma   \n",
       "2              https://app.dealroom.co/companies/afyren   \n",
       "3           https://app.dealroom.co/companies/abbelight   \n",
       "4            https://app.dealroom.co/companies/ablacare   \n",
       "...                                                 ...   \n",
       "1508          https://app.dealroom.co/companies/opta_lp   \n",
       "1509  https://app.dealroom.co/companies/ownpage_tech...   \n",
       "1510      https://app.dealroom.co/companies/per_angusta   \n",
       "1511        https://app.dealroom.co/companies/powerup_1   \n",
       "1512  https://app.dealroom.co/companies/transaction_...   \n",
       "\n",
       "                              website_url  target  \\\n",
       "0           http://healthcardionexion.com     1.0   \n",
       "1                    http://4p-pharma.com     1.0   \n",
       "2                      http://afyren.com/     1.0   \n",
       "3                http://www.abbelight.com     1.0   \n",
       "4                    https://ablacare.com     1.0   \n",
       "...                                   ...     ...   \n",
       "1508                   http://opta-lp.com     0.5   \n",
       "1509               http://www.ownpage.fr/     0.5   \n",
       "1510              https://per-angusta.com     0.5   \n",
       "1511                   http://powerup.xyz     0.5   \n",
       "1512  https://www.transactionconnect.com/     0.5   \n",
       "\n",
       "                                       meta_description  \\\n",
       "0     @-Health : l’apparition de la médecine prédict...   \n",
       "1     4P Pharma is an R&D partner of academic and pr...   \n",
       "2     AFYREN offre aux industriels des molécules bio...   \n",
       "3     Abbelight provides hardware solutions, softwar...   \n",
       "4                                              Ablacare   \n",
       "...                                                 ...   \n",
       "1508  Opta LP, opta lp | optimization softwares to i...   \n",
       "1509  Augmentez vos revenus éditoriaux avec les solu...   \n",
       "1510  Per Angusta is a SaaS Procurement Performance ...   \n",
       "1511  PowerUp, . Here you'll find information about ...   \n",
       "1512  Natively omnichannel, payment data is the most...   \n",
       "\n",
       "                              meta_description_dealroom  \\\n",
       "0     Healthcardionexion.com, the cardionexion medic...   \n",
       "1     4P Pharma, 4p-pharma | translating science to ...   \n",
       "2     AFYREN, a company specialized in microbiology ...   \n",
       "3     Abbelight, innovative solutions in the field o...   \n",
       "4     AblaCare, ablacare is a medical device company...   \n",
       "...                                                 ...   \n",
       "1508  Opta LP, opta lp | optimization softwares to i...   \n",
       "1509  Ownpage Technology, helps publishers to person...   \n",
       "1510  Per Angusta, helps cpos manage their sourcing ...   \n",
       "1511  PowerUp, . Here you'll find information about ...   \n",
       "1512  Transaction Connect, provides the mall industr...   \n",
       "\n",
       "                                            concat_text  \\\n",
       "0     @-Health : l’apparition de la médecine prédict...   \n",
       "1     4P Pharma is an R&D partner of academic and pr...   \n",
       "2     AFYREN offre aux industriels des molécules bio...   \n",
       "3     Abbelight provides hardware solutions, softwar...   \n",
       "4     AblacareAblaCare, ablacare is a medical device...   \n",
       "...                                                 ...   \n",
       "1508  Opta LP, opta lp | optimization softwares to i...   \n",
       "1509  Augmentez vos revenus éditoriaux avec les solu...   \n",
       "1510  Per Angusta is a SaaS Procurement Performance ...   \n",
       "1511  PowerUp, . Here you'll find information about ...   \n",
       "1512  Natively omnichannel, payment data is the most...   \n",
       "\n",
       "                                preprocessed_concat_txt  \n",
       "0     [health, l, apparition, de, la, médecine, préd...  \n",
       "1     [p, pharma, rd, partner, academic, private, in...  \n",
       "2     [afyren, offre, aux, industriels, de, molécule...  \n",
       "3     [abbelight, provides, hardware, solution, soft...  \n",
       "4     [ablacareablacare, ablacare, medical, device, ...  \n",
       "...                                                 ...  \n",
       "1508  [opta, lp, opta, lp, optimization, software, i...  \n",
       "1509  [augmentez, vos, revenus, éditoriaux, avec, le...  \n",
       "1510  [per, angusta, saas, procurement, performance,...  \n",
       "1511  [powerup, youll, find, information, funding, i...  \n",
       "1512  [natively, omnichannel, payment, data, relevan...  \n",
       "\n",
       "[1513 rows x 10 columns]"
      ]
     },
     "execution_count": 444,
     "metadata": {},
     "output_type": "execute_result"
    }
   ],
   "source": [
    "my_df"
   ]
  },
  {
   "cell_type": "code",
   "execution_count": 447,
   "metadata": {
    "ExecuteTime": {
     "end_time": "2020-12-06T14:09:14.686087Z",
     "start_time": "2020-12-06T14:09:14.479379Z"
    }
   },
   "outputs": [],
   "source": [
    "X_recu=my_df.head(5)"
   ]
  },
  {
   "cell_type": "code",
   "execution_count": 448,
   "metadata": {
    "ExecuteTime": {
     "end_time": "2020-12-06T14:09:19.377981Z",
     "start_time": "2020-12-06T14:09:19.170399Z"
    }
   },
   "outputs": [
    {
     "data": {
      "text/html": [
       "<div>\n",
       "<style scoped>\n",
       "    .dataframe tbody tr th:only-of-type {\n",
       "        vertical-align: middle;\n",
       "    }\n",
       "\n",
       "    .dataframe tbody tr th {\n",
       "        vertical-align: top;\n",
       "    }\n",
       "\n",
       "    .dataframe thead th {\n",
       "        text-align: right;\n",
       "    }\n",
       "</style>\n",
       "<table border=\"1\" class=\"dataframe\">\n",
       "  <thead>\n",
       "    <tr style=\"text-align: right;\">\n",
       "      <th></th>\n",
       "      <th>id</th>\n",
       "      <th>name</th>\n",
       "      <th>industries</th>\n",
       "      <th>url</th>\n",
       "      <th>website_url</th>\n",
       "      <th>target</th>\n",
       "      <th>meta_description</th>\n",
       "      <th>meta_description_dealroom</th>\n",
       "      <th>concat_text</th>\n",
       "      <th>preprocessed_concat_txt</th>\n",
       "    </tr>\n",
       "  </thead>\n",
       "  <tbody>\n",
       "    <tr>\n",
       "      <th>0</th>\n",
       "      <td>1742681</td>\n",
       "      <td>Healthcardionexion.com</td>\n",
       "      <td>[health]</td>\n",
       "      <td>https://app.dealroom.co/companies/healthcardio...</td>\n",
       "      <td>http://healthcardionexion.com</td>\n",
       "      <td>1.0</td>\n",
       "      <td>@-Health : l’apparition de la médecine prédict...</td>\n",
       "      <td>Healthcardionexion.com, the cardionexion medic...</td>\n",
       "      <td>@-Health : l’apparition de la médecine prédict...</td>\n",
       "      <td>[health, l, apparition, de, la, médecine, préd...</td>\n",
       "    </tr>\n",
       "    <tr>\n",
       "      <th>1</th>\n",
       "      <td>1743314</td>\n",
       "      <td>4P Pharma</td>\n",
       "      <td>[health, fintech]</td>\n",
       "      <td>https://app.dealroom.co/companies/4p_pharma</td>\n",
       "      <td>http://4p-pharma.com</td>\n",
       "      <td>1.0</td>\n",
       "      <td>4P Pharma is an R&amp;D partner of academic and pr...</td>\n",
       "      <td>4P Pharma, 4p-pharma | translating science to ...</td>\n",
       "      <td>4P Pharma is an R&amp;D partner of academic and pr...</td>\n",
       "      <td>[p, pharma, rd, partner, academic, private, in...</td>\n",
       "    </tr>\n",
       "    <tr>\n",
       "      <th>2</th>\n",
       "      <td>1598607</td>\n",
       "      <td>AFYREN</td>\n",
       "      <td>[energy]</td>\n",
       "      <td>https://app.dealroom.co/companies/afyren</td>\n",
       "      <td>http://afyren.com/</td>\n",
       "      <td>1.0</td>\n",
       "      <td>AFYREN offre aux industriels des molécules bio...</td>\n",
       "      <td>AFYREN, a company specialized in microbiology ...</td>\n",
       "      <td>AFYREN offre aux industriels des molécules bio...</td>\n",
       "      <td>[afyren, offre, aux, industriels, de, molécule...</td>\n",
       "    </tr>\n",
       "    <tr>\n",
       "      <th>3</th>\n",
       "      <td>894817</td>\n",
       "      <td>Abbelight</td>\n",
       "      <td>[health]</td>\n",
       "      <td>https://app.dealroom.co/companies/abbelight</td>\n",
       "      <td>http://www.abbelight.com</td>\n",
       "      <td>1.0</td>\n",
       "      <td>Abbelight provides hardware solutions, softwar...</td>\n",
       "      <td>Abbelight, innovative solutions in the field o...</td>\n",
       "      <td>Abbelight provides hardware solutions, softwar...</td>\n",
       "      <td>[abbelight, provides, hardware, solution, soft...</td>\n",
       "    </tr>\n",
       "    <tr>\n",
       "      <th>4</th>\n",
       "      <td>1683057</td>\n",
       "      <td>AblaCare</td>\n",
       "      <td>[health]</td>\n",
       "      <td>https://app.dealroom.co/companies/ablacare</td>\n",
       "      <td>https://ablacare.com</td>\n",
       "      <td>1.0</td>\n",
       "      <td>Ablacare</td>\n",
       "      <td>AblaCare, ablacare is a medical device company...</td>\n",
       "      <td>AblacareAblaCare, ablacare is a medical device...</td>\n",
       "      <td>[ablacareablacare, ablacare, medical, device, ...</td>\n",
       "    </tr>\n",
       "  </tbody>\n",
       "</table>\n",
       "</div>"
      ],
      "text/plain": [
       "        id                    name         industries  \\\n",
       "0  1742681  Healthcardionexion.com           [health]   \n",
       "1  1743314               4P Pharma  [health, fintech]   \n",
       "2  1598607                  AFYREN           [energy]   \n",
       "3   894817               Abbelight           [health]   \n",
       "4  1683057                AblaCare           [health]   \n",
       "\n",
       "                                                 url  \\\n",
       "0  https://app.dealroom.co/companies/healthcardio...   \n",
       "1        https://app.dealroom.co/companies/4p_pharma   \n",
       "2           https://app.dealroom.co/companies/afyren   \n",
       "3        https://app.dealroom.co/companies/abbelight   \n",
       "4         https://app.dealroom.co/companies/ablacare   \n",
       "\n",
       "                     website_url  target  \\\n",
       "0  http://healthcardionexion.com     1.0   \n",
       "1           http://4p-pharma.com     1.0   \n",
       "2             http://afyren.com/     1.0   \n",
       "3       http://www.abbelight.com     1.0   \n",
       "4           https://ablacare.com     1.0   \n",
       "\n",
       "                                    meta_description  \\\n",
       "0  @-Health : l’apparition de la médecine prédict...   \n",
       "1  4P Pharma is an R&D partner of academic and pr...   \n",
       "2  AFYREN offre aux industriels des molécules bio...   \n",
       "3  Abbelight provides hardware solutions, softwar...   \n",
       "4                                           Ablacare   \n",
       "\n",
       "                           meta_description_dealroom  \\\n",
       "0  Healthcardionexion.com, the cardionexion medic...   \n",
       "1  4P Pharma, 4p-pharma | translating science to ...   \n",
       "2  AFYREN, a company specialized in microbiology ...   \n",
       "3  Abbelight, innovative solutions in the field o...   \n",
       "4  AblaCare, ablacare is a medical device company...   \n",
       "\n",
       "                                         concat_text  \\\n",
       "0  @-Health : l’apparition de la médecine prédict...   \n",
       "1  4P Pharma is an R&D partner of academic and pr...   \n",
       "2  AFYREN offre aux industriels des molécules bio...   \n",
       "3  Abbelight provides hardware solutions, softwar...   \n",
       "4  AblacareAblaCare, ablacare is a medical device...   \n",
       "\n",
       "                             preprocessed_concat_txt  \n",
       "0  [health, l, apparition, de, la, médecine, préd...  \n",
       "1  [p, pharma, rd, partner, academic, private, in...  \n",
       "2  [afyren, offre, aux, industriels, de, molécule...  \n",
       "3  [abbelight, provides, hardware, solution, soft...  \n",
       "4  [ablacareablacare, ablacare, medical, device, ...  "
      ]
     },
     "execution_count": 448,
     "metadata": {},
     "output_type": "execute_result"
    }
   ],
   "source": [
    "X_recu"
   ]
  },
  {
   "cell_type": "code",
   "execution_count": 471,
   "metadata": {
    "ExecuteTime": {
     "end_time": "2020-12-06T15:02:03.102177Z",
     "start_time": "2020-12-06T15:02:02.912462Z"
    }
   },
   "outputs": [],
   "source": [
    "my_df_meta = pd.read_csv(\"../raw_data/my_df_with_metatags.csv\")"
   ]
  },
  {
   "cell_type": "code",
   "execution_count": null,
   "metadata": {},
   "outputs": [],
   "source": []
  }
 ],
 "metadata": {
  "kernelspec": {
   "display_name": "Python 3",
   "language": "python",
   "name": "python3"
  },
  "language_info": {
   "codemirror_mode": {
    "name": "ipython",
    "version": 3
   },
   "file_extension": ".py",
   "mimetype": "text/x-python",
   "name": "python",
   "nbconvert_exporter": "python",
   "pygments_lexer": "ipython3",
   "version": "3.8.5"
  },
  "toc": {
   "base_numbering": 1,
   "nav_menu": {},
   "number_sections": false,
   "sideBar": true,
   "skip_h1_title": false,
   "title_cell": "Table of Contents",
   "title_sidebar": "Contents",
   "toc_cell": false,
   "toc_position": {},
   "toc_section_display": true,
   "toc_window_display": true
  }
 },
 "nbformat": 4,
 "nbformat_minor": 4
}
