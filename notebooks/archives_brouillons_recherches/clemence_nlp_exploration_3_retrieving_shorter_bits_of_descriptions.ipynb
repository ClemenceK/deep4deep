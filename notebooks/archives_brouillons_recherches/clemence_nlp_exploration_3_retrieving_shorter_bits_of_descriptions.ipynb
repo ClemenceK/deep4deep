{
 "cells": [
  {
   "cell_type": "code",
   "execution_count": 42,
   "metadata": {
    "ExecuteTime": {
     "end_time": "2020-12-03T12:50:33.748421Z",
     "start_time": "2020-12-03T12:50:33.685033Z"
    }
   },
   "outputs": [
    {
     "name": "stdout",
     "output_type": "stream",
     "text": [
      "The autoreload extension is already loaded. To reload it, use:\n",
      "  %reload_ext autoreload\n"
     ]
    }
   ],
   "source": [
    "%load_ext autoreload\n",
    "%autoreload 2"
   ]
  },
  {
   "cell_type": "code",
   "execution_count": 18,
   "metadata": {
    "ExecuteTime": {
     "end_time": "2020-12-03T11:46:55.174384Z",
     "start_time": "2020-12-03T11:46:51.778095Z"
    }
   },
   "outputs": [],
   "source": [
    "from deep4deep import text_processing"
   ]
  },
  {
   "cell_type": "code",
   "execution_count": null,
   "metadata": {
    "ExecuteTime": {
     "end_time": "2020-12-02T07:35:48.909412Z",
     "start_time": "2020-12-02T07:35:48.250000Z"
    }
   },
   "outputs": [],
   "source": [
    "import pandas as pd\n",
    "\n",
    "# (re)construct an input"
   ]
  },
  {
   "cell_type": "code",
   "execution_count": 24,
   "metadata": {
    "ExecuteTime": {
     "end_time": "2020-12-03T12:07:21.968578Z",
     "start_time": "2020-12-03T12:07:21.671216Z"
    }
   },
   "outputs": [
    {
     "ename": "AttributeError",
     "evalue": "'NoneType' object has no attribute 'group'",
     "output_type": "error",
     "traceback": [
      "\u001b[0;31m---------------------------------------------------------------------------\u001b[0m",
      "\u001b[0;31mAttributeError\u001b[0m                            Traceback (most recent call last)",
      "\u001b[0;32m<ipython-input-24-916c8a867671>\u001b[0m in \u001b[0;36m<module>\u001b[0;34m\u001b[0m\n\u001b[1;32m     32\u001b[0m \u001b[0;34m\u001b[0m\u001b[0m\n\u001b[1;32m     33\u001b[0m \u001b[0;34m\u001b[0m\u001b[0m\n\u001b[0;32m---> 34\u001b[0;31m \u001b[0mscanr_from_id_to_en_description\u001b[0m\u001b[0;34m(\u001b[0m\u001b[0;36m483185807\u001b[0m\u001b[0;34m)\u001b[0m\u001b[0;34m\u001b[0m\u001b[0;34m\u001b[0m\u001b[0m\n\u001b[0m",
      "\u001b[0;32m<ipython-input-24-916c8a867671>\u001b[0m in \u001b[0;36mscanr_from_id_to_en_description\u001b[0;34m(company_id)\u001b[0m\n\u001b[1;32m     20\u001b[0m         \u001b[0;31m#======= for googletrans module (currently having an issue)\u001b[0m\u001b[0;34m\u001b[0m\u001b[0;34m\u001b[0m\u001b[0;34m\u001b[0m\u001b[0m\n\u001b[1;32m     21\u001b[0m         \u001b[0mtranslator\u001b[0m \u001b[0;34m=\u001b[0m \u001b[0mTranslator\u001b[0m\u001b[0;34m(\u001b[0m\u001b[0;34m)\u001b[0m\u001b[0;34m\u001b[0m\u001b[0;34m\u001b[0m\u001b[0m\n\u001b[0;32m---> 22\u001b[0;31m         \u001b[0menglish\u001b[0m \u001b[0;34m=\u001b[0m \u001b[0mtranslator\u001b[0m\u001b[0;34m.\u001b[0m\u001b[0mtranslate\u001b[0m\u001b[0;34m(\u001b[0m\u001b[0mfrench\u001b[0m\u001b[0;34m,\u001b[0m \u001b[0mdest\u001b[0m\u001b[0;34m=\u001b[0m\u001b[0;34m'en'\u001b[0m\u001b[0;34m,\u001b[0m \u001b[0msrc\u001b[0m\u001b[0;34m=\u001b[0m\u001b[0;34m'fr'\u001b[0m\u001b[0;34m)\u001b[0m\u001b[0;34m\u001b[0m\u001b[0;34m\u001b[0m\u001b[0m\n\u001b[0m\u001b[1;32m     23\u001b[0m \u001b[0;34m\u001b[0m\u001b[0m\n\u001b[1;32m     24\u001b[0m         \u001b[0;31m#======= for translate module\u001b[0m\u001b[0;34m\u001b[0m\u001b[0;34m\u001b[0m\u001b[0;34m\u001b[0m\u001b[0m\n",
      "\u001b[0;32m~/.pyenv/versions/data/envs/NLP/lib/python3.8/site-packages/googletrans/client.py\u001b[0m in \u001b[0;36mtranslate\u001b[0;34m(self, text, dest, src, **kwargs)\u001b[0m\n\u001b[1;32m    180\u001b[0m \u001b[0;34m\u001b[0m\u001b[0m\n\u001b[1;32m    181\u001b[0m         \u001b[0morigin\u001b[0m \u001b[0;34m=\u001b[0m \u001b[0mtext\u001b[0m\u001b[0;34m\u001b[0m\u001b[0;34m\u001b[0m\u001b[0m\n\u001b[0;32m--> 182\u001b[0;31m         \u001b[0mdata\u001b[0m \u001b[0;34m=\u001b[0m \u001b[0mself\u001b[0m\u001b[0;34m.\u001b[0m\u001b[0m_translate\u001b[0m\u001b[0;34m(\u001b[0m\u001b[0mtext\u001b[0m\u001b[0;34m,\u001b[0m \u001b[0mdest\u001b[0m\u001b[0;34m,\u001b[0m \u001b[0msrc\u001b[0m\u001b[0;34m,\u001b[0m \u001b[0mkwargs\u001b[0m\u001b[0;34m)\u001b[0m\u001b[0;34m\u001b[0m\u001b[0;34m\u001b[0m\u001b[0m\n\u001b[0m\u001b[1;32m    183\u001b[0m \u001b[0;34m\u001b[0m\u001b[0m\n\u001b[1;32m    184\u001b[0m         \u001b[0;31m# this code will be updated when the format is changed.\u001b[0m\u001b[0;34m\u001b[0m\u001b[0;34m\u001b[0m\u001b[0;34m\u001b[0m\u001b[0m\n",
      "\u001b[0;32m~/.pyenv/versions/data/envs/NLP/lib/python3.8/site-packages/googletrans/client.py\u001b[0m in \u001b[0;36m_translate\u001b[0;34m(self, text, dest, src, override)\u001b[0m\n\u001b[1;32m     76\u001b[0m \u001b[0;34m\u001b[0m\u001b[0m\n\u001b[1;32m     77\u001b[0m     \u001b[0;32mdef\u001b[0m \u001b[0m_translate\u001b[0m\u001b[0;34m(\u001b[0m\u001b[0mself\u001b[0m\u001b[0;34m,\u001b[0m \u001b[0mtext\u001b[0m\u001b[0;34m,\u001b[0m \u001b[0mdest\u001b[0m\u001b[0;34m,\u001b[0m \u001b[0msrc\u001b[0m\u001b[0;34m,\u001b[0m \u001b[0moverride\u001b[0m\u001b[0;34m)\u001b[0m\u001b[0;34m:\u001b[0m\u001b[0;34m\u001b[0m\u001b[0;34m\u001b[0m\u001b[0m\n\u001b[0;32m---> 78\u001b[0;31m         \u001b[0mtoken\u001b[0m \u001b[0;34m=\u001b[0m \u001b[0mself\u001b[0m\u001b[0;34m.\u001b[0m\u001b[0mtoken_acquirer\u001b[0m\u001b[0;34m.\u001b[0m\u001b[0mdo\u001b[0m\u001b[0;34m(\u001b[0m\u001b[0mtext\u001b[0m\u001b[0;34m)\u001b[0m\u001b[0;34m\u001b[0m\u001b[0;34m\u001b[0m\u001b[0m\n\u001b[0m\u001b[1;32m     79\u001b[0m         params = utils.build_params(query=text, src=src, dest=dest,\n\u001b[1;32m     80\u001b[0m                                     token=token, override=override)\n",
      "\u001b[0;32m~/.pyenv/versions/data/envs/NLP/lib/python3.8/site-packages/googletrans/gtoken.py\u001b[0m in \u001b[0;36mdo\u001b[0;34m(self, text)\u001b[0m\n\u001b[1;32m    192\u001b[0m \u001b[0;34m\u001b[0m\u001b[0m\n\u001b[1;32m    193\u001b[0m     \u001b[0;32mdef\u001b[0m \u001b[0mdo\u001b[0m\u001b[0;34m(\u001b[0m\u001b[0mself\u001b[0m\u001b[0;34m,\u001b[0m \u001b[0mtext\u001b[0m\u001b[0;34m)\u001b[0m\u001b[0;34m:\u001b[0m\u001b[0;34m\u001b[0m\u001b[0;34m\u001b[0m\u001b[0m\n\u001b[0;32m--> 194\u001b[0;31m         \u001b[0mself\u001b[0m\u001b[0;34m.\u001b[0m\u001b[0m_update\u001b[0m\u001b[0;34m(\u001b[0m\u001b[0;34m)\u001b[0m\u001b[0;34m\u001b[0m\u001b[0;34m\u001b[0m\u001b[0m\n\u001b[0m\u001b[1;32m    195\u001b[0m         \u001b[0mtk\u001b[0m \u001b[0;34m=\u001b[0m \u001b[0mself\u001b[0m\u001b[0;34m.\u001b[0m\u001b[0macquire\u001b[0m\u001b[0;34m(\u001b[0m\u001b[0mtext\u001b[0m\u001b[0;34m)\u001b[0m\u001b[0;34m\u001b[0m\u001b[0;34m\u001b[0m\u001b[0m\n\u001b[1;32m    196\u001b[0m         \u001b[0;32mreturn\u001b[0m \u001b[0mtk\u001b[0m\u001b[0;34m\u001b[0m\u001b[0;34m\u001b[0m\u001b[0m\n",
      "\u001b[0;32m~/.pyenv/versions/data/envs/NLP/lib/python3.8/site-packages/googletrans/gtoken.py\u001b[0m in \u001b[0;36m_update\u001b[0;34m(self)\u001b[0m\n\u001b[1;32m     60\u001b[0m \u001b[0;34m\u001b[0m\u001b[0m\n\u001b[1;32m     61\u001b[0m         \u001b[0;31m# this will be the same as python code after stripping out a reserved word 'var'\u001b[0m\u001b[0;34m\u001b[0m\u001b[0;34m\u001b[0m\u001b[0;34m\u001b[0m\u001b[0m\n\u001b[0;32m---> 62\u001b[0;31m         \u001b[0mcode\u001b[0m \u001b[0;34m=\u001b[0m \u001b[0mself\u001b[0m\u001b[0;34m.\u001b[0m\u001b[0mRE_TKK\u001b[0m\u001b[0;34m.\u001b[0m\u001b[0msearch\u001b[0m\u001b[0;34m(\u001b[0m\u001b[0mr\u001b[0m\u001b[0;34m.\u001b[0m\u001b[0mtext\u001b[0m\u001b[0;34m)\u001b[0m\u001b[0;34m.\u001b[0m\u001b[0mgroup\u001b[0m\u001b[0;34m(\u001b[0m\u001b[0;36m1\u001b[0m\u001b[0;34m)\u001b[0m\u001b[0;34m.\u001b[0m\u001b[0mreplace\u001b[0m\u001b[0;34m(\u001b[0m\u001b[0;34m'var '\u001b[0m\u001b[0;34m,\u001b[0m \u001b[0;34m''\u001b[0m\u001b[0;34m)\u001b[0m\u001b[0;34m\u001b[0m\u001b[0;34m\u001b[0m\u001b[0m\n\u001b[0m\u001b[1;32m     63\u001b[0m         \u001b[0;31m# unescape special ascii characters such like a \\x3d(=)\u001b[0m\u001b[0;34m\u001b[0m\u001b[0;34m\u001b[0m\u001b[0;34m\u001b[0m\u001b[0m\n\u001b[1;32m     64\u001b[0m         \u001b[0mcode\u001b[0m \u001b[0;34m=\u001b[0m \u001b[0mcode\u001b[0m\u001b[0;34m.\u001b[0m\u001b[0mencode\u001b[0m\u001b[0;34m(\u001b[0m\u001b[0;34m)\u001b[0m\u001b[0;34m.\u001b[0m\u001b[0mdecode\u001b[0m\u001b[0;34m(\u001b[0m\u001b[0;34m'unicode-escape'\u001b[0m\u001b[0;34m)\u001b[0m\u001b[0;34m\u001b[0m\u001b[0;34m\u001b[0m\u001b[0m\n",
      "\u001b[0;31mAttributeError\u001b[0m: 'NoneType' object has no attribute 'group'"
     ]
    }
   ],
   "source": [
    "#ScanR\n",
    "# given an id, get the 'description' in english, or in French if no english\n",
    "\n",
    "from googletrans import Translator #https://pypi.org/project/googletrans/\n",
    "# or \n",
    "# from translate import Translator\n",
    "\n",
    "def scanr_from_id_to_en_description(company_id=833714694):\n",
    "    base_url = \"https://scanr-api.enseignementsup-recherche.gouv.fr/api/v2/structures/structure/\"\n",
    "    url = base_url + str(company_id)\n",
    "    response = requests.get(url).json()\n",
    "\n",
    "    # if no english, send a request to Google translation API\n",
    "    # originally using googletrans, but problem these days: https://stackoverflow.com/questions/52455774/googletrans-stopped-working-with-error-nonetype-object-has-no-attribute-group\n",
    "    # therefore using translate: https://pypi.org/project/translate/\n",
    "\n",
    "    english = response['description']['en']\n",
    "    if not english:\n",
    "        print(f\"for company {company_id}, could only retrieve French description. Sending to translation.\")\n",
    "        french = response['description']['fr']\n",
    "        #======= for googletrans module \n",
    "        # currently having a documented issue sending error: \n",
    "        # AttributeError: 'NoneType' object has no attribute 'group'\n",
    "        #translator = Translator() \n",
    "        #english = translator.translate(french, dest='en', src='fr') \n",
    "\n",
    "        #======= for translate module\n",
    "        #translator = Translator(to_lang='en', from_lang='fr',) #with a limited number of calls a day\n",
    "        #english = translator.translate(french) \n",
    "\n",
    "        # if no API available: return the french text until a solution is found\n",
    "        print(f\"for company {company_id}, could not get translation. Keeping French.\")\n",
    "    englishenglish = french \n",
    "    \n",
    "    return english\n",
    "\n",
    "\n",
    "scanr_from_id_to_en_description(483185807)"
   ]
  },
  {
   "cell_type": "code",
   "execution_count": 21,
   "metadata": {
    "ExecuteTime": {
     "end_time": "2020-12-03T12:03:32.536219Z",
     "start_time": "2020-12-03T12:03:32.532493Z"
    }
   },
   "outputs": [],
   "source": [
    "#ScanR\n",
    "# given a name, return an id (POST)\n",
    "# written mail to API team\n",
    "# written stack overflow post: https://stackoverflow.com/questions/65106756/using-the-scanr-api-from-gouv-fr-for-a-post-request-that-given-a-company-name"
   ]
  },
  {
   "cell_type": "code",
   "execution_count": 128,
   "metadata": {
    "ExecuteTime": {
     "end_time": "2020-12-02T15:44:29.139445Z",
     "start_time": "2020-12-02T15:44:28.433960Z"
    }
   },
   "outputs": [
    {
     "data": {
      "text/plain": [
       "{'request': {'query': 'carbon\\\\ waters',\n",
       "  'page': 0,\n",
       "  'pageSize': 12,\n",
       "  'lang': 'default',\n",
       "  'searchFields': [],\n",
       "  'filters': {},\n",
       "  'sourceFields': [],\n",
       "  'aggregations': {}},\n",
       " 'total': 2887,\n",
       " 'results': [{'highlights': [{'type': 'label.fr',\n",
       "     'value': '<strong>CARBON</strong> <strong>WATERS</strong>'},\n",
       "    {'type': 'label.default',\n",
       "     'value': '<strong>CARBON</strong> <strong>WATERS</strong>'},\n",
       "    {'type': 'description.fr',\n",
       "     'value': '<strong>Carbon</strong> <strong>Waters</strong> est une société de graphène. Nous avons développé et breveté un procédé unique pour produire'},\n",
       "    {'type': 'description.default',\n",
       "     'value': '<strong>Carbon</strong> <strong>Waters</strong> est une société de graphène. Nous avons développé et breveté un procédé unique pour produire'},\n",
       "    {'type': 'alias',\n",
       "     'value': '<strong>CARBON</strong> <strong>WATERS</strong>'},\n",
       "    {'type': 'websites.webPages.content',\n",
       "     'value': 'Unit\\nFormulations Unit\\nFind solutions\\nContact\\n<strong>Carbon</strong> <strong>Waters</strong>\\nPioneering an innovative graphene form\\nOur Team'}],\n",
       "   'value': {'id': '833714694',\n",
       "    'kind': ['Secteur privé'],\n",
       "    'label': {'default': 'CARBON WATERS', 'fr': 'CARBON WATERS'},\n",
       "    'nature': 'PME',\n",
       "    'isFrench': True,\n",
       "    'address': [{'address': '14 Avenue Pey Berland',\n",
       "      'postcode': '33600',\n",
       "      'city': 'Pessac',\n",
       "      'citycode': '33318',\n",
       "      'country': 'France',\n",
       "      'provider': 'adresse.data.gouv.fr',\n",
       "      'score': '0.7306104207419412',\n",
       "      'gps': {'lat': 44.801819, 'lon': -0.611544},\n",
       "      'urbanUnitCode': 'UU33701',\n",
       "      'urbanUnitLabel': 'Bordeaux',\n",
       "      'localisationSuggestions': ['Nouvelle-Aquitaine',\n",
       "       'Bordeaux (agglomération)',\n",
       "       'Pessac',\n",
       "       'Bordeaux (académie)',\n",
       "       'Gironde (33)'],\n",
       "      'main': True}],\n",
       "    'level': 'PME'}},\n",
       "  {'highlights': [{'type': 'projects.project.label.en',\n",
       "     'value': 'Marine Ecosystem Biodiversity and Dynamics of <strong>Carbon</strong> around Kerguelen: an integrated view'},\n",
       "    {'type': 'projects.project.label.fr',\n",
       "     'value': 'Biodiversité des Ecosystèmes Marins et Dynamique du <strong>Carbone</strong> dans le secteur de Kerguelen : approche intégrée'},\n",
       "    {'type': 'websites.webPages.content',\n",
       "     'value': 'continuum to understand transformation of biogenic <strong>carbon</strong> in aquatic systems - A case study based on a pine-maize'},\n",
       "    {'type': 'publications.publication.title.default',\n",
       "     'value': 'Early spring mesopelagic <strong>carbon</strong> remineralization and transfer efficiency in the'}],\n",
       "   'value': {'id': '200812834V',\n",
       "    'kind': ['Structure de recherche'],\n",
       "    'label': {'default': \"Laboratoire d'océanologie et de géosciences\",\n",
       "     'fr': \"Laboratoire d'océanologie et de géosciences\"},\n",
       "    'acronym': {'default': 'LOG', 'fr': 'LOG'},\n",
       "    'nature': 'Unite mixte',\n",
       "    'isFrench': True,\n",
       "    'address': [{'address': '28 Avenue du Marechal Foch',\n",
       "      'postcode': '62930',\n",
       "      'city': 'Wimereux',\n",
       "      'citycode': '62893',\n",
       "      'country': 'France',\n",
       "      'gps': {'lat': 50.762568, 'lon': 1.6057807},\n",
       "      'urbanUnitCode': 'UU62301',\n",
       "      'urbanUnitLabel': 'Wimereux',\n",
       "      'localisationSuggestions': ['Hauts-de-France',\n",
       "       'Wimereux (agglomération)',\n",
       "       'Wimereux',\n",
       "       'Lille (académie)',\n",
       "       'Pas-de-Calais (62)'],\n",
       "      'main': True}],\n",
       "    'level': 'Unité de recherche'}},\n",
       "  {'highlights': [{'type': 'projects.project.label.en',\n",
       "     'value': 'phytoplankton ecophysiology products for coastal <strong>waters</strong> from local and satellite measurements'},\n",
       "    {'type': 'projects.project.acronym.default',\n",
       "     'value': '<strong>WATERS</strong>'},\n",
       "    {'type': 'websites.webPages.content',\n",
       "     'value': 'great-great-grandparents say? The story of an individual’s <strong>carbon</strong> footprint\\nA humane solution to the climate crisis'},\n",
       "    {'type': 'publications.publication.title.default',\n",
       "     'value': 'accounting for land use in simulations of ecosystem <strong>carbon</strong> cycling in Africa'}],\n",
       "   'value': {'id': 'grid.410381.f',\n",
       "    'kind': ['Secteur public'],\n",
       "    'label': {'default': 'Finnish Environment Institute',\n",
       "     'en': 'Finnish Environment Institute'},\n",
       "    'acronym': {'default': 'SYKE', 'en': 'SYKE'},\n",
       "    'nature': 'Government',\n",
       "    'isFrench': False,\n",
       "    'address': [{'city': 'Helsinki',\n",
       "      'country': 'Finland',\n",
       "      'provider': 'grid/geonames',\n",
       "      'gps': {'lat': 60.17895, 'lon': 24.915115},\n",
       "      'localisationSuggestions': ['Helsinki'],\n",
       "      'main': True}]}},\n",
       "  {'highlights': [{'type': 'projects.project.label.en',\n",
       "     'value': 'Strategies for Environmental Monitoring of Marine <strong>Carbon</strong> Capture and Storage'},\n",
       "    {'type': 'websites.webPages.content',\n",
       "     'value': 'including concentrations of sulphur dioxide, ozone, <strong>carbon</strong> dioxide and methane, as well as aerosols, trace'},\n",
       "    {'type': 'publications.publication.title.default',\n",
       "     'value': 'Global <strong>carbon</strong> budget 2014'}],\n",
       "   'value': {'id': 'grid.22319.3b',\n",
       "    'kind': ['Secteur public'],\n",
       "    'label': {'default': 'Plymouth Marine Laboratory',\n",
       "     'en': 'Plymouth Marine Laboratory'},\n",
       "    'acronym': {'default': 'PML', 'en': 'PML'},\n",
       "    'nature': 'Facility',\n",
       "    'isFrench': False,\n",
       "    'address': [{'city': 'Plymouth',\n",
       "      'country': 'United Kingdom',\n",
       "      'provider': 'grid/geonames',\n",
       "      'gps': {'lat': 50.365927, 'lon': -4.148667},\n",
       "      'localisationSuggestions': ['Plymouth'],\n",
       "      'main': True}]}},\n",
       "  {'highlights': [{'type': 'projects.project.label.en',\n",
       "     'value': 'surface <strong>waters</strong> of the critical zone in agricultural environment'},\n",
       "    {'type': 'projects.project.label.fr',\n",
       "     'value': 'du <strong>carbone</strong> des tourbières : identifier le rôle des protistes mixotrophes dans la pompe à <strong>carbone</strong> biologique'},\n",
       "    {'type': 'websites.webPages.content',\n",
       "     'value': \"de la Chaire AXA à EcoLab\\nActualités\\nLes flux <strong>carbone</strong> organique vers l'Océan arctique sous la menace\"},\n",
       "    {'type': 'publications.publication.title.default',\n",
       "     'value': 'litter degradation in highly turbid transitional <strong>waters</strong>: preliminary results from litter-bag experiments'}],\n",
       "   'value': {'id': '200711910V',\n",
       "    'kind': ['Structure de recherche'],\n",
       "    'label': {'default': 'Laboratoire écologie fonctionnelle et environnement',\n",
       "     'fr': 'Laboratoire écologie fonctionnelle et environnement'},\n",
       "    'acronym': {'default': 'ECOLAB', 'fr': 'ECOLAB'},\n",
       "    'nature': 'Unite mixte',\n",
       "    'isFrench': True,\n",
       "    'address': [{'address': '231 Route de Narbonne',\n",
       "      'postcode': '31400',\n",
       "      'city': 'Toulouse',\n",
       "      'citycode': '31555',\n",
       "      'country': 'France',\n",
       "      'gps': {'lat': 43.5569573, 'lon': 1.4665719},\n",
       "      'urbanUnitCode': 'UU31701',\n",
       "      'urbanUnitLabel': 'Toulouse',\n",
       "      'localisationSuggestions': ['Occitanie',\n",
       "       'Toulouse (agglomération)',\n",
       "       'Toulouse',\n",
       "       'Toulouse (académie)',\n",
       "       'Haute-Garonne (31)'],\n",
       "      'main': True}],\n",
       "    'level': 'Unité de recherche'}},\n",
       "  {'highlights': [{'type': 'projects.project.label.default',\n",
       "     'value': 'ecological status\" of the Me-diterranean coastal <strong>waters</strong>'},\n",
       "    {'type': 'projects.project.label.en',\n",
       "     'value': 'tools for ecosystem based management in the deep <strong>waters</strong> of Europe and beyond'},\n",
       "    {'type': 'projects.project.label.fr',\n",
       "     'value': 'ecological status\" of the Me-diterranean coastal <strong>waters</strong>'},\n",
       "    {'type': 'websites.webPages.content',\n",
       "     'value': 'qu’il rend à la vie sur terre : la fixation de <strong>carbone</strong>, l’absorption de chaleur, l’émission d’oxygène'},\n",
       "    {'type': 'publications.publication.title.default',\n",
       "     'value': 'Observation of oxygen ventilation into deep <strong>waters</strong> through targeted deployment of multiple Argo-O2'}],\n",
       "   'value': {'id': '330715368',\n",
       "    'kind': ['Secteur public'],\n",
       "    'label': {'default': \"French Research Institute for Exploitation of the Sea Institut Français de Recherche pour l'Exploitation de la Mer\",\n",
       "     'en': 'French Research Institute for Exploitation of the Sea',\n",
       "     'fr': \"Institut Français de Recherche pour l'Exploitation de la Mer\"},\n",
       "    'acronym': {'default': 'IFREMER IFREMER',\n",
       "     'en': 'IFREMER',\n",
       "     'fr': 'IFREMER'},\n",
       "    'nature': 'ETI',\n",
       "    'isFrench': True,\n",
       "    'address': [{'address': '1625 Route de Sainte-anne',\n",
       "      'postcode': '29280',\n",
       "      'city': 'Plouzané',\n",
       "      'citycode': '29212',\n",
       "      'country': 'France',\n",
       "      'provider': 'adresse.data.gouv.fr',\n",
       "      'score': '0.7774957979895811',\n",
       "      'gps': {'lat': 48.362046, 'lon': -4.563411},\n",
       "      'urbanUnitCode': 'UU29701',\n",
       "      'urbanUnitLabel': 'Brest',\n",
       "      'localisationSuggestions': ['Bretagne',\n",
       "       'Brest (agglomération)',\n",
       "       'Plouzané',\n",
       "       'Rennes (académie)',\n",
       "       'Finistère (29)'],\n",
       "      'main': True}],\n",
       "    'level': 'Etablissement public à caractère industriel et commercial (EPIC)'}},\n",
       "  {'highlights': [{'type': 'projects.project.label.en',\n",
       "     'value': 'Fisheries Partnership Agreement- and international <strong>waters</strong>'},\n",
       "    {'type': 'websites.webPages.content',\n",
       "     'value': 'ecosystem, is struggling with recruitment due to warmer <strong>waters</strong> and declining sea ice cover.\\nLearning to reveal'},\n",
       "    {'type': 'publications.publication.title.default',\n",
       "     'value': 'Global <strong>Carbon</strong> Budget 2018'}],\n",
       "   'value': {'id': 'grid.10917.3e',\n",
       "    'kind': ['Secteur public'],\n",
       "    'label': {'default': 'Norwegian Institute of Marine Research',\n",
       "     'en': 'Norwegian Institute of Marine Research'},\n",
       "    'acronym': {'default': 'IMR', 'en': 'IMR'},\n",
       "    'nature': 'Facility',\n",
       "    'isFrench': False,\n",
       "    'address': [{'city': 'Bergen',\n",
       "      'country': 'Norway',\n",
       "      'provider': 'grid/geonames',\n",
       "      'gps': {'lat': 60.399961, 'lon': 5.303892},\n",
       "      'localisationSuggestions': ['Bergen'],\n",
       "      'main': True}]}},\n",
       "  {'highlights': [{'type': 'projects.project.label.en',\n",
       "     'value': '<strong>Carbon</strong> Cascades from Land to Ocean in the Anthropocene'},\n",
       "    {'type': 'websites.webPages.content',\n",
       "     'value': 'a steady trend towards installations in deeper <strong>waters</strong> and harsher environments. This course addresses'},\n",
       "    {'type': 'publications.publication.title.default',\n",
       "     'value': 'Accounting for <strong>Carbon</strong> Stocks in Soils and Measuring GHGs Emission Fluxes'}],\n",
       "   'value': {'id': 'grid.6385.8',\n",
       "    'kind': ['Secteur public'],\n",
       "    'label': {'default': 'Deltares', 'en': 'Deltares'},\n",
       "    'nature': 'Facility',\n",
       "    'isFrench': False,\n",
       "    'address': [{'city': 'Delft',\n",
       "      'country': 'Netherlands',\n",
       "      'provider': 'grid/geonames',\n",
       "      'gps': {'lat': 51.986071, 'lon': 4.379089},\n",
       "      'localisationSuggestions': ['Delft'],\n",
       "      'main': True}]}},\n",
       "  {'highlights': [{'type': 'projects.project.label.default',\n",
       "     'value': 'ecological status\" of the Me-diterranean coastal <strong>waters</strong>'},\n",
       "    {'type': 'projects.project.label.en',\n",
       "     'value': 'Advancing Understanding of <strong>Carbon</strong> Cycling and Coloured Dissolved Organic Matter Dynamics'},\n",
       "    {'type': 'projects.project.label.fr',\n",
       "     'value': 'ecological status\" of the Me-diterranean coastal <strong>waters</strong>'},\n",
       "    {'type': 'websites.webPages.content',\n",
       "     'value': 'Institute of Marine Biological Resources and Inland <strong>Waters</strong> (IMBRIW) and the Institute of Oceanography (IO)'},\n",
       "    {'type': 'publications.publication.title.default',\n",
       "     'value': 'Environmental Status\" of the Mediterranean coastal <strong>waters</strong>'}],\n",
       "   'value': {'id': 'grid.410335.0',\n",
       "    'kind': ['Secteur public'],\n",
       "    'label': {'default': 'Hellenic Centre for Marine Research',\n",
       "     'en': 'Hellenic Centre for Marine Research'},\n",
       "    'acronym': {'default': 'HCMR', 'en': 'HCMR'},\n",
       "    'nature': 'Facility',\n",
       "    'isFrench': False,\n",
       "    'address': [{'city': 'Anavyssos',\n",
       "      'country': 'Greece',\n",
       "      'provider': 'grid/geonames',\n",
       "      'gps': {'lat': 37.733809, 'lon': 23.904064},\n",
       "      'localisationSuggestions': ['Anavyssos'],\n",
       "      'main': True}]}},\n",
       "  {'highlights': [{'type': 'projects.project.label.default',\n",
       "     'value': 'Caractérisation des particules <strong>carbonées</strong> atmosphériques sur les sites urbanisés de la région'},\n",
       "    {'type': 'projects.project.label.en',\n",
       "     'value': '<strong>Carbon</strong> Cascades from Land to Ocean in the Anthropocene'},\n",
       "    {'type': 'projects.project.label.fr',\n",
       "     'value': 'Caractérisation des particules <strong>carbonées</strong> atmosphériques sur les sites urbanisés de la région'},\n",
       "    {'type': 'projects.project.acronym.default',\n",
       "     'value': '<strong>CARBONES</strong>'},\n",
       "    {'type': 'websites.webPages.content',\n",
       "     'value': \"émissions de gaz à effet de serre (dioxyde de <strong>carbone</strong> et méthane), et à l'aide de nouveaux capteurs d'ployé\"},\n",
       "    {'type': 'publications.publication.title.default',\n",
       "     'value': 'Top–down assessment of the Asian <strong>carbon</strong> budget since the mid 1990s'}],\n",
       "   'value': {'id': '200611689J',\n",
       "    'kind': ['Structure de recherche'],\n",
       "    'label': {'default': \"Laboratoire des Sciences du Climat et de l'Environnement UMR 8212\",\n",
       "     'fr': \"Laboratoire des Sciences du Climat et de l'Environnement UMR 8212\"},\n",
       "    'acronym': {'default': 'LSCE', 'fr': 'LSCE'},\n",
       "    'nature': 'Unite mixte',\n",
       "    'isFrench': True,\n",
       "    'address': [{'postcode': '91190',\n",
       "      'city': 'Gif-sur-Yvette',\n",
       "      'citycode': '91272',\n",
       "      'country': 'France',\n",
       "      'provider': 'adresse.data.gouv.fr',\n",
       "      'score': '0.6756108309010953',\n",
       "      'gps': {'lat': 48.70541, 'lon': 2.132281},\n",
       "      'urbanUnitCode': 'UU00851',\n",
       "      'urbanUnitLabel': 'Paris',\n",
       "      'localisationSuggestions': ['Île-de-France',\n",
       "       'Paris (agglomération)',\n",
       "       'Gif-sur-Yvette',\n",
       "       'Versailles (académie)',\n",
       "       'Essonne (91)'],\n",
       "      'main': True}],\n",
       "    'level': 'Unité de recherche'}},\n",
       "  {'highlights': [{'type': 'projects.project.label.en',\n",
       "     'value': 'Fisheries Partnership Agreement- and international <strong>waters</strong>'},\n",
       "    {'type': 'publications.publication.title.default',\n",
       "     'value': 'multiple stress in freshwater, marine and ground <strong>waters</strong>'}],\n",
       "   'value': {'id': 'grid.424586.9',\n",
       "    'kind': ['Secteur public'],\n",
       "    'label': {'default': 'Marine Research Institute',\n",
       "     'en': 'Marine Research Institute'},\n",
       "    'acronym': {'default': 'MRI', 'en': 'MRI'},\n",
       "    'nature': 'Facility',\n",
       "    'isFrench': False,\n",
       "    'address': [{'city': 'Reykjavik',\n",
       "      'country': 'Iceland',\n",
       "      'provider': 'grid/geonames',\n",
       "      'gps': {'lat': 64.149384, 'lon': -21.929921},\n",
       "      'localisationSuggestions': ['Reykjavik'],\n",
       "      'main': True}]}},\n",
       "  {'highlights': [{'type': 'projects.project.label.en',\n",
       "     'value': 'in the development of sustainable plans for low <strong>carbon</strong> heating and cooling'},\n",
       "    {'type': 'websites.webPages.content',\n",
       "     'value': 'activities, VITO supports the transition to a low <strong>carbon</strong> society with scientific knowledge and ready to'},\n",
       "    {'type': 'publications.publication.title.default',\n",
       "     'value': 'of feedstock, land use change, and soil organic <strong>carbon</strong> on energy and greenhouse gas performance of biomass'}],\n",
       "   'value': {'id': 'grid.6717.7',\n",
       "    'kind': ['Secteur public'],\n",
       "    'label': {'default': 'Flemish Institute for Technological Research',\n",
       "     'en': 'Flemish Institute for Technological Research'},\n",
       "    'acronym': {'default': 'VITO', 'en': 'VITO'},\n",
       "    'nature': 'Facility',\n",
       "    'isFrench': False,\n",
       "    'address': [{'city': 'Mol',\n",
       "      'country': 'Belgium',\n",
       "      'provider': 'grid/geonames',\n",
       "      'gps': {'lat': 51.230858, 'lon': 5.092054},\n",
       "      'localisationSuggestions': ['Mol'],\n",
       "      'main': True}]}}],\n",
       " 'facets': [{'id': 'facet_institutions',\n",
       "   'entries': [{'value': 'Centre national de la recherche scientifique',\n",
       "     'count': 316,\n",
       "     'subFacets': []},\n",
       "    {'value': \"ministère en charge de l'enseignement supérieur\",\n",
       "     'count': 87,\n",
       "     'subFacets': []},\n",
       "    {'value': \"Institut national de recherche pour l'agriculture, l'alimentation et l'environnement\",\n",
       "     'count': 77,\n",
       "     'subFacets': []},\n",
       "    {'value': 'Institut de recherche pour le developpement',\n",
       "     'count': 45,\n",
       "     'subFacets': []},\n",
       "    {'value': 'Institut national de la sante et de la recherche medicale',\n",
       "     'count': 32,\n",
       "     'subFacets': []},\n",
       "    {'value': 'Universite Paris-Saclay', 'count': 32, 'subFacets': []},\n",
       "    {'value': \"Institut Francais de Recherche pour l'Exploitation de la Mer\",\n",
       "     'count': 31,\n",
       "     'subFacets': []},\n",
       "    {'value': 'Sorbonne Universite', 'count': 28, 'subFacets': []},\n",
       "    {'value': \"Commissariat a l'energie atomique et aux energies alternatives\",\n",
       "     'count': 25,\n",
       "     'subFacets': []},\n",
       "    {'value': 'Universite Aix-Marseille', 'count': 24, 'subFacets': []},\n",
       "    {'value': 'Universite Toulouse 3 - Paul Sabatier',\n",
       "     'count': 21,\n",
       "     'subFacets': []},\n",
       "    {'value': 'Universite Claude Bernard Lyon 1',\n",
       "     'count': 19,\n",
       "     'subFacets': []},\n",
       "    {'value': 'Universite Paris sciences et lettres',\n",
       "     'count': 19,\n",
       "     'subFacets': []},\n",
       "    {'value': 'Universite de Montpellier', 'count': 18, 'subFacets': []},\n",
       "    {'value': 'Universite de Lorraine', 'count': 15, 'subFacets': []},\n",
       "    {'value': 'AgroParisTech (Inst Sc et Ind du Vivant et Environnement)',\n",
       "     'count': 13,\n",
       "     'subFacets': []},\n",
       "    {'value': 'Universite Clermont Auvergne', 'count': 13, 'subFacets': []},\n",
       "    {'value': 'Institut national de la recherche en agronomie',\n",
       "     'count': 12,\n",
       "     'subFacets': []},\n",
       "    {'value': 'Universite Grenoble Alpes', 'count': 12, 'subFacets': []},\n",
       "    {'value': 'Universite Nantes', 'count': 12, 'subFacets': []}]},\n",
       "  {'id': 'facet_kind',\n",
       "   'entries': [{'value': 'Secteur public', 'count': 1660, 'subFacets': []},\n",
       "    {'value': 'Secteur privé', 'count': 711, 'subFacets': []},\n",
       "    {'value': 'Structure de recherche', 'count': 488, 'subFacets': []},\n",
       "    {'value': 'Organisation internationale', 'count': 3, 'subFacets': []}]},\n",
       "  {'id': 'facet_badges', 'entries': []},\n",
       "  {'id': 'facet_projects_types',\n",
       "   'entries': [{'value': 'H2020', 'count': 1225, 'subFacets': []},\n",
       "    {'value': 'FP7', 'count': 1089, 'subFacets': []},\n",
       "    {'value': 'ANR', 'count': 945, 'subFacets': []},\n",
       "    {'value': 'Partenariat Hubert Curien', 'count': 722, 'subFacets': []},\n",
       "    {'value': 'PIA', 'count': 289, 'subFacets': []},\n",
       "    {'value': 'Thèses co-financées ADEME', 'count': 141, 'subFacets': []},\n",
       "    {'value': 'Casdar', 'count': 56, 'subFacets': []},\n",
       "    {'value': 'INCA', 'count': 37, 'subFacets': []},\n",
       "    {'value': 'Innovation 2030', 'count': 19, 'subFacets': []},\n",
       "    {'value': 'PHRC', 'count': 15, 'subFacets': []},\n",
       "    {'value': 'REACTING', 'count': 1, 'subFacets': []}]},\n",
       "  {'id': 'facet_urban_hits',\n",
       "   'entries': [{'value': 'Paris', 'count': 416, 'subFacets': []},\n",
       "    {'value': 'Lyon', 'count': 75, 'subFacets': []},\n",
       "    {'value': 'Marseille - Aix-en-Provence', 'count': 52, 'subFacets': []},\n",
       "    {'value': 'Toulouse', 'count': 49, 'subFacets': []},\n",
       "    {'value': 'Montpellier', 'count': 48, 'subFacets': []},\n",
       "    {'value': 'Bordeaux', 'count': 33, 'subFacets': []},\n",
       "    {'value': 'Brest', 'count': 31, 'subFacets': []},\n",
       "    {'value': 'Lille', 'count': 30, 'subFacets': []},\n",
       "    {'value': 'Nantes', 'count': 28, 'subFacets': []},\n",
       "    {'value': 'Rennes', 'count': 26, 'subFacets': []},\n",
       "    {'value': 'Grenoble', 'count': 25, 'subFacets': []},\n",
       "    {'value': 'Strasbourg', 'count': 22, 'subFacets': []},\n",
       "    {'value': 'Clermont-Ferrand', 'count': 21, 'subFacets': []},\n",
       "    {'value': 'Nancy', 'count': 18, 'subFacets': []},\n",
       "    {'value': 'Nice', 'count': 18, 'subFacets': []},\n",
       "    {'value': 'Dijon', 'count': 13, 'subFacets': []},\n",
       "    {'value': 'Orléans', 'count': 11, 'subFacets': []},\n",
       "    {'value': 'Toulon', 'count': 11, 'subFacets': []},\n",
       "    {'value': 'Caen', 'count': 8, 'subFacets': []},\n",
       "    {'value': 'La Rochelle', 'count': 8, 'subFacets': []}]},\n",
       "  {'id': 'facet_natures',\n",
       "   'entries': [{'value': 'Education', 'count': 599, 'subFacets': []},\n",
       "    {'value': 'Facility', 'count': 392, 'subFacets': []},\n",
       "    {'value': 'Unite mixte', 'count': 314, 'subFacets': []},\n",
       "    {'value': 'PME', 'count': 313, 'subFacets': []},\n",
       "    {'value': 'ETI', 'count': 260, 'subFacets': []},\n",
       "    {'value': 'Government', 'count': 151, 'subFacets': []},\n",
       "    {'value': 'Company', 'count': 137, 'subFacets': []},\n",
       "    {'value': 'GE', 'count': 134, 'subFacets': []},\n",
       "    {'value': 'Nonprofit', 'count': 125, 'subFacets': []},\n",
       "    {'value': 'Unite propre', 'count': 125, 'subFacets': []},\n",
       "    {'value': 'Other', 'count': 60, 'subFacets': []},\n",
       "    {'value': 'Healthcare', 'count': 39, 'subFacets': []},\n",
       "    {'value': 'Archive', 'count': 36, 'subFacets': []},\n",
       "    {'value': 'Structures Federatives de Recherche',\n",
       "     'count': 21,\n",
       "     'subFacets': []},\n",
       "    {'value': 'Ecole doctorale', 'count': 20, 'subFacets': []},\n",
       "    {'value': 'Université', 'count': 11, 'subFacets': []},\n",
       "    {'value': \"Ecole d'ingénieurs publique (hors tutelle MESR) ou privée\",\n",
       "     'count': 6,\n",
       "     'subFacets': []},\n",
       "    {'value': \"Communauté d'universités et établissements\",\n",
       "     'count': 3,\n",
       "     'subFacets': []},\n",
       "    {'value': 'Departement (niveau 3 - structure collaborative)',\n",
       "     'count': 3,\n",
       "     'subFacets': []},\n",
       "    {'value': 'Unite mixte internationale', 'count': 3, 'subFacets': []}]},\n",
       "  {'id': 'facet_level',\n",
       "   'entries': [{'value': 'Unité de recherche', 'count': 441, 'subFacets': []},\n",
       "    {'value': 'PME', 'count': 233, 'subFacets': []},\n",
       "    {'value': 'ETI', 'count': 178, 'subFacets': []},\n",
       "    {'value': 'GE', 'count': 118, 'subFacets': []},\n",
       "    {'value': 'Établissement public national à caractère scientifique culturel et professionnel (EPCSCP)',\n",
       "     'count': 89,\n",
       "     'subFacets': []},\n",
       "    {'value': 'Institution sans but lucratif', 'count': 52, 'subFacets': []},\n",
       "    {'value': 'Structure fédérative', 'count': 29, 'subFacets': []},\n",
       "    {'value': 'École doctorale', 'count': 20, 'subFacets': []},\n",
       "    {'value': 'Établissement public administratif',\n",
       "     'count': 15,\n",
       "     'subFacets': []},\n",
       "    {'value': 'Etablissement public à caractère industriel et commercial (EPIC)',\n",
       "     'count': 13,\n",
       "     'subFacets': []},\n",
       "    {'value': 'Equipe interne', 'count': 12, 'subFacets': []},\n",
       "    {'value': \"Autre établissement public national d'enseignement\",\n",
       "     'count': 10,\n",
       "     'subFacets': []},\n",
       "    {'value': 'Établissement public de santé', 'count': 8, 'subFacets': []},\n",
       "    {'value': 'Autres privés', 'count': 6, 'subFacets': []},\n",
       "    {'value': 'Collectivité territoriale ou assimilé',\n",
       "     'count': 4,\n",
       "     'subFacets': []},\n",
       "    {'value': 'Fondation', 'count': 4, 'subFacets': []},\n",
       "    {'value': \"Groupement d'intérêt public (GIP)\",\n",
       "     'count': 4,\n",
       "     'subFacets': []},\n",
       "    {'value': \"Administration de l'état\", 'count': 3, 'subFacets': []},\n",
       "    {'value': 'Association', 'count': 3, 'subFacets': []},\n",
       "    {'value': 'Structure internationale', 'count': 3, 'subFacets': []}]},\n",
       "  {'id': 'facet_localisations',\n",
       "   'entries': [{'value': 'Île-de-France', 'count': 423, 'subFacets': []},\n",
       "    {'value': 'Paris (agglomération)', 'count': 416, 'subFacets': []},\n",
       "    {'value': 'Versailles (académie)', 'count': 205, 'subFacets': []},\n",
       "    {'value': 'Auvergne-Rhône-Alpes', 'count': 168, 'subFacets': []},\n",
       "    {'value': 'Paris (75)', 'count': 167, 'subFacets': []},\n",
       "    {'value': 'Paris (académie)', 'count': 167, 'subFacets': []},\n",
       "    {'value': 'Occitanie', 'count': 134, 'subFacets': []},\n",
       "    {'value': \"Provence-Alpes-Côte d'Azur\", 'count': 99, 'subFacets': []},\n",
       "    {'value': 'Lyon (académie)', 'count': 91, 'subFacets': []},\n",
       "    {'value': 'Hauts-de-Seine (92)', 'count': 87, 'subFacets': []},\n",
       "    {'value': 'Bretagne', 'count': 82, 'subFacets': []},\n",
       "    {'value': 'Rennes (académie)', 'count': 82, 'subFacets': []},\n",
       "    {'value': 'Nouvelle-Aquitaine', 'count': 77, 'subFacets': []},\n",
       "    {'value': 'Rhône (69)', 'count': 77, 'subFacets': []},\n",
       "    {'value': 'Montpellier (académie)', 'count': 76, 'subFacets': []},\n",
       "    {'value': 'Lyon (agglomération)', 'count': 75, 'subFacets': []},\n",
       "    {'value': 'Aix-Marseille (académie)', 'count': 69, 'subFacets': []},\n",
       "    {'value': 'Essonne (91)', 'count': 64, 'subFacets': []},\n",
       "    {'value': 'Grand Est', 'count': 60, 'subFacets': []},\n",
       "    {'value': 'Bouches-du-Rhône (13)', 'count': 59, 'subFacets': []}]}]}"
      ]
     },
     "execution_count": 128,
     "metadata": {},
     "output_type": "execute_result"
    }
   ],
   "source": [
    "url_structures = \"https://scanr-api.enseignementsup-recherche.gouv.fr/api/v2/structures/search\"\n",
    "my_query = \"carbon\\ waters\"\n",
    "\n",
    "params = {\n",
    "   \"pageSize\": 12,\n",
    "   \"query\": my_query\n",
    "}\n",
    "\n",
    "scanr_output = requests.post(url_structures, json=params).json()\n",
    "scanr_output"
   ]
  },
  {
   "cell_type": "code",
   "execution_count": 113,
   "metadata": {
    "ExecuteTime": {
     "end_time": "2020-12-02T15:29:58.254005Z",
     "start_time": "2020-12-02T15:29:58.245514Z"
    }
   },
   "outputs": [
    {
     "data": {
      "text/plain": [
       "'833714694'"
      ]
     },
     "execution_count": 113,
     "metadata": {},
     "output_type": "execute_result"
    }
   ],
   "source": [
    "id = scanr_output['results'][0]['value']['id']\n",
    "id"
   ]
  },
  {
   "cell_type": "code",
   "execution_count": 114,
   "metadata": {
    "ExecuteTime": {
     "end_time": "2020-12-02T15:30:00.844090Z",
     "start_time": "2020-12-02T15:30:00.763827Z"
    }
   },
   "outputs": [
    {
     "data": {
      "text/plain": [
       "\"Carbon Waters est une société de graphène. Nous avons développé et breveté un procédé unique pour produire du graphène monocouche dans l'eau. Contrairement aux dispersions d'oxyde de graphène, notre graphène est pur, stable et sûr à utiliser dans des contextes de recherche et industriels.\""
      ]
     },
     "execution_count": 114,
     "metadata": {},
     "output_type": "execute_result"
    }
   ],
   "source": [
    "scanr_from_id_to_en_description(id)"
   ]
  },
  {
   "cell_type": "code",
   "execution_count": 116,
   "metadata": {
    "ExecuteTime": {
     "end_time": "2020-12-02T15:34:06.641355Z",
     "start_time": "2020-12-02T15:34:06.631390Z"
    }
   },
   "outputs": [
    {
     "data": {
      "text/plain": [
       "dict_keys(['request', 'total', 'results', 'facets'])"
      ]
     },
     "execution_count": 116,
     "metadata": {},
     "output_type": "execute_result"
    }
   ],
   "source": [
    "scanr_output.keys()"
   ]
  },
  {
   "cell_type": "code",
   "execution_count": 118,
   "metadata": {
    "ExecuteTime": {
     "end_time": "2020-12-02T15:34:37.834206Z",
     "start_time": "2020-12-02T15:34:37.821824Z"
    }
   },
   "outputs": [
    {
     "data": {
      "text/plain": [
       "dict_keys(['query', 'page', 'pageSize', 'lang', 'searchFields', 'filters', 'sourceFields', 'aggregations'])"
      ]
     },
     "execution_count": 118,
     "metadata": {},
     "output_type": "execute_result"
    }
   ],
   "source": [
    "scanr_output['request'].keys()"
   ]
  },
  {
   "cell_type": "code",
   "execution_count": 120,
   "metadata": {
    "ExecuteTime": {
     "end_time": "2020-12-02T15:37:54.276286Z",
     "start_time": "2020-12-02T15:37:54.256903Z"
    }
   },
   "outputs": [
    {
     "data": {
      "text/plain": [
       "int"
      ]
     },
     "execution_count": 120,
     "metadata": {},
     "output_type": "execute_result"
    }
   ],
   "source": [
    "type(scanr_output['total'])"
   ]
  },
  {
   "cell_type": "code",
   "execution_count": 157,
   "metadata": {
    "ExecuteTime": {
     "end_time": "2020-12-02T15:59:04.720987Z",
     "start_time": "2020-12-02T15:59:04.710517Z"
    },
    "scrolled": true
   },
   "outputs": [
    {
     "name": "stdout",
     "output_type": "stream",
     "text": [
      "What's in list 'results'? A number of dict items with the same 2 keys\n",
      "\n",
      "item 0 in results has keys: dict_keys(['highlights', 'value'])\n",
      "length of list highlights: 6\n",
      "random elements of highlights: {'type': 'websites.webPages.content', 'value': 'Unit\\nFormulations Unit\\nFind solutions\\nContact\\n<strong>Carbon</strong> <strong>Waters</strong>\\nPioneering an innovative graphene form\\nOur Team'}\n",
      "\n",
      "what's in dict 'value': dict_keys(['id', 'kind', 'label', 'nature', 'isFrench', 'address', 'level'])\n",
      "in 'id' inside values: 833714694\n",
      "\n",
      "\n",
      "item 1 in results has keys: dict_keys(['highlights', 'value'])\n",
      "length of list highlights: 4\n",
      "random elements of highlights: {'type': 'publications.publication.title.default', 'value': 'Early spring mesopelagic <strong>carbon</strong> remineralization and transfer efficiency in the'}\n",
      "\n",
      "what's in dict 'value': dict_keys(['id', 'kind', 'label', 'acronym', 'nature', 'isFrench', 'address', 'level'])\n",
      "in 'id' inside values: 200812834V\n",
      "\n",
      "\n",
      "item 2 in results has keys: dict_keys(['highlights', 'value'])\n",
      "length of list highlights: 4\n",
      "random elements of highlights: {'type': 'publications.publication.title.default', 'value': 'accounting for land use in simulations of ecosystem <strong>carbon</strong> cycling in Africa'}\n",
      "\n",
      "what's in dict 'value': dict_keys(['id', 'kind', 'label', 'acronym', 'nature', 'isFrench', 'address'])\n",
      "in 'id' inside values: grid.410381.f\n",
      "\n",
      "\n"
     ]
    }
   ],
   "source": [
    "type(scanr_output['results'])\n",
    "len(scanr_output['results'])\n",
    "# results comes as a list with number of items equal to 'pageSize'\n",
    "\n",
    "print(\"What's in list 'results'? A number of dict items with the same 2 keys\\n\")\n",
    "      \n",
    "for i, item in enumerate(scanr_output['results'][:3]):\n",
    "    print(f\"item {i} in results has keys: {item.keys()}\")\n",
    "    # results yields pageSize items:\n",
    "        # of kind dict\n",
    "        # with 2 keys: highlights (list) and value (dict)\n",
    "        # each being a list\n",
    "    print(f\"length of list highlights: {len(item['highlights'])}\")\n",
    "    print(f\"random elements of highlights: {item['highlights'][len(item['highlights'])-1]}\\n\")\n",
    "\n",
    "    print(f\"what's in dict 'value': {item['value'].keys()}\")\n",
    "    print(f\"in 'id' inside values: {item['value']['id']}\")\n",
    "    print(\"\\n\")\n",
    "    \n"
   ]
  },
  {
   "cell_type": "code",
   "execution_count": 43,
   "metadata": {
    "ExecuteTime": {
     "end_time": "2020-12-03T12:50:45.571097Z",
     "start_time": "2020-12-03T12:50:45.523203Z"
    }
   },
   "outputs": [],
   "source": [
    "from deep4deep import text_retrieval"
   ]
  },
  {
   "cell_type": "code",
   "execution_count": 40,
   "metadata": {
    "ExecuteTime": {
     "end_time": "2020-12-03T12:49:33.421508Z",
     "start_time": "2020-12-03T12:49:33.027433Z"
    }
   },
   "outputs": [
    {
     "data": {
      "text/plain": [
       "'Carbon Waters is a graphene company, we have developed and patented a unique process to produce very high-quality graphene in water.'"
      ]
     },
     "execution_count": 40,
     "metadata": {},
     "output_type": "execute_result"
    }
   ],
   "source": [
    "from bs4 import BeautifulSoup\n",
    "\n",
    "def get_meta_description(website):\n",
    "    '''\n",
    "    given a website url, returns the description from the meta tags\n",
    "    returns: string\n",
    "    '''\n",
    "    website = 'https://www.carbon-waters.com/'\n",
    "\n",
    "    response = requests.get(website)\n",
    "    soup = BeautifulSoup(response.content, \"html.parser\")\n",
    "    description = soup.find(\"meta\", property=\"og:description\")[\"content\"]\n",
    "\n",
    "    return description\n",
    "get_meta_description(\"www.carbon-waters.com\")"
   ]
  },
  {
   "cell_type": "code",
   "execution_count": 45,
   "metadata": {
    "ExecuteTime": {
     "end_time": "2020-12-03T12:51:22.090335Z",
     "start_time": "2020-12-03T12:51:20.985822Z"
    }
   },
   "outputs": [
    {
     "data": {
      "text/plain": [
       "'Carbon Waters is a graphene company, we have developed and patented a unique process to produce very high-quality graphene in water.'"
      ]
     },
     "execution_count": 45,
     "metadata": {},
     "output_type": "execute_result"
    }
   ],
   "source": [
    "text_retrieval.get_meta_description(\"http://www.carbon-waters.com\")"
   ]
  },
  {
   "cell_type": "code",
   "execution_count": 1,
   "metadata": {
    "ExecuteTime": {
     "end_time": "2020-12-03T09:58:48.768304Z",
     "start_time": "2020-12-03T09:58:48.745124Z"
    }
   },
   "outputs": [
    {
     "name": "stdout",
     "output_type": "stream",
     "text": [
      "im in init.py\n"
     ]
    }
   ],
   "source": [
    "import deep4deep\n",
    "import os"
   ]
  },
  {
   "cell_type": "code",
   "execution_count": 14,
   "metadata": {
    "ExecuteTime": {
     "end_time": "2020-12-03T10:06:17.631768Z",
     "start_time": "2020-12-03T10:06:17.621585Z"
    }
   },
   "outputs": [],
   "source": [
    "import requests\n",
    "import re\n",
    "\n",
    "def import_dealroom_news(company_id=214127, n_news=10):\n",
    "    '''\n",
    "    queries the Dealroom API for news and returns a clean string, in English, \n",
    "    comprising up to n_news most recent news. For each, are returned:\n",
    "    title, summary, name of feed, content with all html tags removed, names of categories\n",
    "    company_id: integer, Dealroom company id\n",
    "    n_news: max quantity of news to retrieve\n",
    "    returns: as one single concatenated string, empty if the API returned an error\n",
    "    '''\n",
    "    URL = 'https://api.dealroom.co/api/v1'\n",
    "\n",
    "    APIKEY = os.getenv('DEALROOMAPIKEY')\n",
    "    if not APIKEY:\n",
    "        print(\"The API key could not be retrieved correctly\")\n",
    "        \n",
    "    response = requests.get(\n",
    "                    url = f'{URL}/companies/{company_id}/news',\\\n",
    "                    auth = (APIKEY, '')\n",
    "                    )\n",
    "\n",
    "    return_string = []\n",
    "    try: \n",
    "        json = response.json()\n",
    "        for item in json['items']:\n",
    "            return_string.append(item['title'])    \n",
    "            return_string.append(item['summary'])\n",
    "            return_string.append(item['feed']['name'])\n",
    "            content = re.sub(r\"<.+?>\", '', item['content']) # remove all HTML tags from content\n",
    "            return_string.append(content)\n",
    "            categories_names = ' '.join([i['name'] for i in item['categories']])\n",
    "            return_string.append(categories_names) \n",
    "        return return_string\n",
    "    except:\n",
    "        print(\"The Dealroom news API could not be queried\")\n",
    "        return return_string"
   ]
  },
  {
   "cell_type": "code",
   "execution_count": 15,
   "metadata": {
    "ExecuteTime": {
     "end_time": "2020-12-03T10:06:20.504032Z",
     "start_time": "2020-12-03T10:06:20.124476Z"
    }
   },
   "outputs": [
    {
     "data": {
      "text/plain": [
       "[\"Genfit's NASH drug fails a closely-watched PhIII showdown, adding one more setback to a plagued field\",\n",
       " \"Genfit's bid to make R&D history came to a crushing close on Monday as the French biotech acknowledged that its Phase III study of elafibranor failed to distinguish itself from placebo in treating NASH. The biotech had tried to prove that the drug would resolve NASH without fibrosis in a\",\n",
       " 'Endpoints News',\n",
       " 'Genfit’s bid to make R&amp;D history came to a crushing close on Monday as the French biotech acknowledged that its Phase III study of elafibranor failed to distinguish itself from placebo in treating NASH.\\nPascal Prigent\\nThe biotech had tried to prove that the drug would resolve NASH without fibrosis in a population of more than 1,000 patients. But the data came up with a 19.2% response rate for the drug arm compared to a 14.7% rate for the placebo.\\nGenfit CEO Pascal Prigent put down the “disappointing” result to a high placebo response, though the drug arm didn’t appear to score all that high in the study.\\nThe CEO noted:\\nWe plan to share these detailed findings with the regulatory authorities in the coming months and with their guidance, determine a final decision regarding the continuation of the RESOLVE-IT trial. In parallel, we continue as planned with our NIS4TM and Phase 3 PBC (primary biliary cholangitis) programs, which are independent of our NASH program with elafibranor. We will provide updated guidance on our global corporate strategy later in the year, once we have more clarity on the regulatory implications of the RESOLVE-IT interim readout, as well as more visibility on the evolution of the impact of the worldwide pandemic on our ongoing studies.\\nLast year saw multiple setbacks in NASH, with Intercept as the sole exception to the rule. That left some analysts cautiously encouraging investors to look at Genfit, even though the odds were daunting.\\nSVB Leerink’s Pasha Sarraf had been on the pro-Genfit sidelines, calling this study “the most significant and volatile upcoming catalyst” they cover. “The risk/reward is not for the faint of heart.”\\nThere were also plenty of skeptics along the way, particularly after Genfit noted a Phase II NASH failure for GOLDEN-505 in 2015, then tried to explain it all away as a failure of the trial design.\\nThe failure leaves Intercept {$ICPT} as the sole winner in this field so far, with Ocaliva under review for a label expansion on NASH.',\n",
       " '',\n",
       " \"France's NASH contender Genfit leaps onto Nasdaq with $135M IPO\",\n",
       " 'As it gears up for the late-stage readout of its lead experimental NASH drug, France’s Genfit is vaulting onto the Nasdaq on Wednesday with a $135 million IPO under the symbol $GNFT.',\n",
       " 'Endpoints News',\n",
       " 'As it gears up for the late-stage readout of its lead experimental NASH drug, France’s Genfit is vaulting onto the Nasdaq on Wednesday with a $135 million IPO under the symbol $GNFT.\\nThe Lille-based company, which is already listed on Euronext Paris also as $GNFT, spelled out the terms of the offering on Tuesday. The company has offered 6.15 million American Depositary Shares priced $20.32 per ADS, and concurrently secured a private placement of 500,000 ordinary shares in Europe at €18.00 per share. In total, the total offering is valued at roughly $135.1 million before commissions and expenses.\\nGenfit’s future hinges on the regulatory fate of its drug — elafibranor — for two main liver disorders: NASH and primary biliary cholangitis (PBC).\\nThe bigger, more lucrative indication is NASH, an untreated fatty liver disease that has ravaged the developed world and sparked a flurry of drug development. It is characterized by a buildup of excess fat in the liver that induces chronic inflammation and eventually culminates in scarring that can lead to cirrhosis, liver failure, cancer and death. The disease, which is typically associated with obesity and diabetes, is set to eclipse hepatitis C as the leading reason for liver transplants by 2020.\\nDubbed the silent disease, it is hard to diagnose in the early stages, making it difficult to estimate its prevalence, but studies show that it afflicts up to 12% of the adult population in developed countries. Although there are no approved drugs for the disease, the size of the NASH market is expected to cross $20 billion by 2025.\\nWhile other major NASH contenders — Gilead $GILD (fail in Phase III) and Intercept $ICPT (mixed win in Phase III) — have disclosed the top line numbers of their late-stage trials, Genfit is expected to come out with its Phase III interim results by the end of 2019.\\nMeanwhile, positive mid-stage data on the use of the drug in PBC — a rare and progressive liver disease — were announced last December.\\nAnother NASH hopeful, the Merck-partnered NGM Biopharma, on Monday broke out the terms of its IPO. The company, which plans to list on the Nasdaq under the symbol $NGM, is offering about 6.7 million shares priced between $14 to $16, according to the filing.',\n",
       " 'IPOs',\n",
       " 'Genfit readies its $120M IPO; Karyopharm shares boosted after an FDA delay for selinexor',\n",
       " '→ Weeks after officially unveiling its plan to list on the Nasdaq, Lille-based liver drug developer Genfit on Thursday said it would offer 5,000,000 shares in the offering, but is still determining the price (per ADS) range for the offering, having just begun the book building process. In a filing posted separately, the company said it expected to generate net proceeds of about €106.0 million ($119.2 million), assuming an offering price of $26.33 per ADS in the US offering. The future of the company — which is already listed on Euronext Paris under the symbol $GNFT — hinges on the regulatory fate of its drug elafibranor for two main liver disorders — NASH and primary biliary cholangitis (PBC). Genfit is expected to come out with its Phase III interim NASH results by the end of 2019, while positive mid-stage data on the use of the drug in PBC was announced last December.',\n",
       " 'Endpoints News',\n",
       " '→ Weeks after officially unveiling its plan to list on the Nasdaq, Lille-based liver drug developer Genfit on Thursday said it would offer 5,000,000 shares in the offering, but is still determining the price (per ADS) range for the offering, having just begun the book building process. In a filing posted separately, the company said it expected to generate net proceeds of about €106.0 million ($119.2 million), assuming an offering price of $26.33 per ADS in the US offering. The future of the company — which is already listed on Euronext Paris under the symbol $GNFT — hinges on the regulatory fate of its drug elafibranor for two main liver disorders — NASH and primary biliary cholangitis (PBC). Genfit is expected to come out with its Phase III interim NASH results by the end of 2019, while positive mid-stage data on the use of the drug in PBC was announced last December.\\n→ Maybe all isn’t lost for Karyopharm $KPTI after all. The biotech reported Friday morning that the FDA has extended its review of selinexor by 3 months. Normally that doesn’t amount to more than a speed bump for a company. But after the FDA insider review offered some heavy criticism of the drug and an FDA panel weighed in against it — with some notable support nevertheless in a fairly close vote — investors liked the implications that the agency had some thinking to do. Its shares shot up 20% this morning. The new PDUFA date is July 6.\\n→ Norway’s Targovax has set up a new collaboration with two prestigious research groups. The Parker Institute for Cancer Immunotherapy and the Cancer Research Institute are both signing on to work on Targovax’s TG mutant RAS vaccine. They’ll be working on combo studies for pancreatic cancer.',\n",
       " 'Protocols',\n",
       " 'While we wait for NASH data, Genfit reports positive elafibranor data in PBC patients',\n",
       " 'As a late-stage data showdown from NASH drug developers Gilead $GILD, Intercept $ICPT and France’s Genfit looms, the Lille-based drug developer on Thursday reported positive phase II data on its drug elafibranor in patients with primary biliary cholangitis (PBC), a rare and progressive liver disease.',\n",
       " 'Endpoints News',\n",
       " 'As a late-stage data showdown from NASH drug developers Gilead $GILD, Intercept $ICPT and France’s Genfit looms, the Lille-based drug developer on Thursday reported positive phase II data on its drug elafibranor in patients with primary biliary cholangitis (PBC), a rare and progressive liver disease.\\nThe 12-week phase II trial tested two doses of the dual PPARα/δ agonist elafibranor against a placebo in PBC patients that did not derive adequate benefit from standard treatment, ursodeoxycholic acid. Both doses of the once-daily treatment conferred a statistically significant decrease in serum alkaline phosphatase (ALP) levels. High ALP typically indicates a liver in distress.\\nJean-François Mouney, Genfit CEO\\nData showed a fall of 48% for patients who got the 80 mg dose (p&lt;0.001), and drop of 41% in those who received the 120 mg dose (p&lt;0.001), while those on placebo saw their ALP levels edge 3% higher. Alongside, the drug met the composite secondary endpoint — which has been previously used for regulatory approval — and induced improvement in other PBC markers, the company said, adding that its drug had been well tolerated.\\nThat’s enough for Genfit chief Jean-François Mouney to declare the drug ready for late-stage development in PBC, noting, “the strength of evidence on the surrogate endpoint for registration as well as the potential benefits on itching qualify the program to rapidly advance.”\\nVelimir Luketic, a researcher from the Virginia Commonwealth University School of Medicine added: “A substantial number of patients do not benefit from the currently available therapies – UDCA or OCA (Ocaliva) – either because of lack of response or intolerable side effects. The data emerging from this clinical trial are very impressive, particularly the substantial reduction in ALP in just 12 weeks.”\\nPhase III data on elafibranor for NASH — in what is expected to be a far more lucrative market — is expected in 2019. The biopharma Intercept, whose NASH drug-in-development is already approved for PBC under the name Ocaliva, has brought in nearly $125 million in sales in the first nine months of this year, while CymaBay’s $CBAY PPAR agonist seladelpar entered late-stage development in October for PBC.\\nLast month, Genfit announced plans to list itself in the United States.',\n",
       " 'Results',\n",
       " 'Solid Phase II Performance for French Autoimmune Liver Disease Drug',\n",
       " 'Genkyotex’s small molecule therapy had encouraging short-term effects on patients with the autoimmune liver disease primary biliary cholangitis in a Phase II trial.',\n",
       " 'Labiotech.eu',\n",
       " 'Genkyotex’s small molecule therapy had encouraging short-term effects on patients with the autoimmune liver disease primary biliary cholangitis in a Phase II trial.\\nOver six weeks, the drug reduced the blood levels of a liver disease biomarker molecule by up to 23% in 92 participants. In patients with late-stage disease, who have few treatments available, the reduction was even bigger, up to 29%.\\nThe trial will monitor enrolled patients for a total of 24 weeks, with full results expected in Spring 2019. The patients recruited into the trial had not responded to ursodeoxycholic acid, a common treatment for the disease. They are the most likely to experience cirrhosis and require liver transplants, and are therefore in need of new treatments.\\nPrimary biliary cholangitis is an autoimmune disorder where the bile ducts are attacked by the immune system and get inflamed. This means that less bile can leave the liver, causing a buildup. This then leads to liver damage, and eventually liver cirrhosis, and sometimes requires transplantation.   \\n\\nThe French company’s lead candidate is designed to treat primary biliary cholangitis by inhibiting proteins known as NOX enzymes. These enzymes are central to many disease pathologies as they produce molecules called reactive oxygen species, too much of which can damage the liver. \\nTo finance an extension study to this Phase II trial, the company, listed on Euronext, raised €7.5M of further capital in August.\\nGenkyotex is also testing the same drug in a Phase II trial to treat kidney damage induced by type 1 diabetes. This is a confident step for the company after the Phase II failure of the drug in kidney damage caused by type 2 diabetes. The company also expects to enroll patients in 2019 for a Phase II trial of the same drug in patients with the lung disease idiopathic pulmonary fibrosis.\\nOther treatments are in development for primary biliary cholangitis, though with different mechanisms of action. Last year, the FDA released a safety alert about US biotech Intercept’s FDA-approved treatment Ocaliva, whose incorrect dosage had caused patient deaths. However, the French company Genfit launched a Phase II trial of its lead candidate in the autoimmune liver disease in the same year. \\n\\nImages from Shutterstock\\nThe post Solid Phase II Performance for French Autoimmune Liver Disease Drug appeared first on Labiotech.eu.',\n",
       " 'Medical Autoimmune Disease France Genkyotex Liver disease',\n",
       " 'The European Fight Against NASH, The Silent Liver Disease',\n",
       " 'Today is the First International NASH Day, and to mark the occasion, we bring you an update on Europe’s efforts to tackle this largely unrecognized liver disease that currently has no treatment and affects almost 12% of the adult population in developed countries worldwide.',\n",
       " 'Labiotech.eu',\n",
       " 'Today is the First International NASH Day, and to mark the occasion, we bring you an update on Europe’s efforts to tackle this largely unrecognized liver disease that currently has no treatment and affects almost 12% of the adult population in developed countries worldwide.\\nNASH: The Silent Killer\\nNASH or non-alcoholic steatohepatitis is the most severe form of non-alcoholic fatty liver disease (NAFLD), characterized by an abnormal buildup of fat in the liver. In some people, this progresses to inflammation, hepatocyte degradation, and fibrosis. NASH is very often brought about by lifestyle choices, for example, chronic high sugar and high fat intake and lack of exercise. Unlike other fatty liver diseases, NASH is not caused by alcohol abuse or side effects of medication.\\nNASH is a chronic yet silent disease, meaning that most patients live with it for many years without experiencing symptoms. However, undiagnosed NASH can progress to more severe conditions, including advanced fibrosis, cirrhosis, liver failure, or liver cancer. The consequences of NASH also extend far beyond the liver, affecting in particular the cardiovascular system.\\n\\nCurrent approaches to managing NASH involve lifestyle changes such as significant sustained weight loss and exercise, as well as the use of diabetic and cholesterol-lowering medications. In severe cases, liver transplantation may be the only hope. However, this is a risky surgery, and not all patients can access it.\\nObesity and type 2 diabetes are by far the greatest risk factors for NASH, and in parallel with these epidemics, the worldwide prevalence of NASH is expected to increase by 63% between 2015 and 2030. NASH is also expected to be the number one indication for liver transplantation worldwide by as early as 2020. These scenarios will further increase the prevalence of cirrhosis, end-stage liver disease and hepatocellular carcinoma, worsening the burden of NASH on national healthcare costs.\\nWhat is European Biotech Doing? \\nNASH is a multifaceted disease with several stages that occur along a continuum, characterized by metabolic dysfunction, inflammation, and fibrosis. While most previous attempts to treat NASH have targeted the metabolic aspect, for example, through the repurposing of insulin desensitizers such as metformin, many of the current efforts address inflammation and/or fibrosis, and this may be because these stages of the disease represent the patients with the greatest unmet need.\\nLet’s take a look at the most advanced or unique strategies currently underway in the race to develop the first ever treatment for NASH, whose annual market is estimated at a whopping €37B.\\nInhibition of Fibrosis and Inflammation \\nTargeting the fibrosis and inflammation aspects of NASH is expected to slow down or halt disease progression. Several companies are exploring this approach in a number of different ways.\\nFrench biotech Genfit is seen to be leading the fight against NASH with its peroxisome proliferator-activated receptor (PPAR) agonist Elafibranor. PPARs are a group of transcription factors that regulate cellular differentiation, development, and carbohydrate, fat, and protein metabolism. Elafibranor is positioned as a first-in-class drug to treat NASH, regardless of disease severity. It prevents the progression of fibrosis and inhibits cirrhosis, and was granted fast track designation for NASH by the FDA in 2014.\\nFollowing positive results from a Phase IIb study in adults, Genfit recently obtained FDA approval to test Elafribanor in children. The company is also running a Phase III clinical study called RESOLVE-IT, which it hopes will lead to conditional marketing approval sometime in 2020.\\nOther players in this category include Inventiva, in France, with its next-generation panPPAR agonist Lanifibranor. Although it lags behind Genfit in the race to cure NASH, Inventiva believes its approach to be more holistic given Lanifibranol’s activity on all PPAR isoforms, whereas Elafibranor activates only the alpha and beta isoforms. Lanifibranol has demonstrated safety and efficacy in Phase I and IIa studies, after several preclinical studies revealed its ability to inhibit fibrosis progression in liver tissue.\\n\\nGenkyotex, another French biotech, also has its eye on NASH with its NOX1 and NOX4 inhibitor GKT831, which significantly improved inflammation and liver enzyme levels in a previous clinical trial for diabetic nephropathy. The company hopes for promising results from an ongoing Phase II study in another liver disorder, primary biliary cholangitis, to strengthen its position in the NASH race by demonstrating that it has a novel clinically effective solution for liver fibrosis.\\nNeurovive Pharmaceuticals, in Sweden, recently entered the game with its non-immunosuppressive cyclophilin inhibitor NV556, which showed promising anti-fibrotic activity in experimental models of NASH, and is currently undergoing extensive preclinical development.\\nImmunotherapy\\nBy manipulating the immune system of individuals with NASH, players in this category are exploring new ways to control the inflammation and downstream fibrosis associated with NASH.\\nLondon-based Tiziana Life Sciences plans to take the NASH field by storm with its monoclonal antibody NI-1201, which it in-licensed from Novimmune last year. NI-1201 targets the interleukin-6 receptor, which is believed to be an important player in autoimmune and inflammatory disorders. Tiziana hopes to tackle NASH-driven inflammation by combining NI-1201 with foralumab, an anti-CD3 antibody also in-licensed from Novimmune.\\nBy binding CD3, foralumab prevents T cell activation, thus dampening the immune response and relieving inflammation. By creating a stomach-acid resistant formulation, Tiziana has overcome one of the greatest hurdles associated with oral antibodies, and is about to initiate a Phase II clinical study in NASH.\\n\\nChemomAb, in Israel, is also noteworthy when it comes to immunotherapy efforts against NASH. It has developed CM-101, a humanized antibody that targets a newly discovered protein that appears to be instrumental in the inflammation and fibrosis components of NASH. CM-101 is currently undergoing evaluation in a Phase I clinical study.\\nFarnesoid X Receptor Agonists\\nThe farnesoid X receptor (FXR) is a transcription factor that is expressed in the liver, intestine, kidney, and adipose tissue. It regulates triglyceride, cholesterol and bile acid metabolism. Selective synthetic FXR agonists can lower triglyceride levels, thus improving the cholesterol profile, and animal models of liver disorders have shown that these compounds can also slow NASH progression.\\nGS-9674, the lead candidate in German-based Phenex Pharmaceuticals’ FXR program, activates FXR to combat the abnormal fat metabolism seen in NAFLD and NASH, and is expected slow or even halt disease development. GS-9674 is currently undergoing Phase II evaluation in partnership with American drugmaker Gilead Sciences as part of an out-licensing deal made in 2015.\\nFrench biotech Enyo Pharma recently raised €40M to take their FXR agonist EYP001 into a Phase II study for NASH.\\n\\nFatty Acid Modulation\\nDutch-headquartered biotech NorthSea Therapeutics recently joined the party with icosabutate, an omega 3 fatty acid whose structure has been engineered to target key pathways involved in NASH. Icosabutate was in-licensed along with a library of other structurally engineered fatty acids (SEFAs) from Pronova Biopharma (Norway).\\nSEFA technology is expected to bring novel and unique ways to treat metabolic, inflammatory and fibrotic diseases, and icosabutate has proven preclinical ability to modulate key pathways associated with inflammatory liver disease, including NASH. With an established safety profile from other non-related Phase II trials and recently secured funding to the tune of €25M, isosabutate is anticipated to enter a Phase II trial for NASH by the end of 2018.\\n\\n\\nIrish-based Afimmune, a spinout of DS Biopharma (Ireland) has a similar approach with its bioactive lipid technology platform. Its lead candidate, AF102, was granted fast track designation by the FDA last year as an investigational treatment for NASH with liver fibrosis. AF102, which can be administered topically or orally, replenishes the body with semi-synthetic forms of certain fatty acids that are implicated in metabolic liver disorders and fibrosis.\\nStem Cell Therapy\\nBelgian biotech Promethera hopes to use stem cell therapy to cure advanced NASH. With its mesenchymal stem cell platform, HepaStem, it generates stem cells from healthy donated livers for intravenous administration. The injected cells enter a patient’s liver via the bloodstream, where they have the ability to counteract inflammation and inhibit cellular processes that lead to fibrosis.\\nPromethera further boosted its efforts against NASH earlier this year, with the takeover of Swiss biotech Baliopharm. This move gives it access to Baliopharm’s TNF receptor 1-specific inhibitor Atrosimab, which Promethera believes will augment HepaStem’s effects by specifically inhibiting TNFR1, leaving TNFR2 function intact. This is critical given TNFR1’s proven role in liver fibrosis, and TNFR2’s proven role in liver regeneration. Promethera will now test this drug in combination with HepaStem in animal models with hopes of creating a treatment that accommodates the complexity of NASH more than either drug can alone.\\nAlthough Promethera is far from marketing approval, their novel approach to curing NASH is intriguing, and we are looking forward to seeing the preclinical results of their combination therapy approach.\\nHow Soon Can We Expect the First Treatment for NASH?\\nThis is the €37B dollar question! Given the multifactorial nature of NASH, the lack of a treatment, and the market size, there is room for many players with different strategies in this field.\\nAs Europe’s first company to initiate a Phase III trial in NASH, Genfit are clear frontrunners in the race. However, European biotechs are not the only ones in the running. US biotech Intercept is currently testing its FXR agonist Ocaliva in Phase III trials for NASH. However, the same drug was associated with 19 deaths in its first year following FDA approval for primary biliary cholangitis. This setback puts a question mark over the safety of Ocaliva and its future in NASH treatment, and gives Genfit an edge in the global race for the first ever NASH treatment.\\nThe world’s First International NASH Day aims to increase public awareness about the disease, so that more at-risk individuals are diagnosed in its early stages. With the ever-increasing prevalence of NASH, the need for a treatment is more urgent than ever before, but which company or what strategy will be first to the finish line is anyone’s guess! If all goes well with Genfit’s Elafibranor trial, Europe might just win the race, and we could be looking at the first dedicated NASH treatment by 2020!\\n\\nKaren O’Hanlon Cohrt is a Science Writer and Editor with a PhD in biotechnology from Maynooth University, Ireland. She can be found on Twitter @KarenOHCohrt and you can check out her other work on her portfolio.\\n\\nImages via the NASH Education Program\\nThe post The European Fight Against NASH, The Silent Liver Disease appeared first on Labiotech.eu.',\n",
       " 'Reviews Inflammatory Disease Liver disease NASH',\n",
       " 'La startup Genfit a réalisé une levée de fonds de 33,9 millions d’euros',\n",
       " 'La start-up Genfit a finalisé une levée de fonds d’un montant de 33,9 millions d’euros en octobre 2016 auprès d’investisseurs.Genfit sur Twitter Genfit recrute peut-être : Consultez les offres d’emplois de startups / Publiez gratuitement vos annonces[/vc_column_text][/vc_column][/vc_row]…',\n",
       " 'AlloWeb.org',\n",
       " 'La start-up Genfit a finalisé une levée de fonds d’un montant de 33,9 millions d’euros en octobre 2016 auprès d’investisseurs.Genfit sur Twitter Genfit recrute peut-être : Consultez les offres d’emplois de startups / Publiez gratuitement vos annonces[/vc_column_text][/vc_column][/vc_row]…',\n",
       " '']"
      ]
     },
     "execution_count": 15,
     "metadata": {},
     "output_type": "execute_result"
    }
   ],
   "source": [
    "import_dealroom_news(214127)"
   ]
  },
  {
   "cell_type": "markdown",
   "metadata": {},
   "source": [
    "Steps: \n",
    "\n",
    "+ Create a df with id, name, site, metadata, dealroom news\n",
    "+ "
   ]
  },
  {
   "cell_type": "code",
   "execution_count": null,
   "metadata": {},
   "outputs": [],
   "source": []
  },
  {
   "cell_type": "code",
   "execution_count": null,
   "metadata": {},
   "outputs": [],
   "source": []
  }
 ],
 "metadata": {
  "kernelspec": {
   "display_name": "Python 3",
   "language": "python",
   "name": "python3"
  },
  "language_info": {
   "codemirror_mode": {
    "name": "ipython",
    "version": 3
   },
   "file_extension": ".py",
   "mimetype": "text/x-python",
   "name": "python",
   "nbconvert_exporter": "python",
   "pygments_lexer": "ipython3",
   "version": "3.8.5"
  },
  "toc": {
   "base_numbering": 1,
   "nav_menu": {},
   "number_sections": true,
   "sideBar": true,
   "skip_h1_title": false,
   "title_cell": "Table of Contents",
   "title_sidebar": "Contents",
   "toc_cell": false,
   "toc_position": {},
   "toc_section_display": true,
   "toc_window_display": false
  }
 },
 "nbformat": 4,
 "nbformat_minor": 4
}
