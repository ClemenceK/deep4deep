{
 "cells": [
  {
   "cell_type": "code",
   "execution_count": 1,
   "metadata": {
    "ExecuteTime": {
     "end_time": "2020-12-01T19:54:35.079983Z",
     "start_time": "2020-12-01T19:54:35.074466Z"
    }
   },
   "outputs": [],
   "source": [
    "def remove_numbers(text):\n",
    "    \"\"\"\n",
    "    removes numbers from text \n",
    "    text: string\n",
    "    returns text without numbers as a string\n",
    "    \"\"\"\n",
    "    return ''.join(char for char in text if not char.isdigit())"
   ]
  },
  {
   "cell_type": "code",
   "execution_count": 2,
   "metadata": {
    "ExecuteTime": {
     "end_time": "2020-12-01T19:54:35.466518Z",
     "start_time": "2020-12-01T19:54:35.456211Z"
    }
   },
   "outputs": [],
   "source": [
    "import string\n",
    "\n",
    "def remove_punctuation(text):\n",
    "    \"\"\"\n",
    "    removes punctuation from text \n",
    "    text: string\n",
    "    returns text without punctuation as a string\n",
    "    \"\"\"\n",
    "    for punctuation in string.punctuation:\n",
    "        text = text.replace(punctuation, '')\n",
    "    return text"
   ]
  },
  {
   "cell_type": "code",
   "execution_count": 4,
   "metadata": {
    "ExecuteTime": {
     "end_time": "2020-12-01T16:31:45.522916Z",
     "start_time": "2020-12-01T16:31:45.304420Z"
    }
   },
   "outputs": [
    {
     "name": "stdout",
     "output_type": "stream",
     "text": [
      "  system\r\n",
      "  3.8.5\r\n",
      "  3.8.5/envs/data\r\n",
      "  3.8.5/envs/deep4deep\r\n",
      "* NLP (set by PYENV_VERSION environment variable)\r\n",
      "  data\r\n",
      "  data/envs/NLP\r\n",
      "  deep4deep\r\n"
     ]
    }
   ],
   "source": [
    "! pyenv versions"
   ]
  },
  {
   "cell_type": "code",
   "execution_count": 3,
   "metadata": {
    "ExecuteTime": {
     "end_time": "2020-12-01T19:54:42.071346Z",
     "start_time": "2020-12-01T19:54:40.976243Z"
    }
   },
   "outputs": [],
   "source": [
    "from nltk.corpus import stopwords\n",
    "from nltk import word_tokenize\n",
    "\n",
    "def remove_stopwords(text):\n",
    "    \"\"\"\n",
    "    removes stopwords from text \n",
    "    text: string\n",
    "    returns text without stopwords as a string\n",
    "    \"\"\"\n",
    "    my_stopwords = set(stopwords.words('english')) \n",
    "    my_stopwords.add('•')\n",
    "    my_stopwords.add('’')\n",
    "    #adding special characters found in hello tomorrow reports\n",
    "    \n",
    "    tokens = word_tokenize(text) # correspond à un split\n",
    "    return [word for word in tokens if word not in my_stopwords]"
   ]
  },
  {
   "cell_type": "code",
   "execution_count": 4,
   "metadata": {
    "ExecuteTime": {
     "end_time": "2020-12-01T19:54:42.797112Z",
     "start_time": "2020-12-01T19:54:42.791778Z"
    }
   },
   "outputs": [],
   "source": [
    "from nltk.stem import WordNetLemmatizer\n",
    "\n",
    "def lemmatize(text):\n",
    "    \"\"\"\n",
    "    text: string\n",
    "    returns lemmatized text \n",
    "    \"\"\"\n",
    "    lemmatizer = WordNetLemmatizer()\n",
    "    return [lemmatizer.lemmatize(word) for word in text]"
   ]
  },
  {
   "cell_type": "code",
   "execution_count": 5,
   "metadata": {
    "ExecuteTime": {
     "end_time": "2020-12-01T19:54:44.609326Z",
     "start_time": "2020-12-01T19:54:44.603022Z"
    }
   },
   "outputs": [],
   "source": [
    "def text_preprocessing(text):\n",
    "    \"\"\"\n",
    "    applies preprocessing steps \n",
    "    text: string\n",
    "    returns preprocessed, tokenized text\n",
    "    \"\"\"\n",
    "    text = text.lower()\n",
    "    text = remove_numbers(text)\n",
    "    text = remove_punctuation(text)\n",
    "    text = remove_stopwords(text)\n",
    "    \n",
    "    return lemmatize(text)"
   ]
  },
  {
   "cell_type": "code",
   "execution_count": 8,
   "metadata": {
    "ExecuteTime": {
     "end_time": "2020-12-01T16:31:48.487959Z",
     "start_time": "2020-12-01T16:31:48.344128Z"
    }
   },
   "outputs": [
    {
     "name": "stdout",
     "output_type": "stream",
     "text": [
      "\u001b[1m\u001b[36mHello_tomorrow_files_EN\u001b[m\u001b[m/ NLP_requirements.txt\r\n",
      "\u001b[1m\u001b[36mHello_tomorrow_files_FR\u001b[m\u001b[m/ dummy_NLP.csv\r\n"
     ]
    }
   ],
   "source": [
    "ls ../raw_data/ "
   ]
  },
  {
   "cell_type": "code",
   "execution_count": 6,
   "metadata": {
    "ExecuteTime": {
     "end_time": "2020-12-01T19:55:08.584232Z",
     "start_time": "2020-12-01T19:55:08.176823Z"
    }
   },
   "outputs": [
    {
     "data": {
      "text/plain": [
       "0    OpenGamma creates a derivates analytics platfo...\n",
       "1    Exscientia Limited uses AI driven systems to a...\n",
       "2    Novelda develops their advanced Xethru sensor ...\n",
       "3    Tibber develops a mobile application to help i...\n",
       "4    eSmart Systems builds a SaaS platform using bi...\n",
       "5    Carbon Waters is a graphene company. We have d...\n",
       "Name: description, dtype: object"
      ]
     },
     "execution_count": 6,
     "metadata": {},
     "output_type": "execute_result"
    }
   ],
   "source": [
    "import pandas as pd\n",
    "\n",
    "X_test_unprocessed = pd.read_csv('../raw_data/dummy_NLP.csv', nrows=6)['description']\n",
    "# this character in line 1 or 2 was causing a utf 8 encoding issue: '–'. \n",
    "# Tibber line was a problem too (copy-pasted in whatsapp)\n",
    "#### =========== ENCODING PROBLEM TO SOLVE \n",
    "X_test_unprocessed"
   ]
  },
  {
   "cell_type": "code",
   "execution_count": 7,
   "metadata": {
    "ExecuteTime": {
     "end_time": "2020-12-01T19:55:15.024396Z",
     "start_time": "2020-12-01T19:55:12.449108Z"
    }
   },
   "outputs": [],
   "source": [
    "X_test_processed = [text_preprocessing(doc) for doc in X_test_unprocessed]\n"
   ]
  },
  {
   "cell_type": "code",
   "execution_count": 37,
   "metadata": {
    "ExecuteTime": {
     "end_time": "2020-12-01T20:22:18.388714Z",
     "start_time": "2020-12-01T20:17:31.224714Z"
    }
   },
   "outputs": [],
   "source": [
    "# Adding Hello_Tomorrow pdfs using pdfminer on command-line interface\n",
    "# using them as 'deeptech' source\n",
    "\n",
    "df = pd.DataFrame(columns=['text','is_deep_tech'])\n",
    "\n",
    "l = !ls ../raw_data/Hello_tomorrow_files_EN\n",
    "\n",
    "for i, file_name in enumerate(l):\n",
    "    file_path = '../raw_data/Hello_tomorrow_files_EN/' + file_name\n",
    "    file_text = !pdf2txt.py {file_path}\n",
    "    df.loc[file_name,'text'] = ' '.join(file_text)\n",
    "    df.loc[file_name,'is_deep_tech'] = 1"
   ]
  },
  {
   "cell_type": "code",
   "execution_count": 38,
   "metadata": {
    "ExecuteTime": {
     "end_time": "2020-12-01T20:23:08.406826Z",
     "start_time": "2020-12-01T20:22:18.392426Z"
    }
   },
   "outputs": [],
   "source": [
    "#Now doing the same for non-deeptech documents\n",
    "\n",
    "l_2 = !ls ../raw_data/Non_deeptech_EN\n",
    "\n",
    "for file_name in (l_2):\n",
    "    file_path = '../raw_data/Non_deeptech_EN/' + file_name\n",
    "    file_text = !pdf2txt.py {file_path}\n",
    "    df.loc[file_name,'text'] = ' '.join(file_text)\n",
    "    df.loc[file_name,'is_deep_tech'] = 0"
   ]
  },
  {
   "cell_type": "code",
   "execution_count": 39,
   "metadata": {
    "ExecuteTime": {
     "end_time": "2020-12-01T20:30:06.651017Z",
     "start_time": "2020-12-01T20:30:06.634024Z"
    }
   },
   "outputs": [
    {
     "data": {
      "text/html": [
       "<div>\n",
       "<style scoped>\n",
       "    .dataframe tbody tr th:only-of-type {\n",
       "        vertical-align: middle;\n",
       "    }\n",
       "\n",
       "    .dataframe tbody tr th {\n",
       "        vertical-align: top;\n",
       "    }\n",
       "\n",
       "    .dataframe thead th {\n",
       "        text-align: right;\n",
       "    }\n",
       "</style>\n",
       "<table border=\"1\" class=\"dataframe\">\n",
       "  <thead>\n",
       "    <tr style=\"text-align: right;\">\n",
       "      <th></th>\n",
       "      <th>text</th>\n",
       "      <th>is_deep_tech</th>\n",
       "    </tr>\n",
       "  </thead>\n",
       "  <tbody>\n",
       "    <tr>\n",
       "      <th>HT-BCG-The-Dawn-of-the-Deep-Tech-Ecosystem-Mar-2019.pdf</th>\n",
       "      <td>The Dawn  of the Deep  Tech Ecosystem   Boston...</td>\n",
       "      <td>1</td>\n",
       "    </tr>\n",
       "    <tr>\n",
       "      <th>Hello-Tomorrow-BCG-FROM-TECH-TO-DEEP-TECH.pdf</th>\n",
       "      <td>From Tech  to Deep Tech  Fostering collaborat...</td>\n",
       "      <td>1</td>\n",
       "    </tr>\n",
       "    <tr>\n",
       "      <th>How-to-build-a-succesful-deep-tech-acceleration-program-Hello-Tomorrow-Bpifrance-1.pdf</th>\n",
       "      <td>HOW TO BUILD    A SUCC...</td>\n",
       "      <td>1</td>\n",
       "    </tr>\n",
       "    <tr>\n",
       "      <th>BCG-After-the-Honeymoon-Ends-July-2019-R2_tcm108-222810.pdf</th>\n",
       "      <td>After the  Honeymoon  Ends  MAKING CORPORATE-S...</td>\n",
       "      <td>0</td>\n",
       "    </tr>\n",
       "    <tr>\n",
       "      <th>The-next-normal-the-recovery-will-be-digital.pdf</th>\n",
       "      <td>The Next Normal  The recovery will   be digita...</td>\n",
       "      <td>0</td>\n",
       "    </tr>\n",
       "    <tr>\n",
       "      <th>tech-for-good-summit-progress-report.pdf</th>\n",
       "      <td>TECH FOR GOOD  SUMMIT Progress report  July 20...</td>\n",
       "      <td>0</td>\n",
       "    </tr>\n",
       "  </tbody>\n",
       "</table>\n",
       "</div>"
      ],
      "text/plain": [
       "                                                                                                 text  \\\n",
       "HT-BCG-The-Dawn-of-the-Deep-Tech-Ecosystem-Mar-...  The Dawn  of the Deep  Tech Ecosystem   Boston...   \n",
       "Hello-Tomorrow-BCG-FROM-TECH-TO-DEEP-TECH.pdf        From Tech  to Deep Tech  Fostering collaborat...   \n",
       "How-to-build-a-succesful-deep-tech-acceleration...                          HOW TO BUILD    A SUCC...   \n",
       "BCG-After-the-Honeymoon-Ends-July-2019-R2_tcm10...  After the  Honeymoon  Ends  MAKING CORPORATE-S...   \n",
       "The-next-normal-the-recovery-will-be-digital.pdf    The Next Normal  The recovery will   be digita...   \n",
       "tech-for-good-summit-progress-report.pdf            TECH FOR GOOD  SUMMIT Progress report  July 20...   \n",
       "\n",
       "                                                   is_deep_tech  \n",
       "HT-BCG-The-Dawn-of-the-Deep-Tech-Ecosystem-Mar-...            1  \n",
       "Hello-Tomorrow-BCG-FROM-TECH-TO-DEEP-TECH.pdf                 1  \n",
       "How-to-build-a-succesful-deep-tech-acceleration...            1  \n",
       "BCG-After-the-Honeymoon-Ends-July-2019-R2_tcm10...            0  \n",
       "The-next-normal-the-recovery-will-be-digital.pdf              0  \n",
       "tech-for-good-summit-progress-report.pdf                      0  "
      ]
     },
     "execution_count": 39,
     "metadata": {},
     "output_type": "execute_result"
    }
   ],
   "source": [
    "df"
   ]
  },
  {
   "cell_type": "code",
   "execution_count": 46,
   "metadata": {
    "ExecuteTime": {
     "end_time": "2020-12-01T20:49:28.200060Z",
     "start_time": "2020-12-01T20:49:25.908811Z"
    }
   },
   "outputs": [],
   "source": [
    "#for the time being, using those pdf files as X_train \n",
    "from gensim.models import Word2Vec\n",
    "import csv\n",
    "\n",
    "df['processed_text'] = df['text'].map(text_preprocessing)\n",
    "\n",
    "my_embedding = Word2Vec(sentences=df['processed_text'], min_count=7, window=5)"
   ]
  },
  {
   "cell_type": "code",
   "execution_count": null,
   "metadata": {},
   "outputs": [],
   "source": []
  }
 ],
 "metadata": {
  "kernelspec": {
   "display_name": "Python 3",
   "language": "python",
   "name": "python3"
  },
  "language_info": {
   "codemirror_mode": {
    "name": "ipython",
    "version": 3
   },
   "file_extension": ".py",
   "mimetype": "text/x-python",
   "name": "python",
   "nbconvert_exporter": "python",
   "pygments_lexer": "ipython3",
   "version": "3.8.5"
  },
  "toc": {
   "base_numbering": 1,
   "nav_menu": {},
   "number_sections": true,
   "sideBar": true,
   "skip_h1_title": false,
   "title_cell": "Table of Contents",
   "title_sidebar": "Contents",
   "toc_cell": false,
   "toc_position": {},
   "toc_section_display": true,
   "toc_window_display": false
  }
 },
 "nbformat": 4,
 "nbformat_minor": 4
}
